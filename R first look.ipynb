{
 "cells": [
  {
   "cell_type": "code",
   "execution_count": 1,
   "metadata": {
    "collapsed": false
   },
   "outputs": [
    {
     "name": "stderr",
     "output_type": "stream",
     "text": [
      "Loading tidyverse: ggplot2\n",
      "Loading tidyverse: tibble\n",
      "Loading tidyverse: tidyr\n",
      "Loading tidyverse: readr\n",
      "Loading tidyverse: purrr\n",
      "Loading tidyverse: dplyr\n",
      "Conflicts with tidy packages ---------------------------------------------------\n",
      "filter(): dplyr, stats\n",
      "lag():    dplyr, stats\n",
      "\n",
      "Attaching package: 'plotly'\n",
      "\n",
      "The following object is masked from 'package:ggplot2':\n",
      "\n",
      "    last_plot\n",
      "\n",
      "The following object is masked from 'package:stats':\n",
      "\n",
      "    filter\n",
      "\n",
      "The following object is masked from 'package:graphics':\n",
      "\n",
      "    layout\n",
      "\n",
      "\n",
      "Attaching package: 'caret'\n",
      "\n",
      "The following object is masked from 'package:purrr':\n",
      "\n",
      "    lift\n",
      "\n"
     ]
    }
   ],
   "source": [
    "library(tidyverse)\n",
    "library(feather)\n",
    "library(plotly)\n",
    "library(caret)"
   ]
  },
  {
   "cell_type": "code",
   "execution_count": 2,
   "metadata": {
    "collapsed": false
   },
   "outputs": [
    {
     "name": "stderr",
     "output_type": "stream",
     "text": [
      "Warning message:\n",
      "\"Coercing int64 to double\"Warning message:\n",
      "\"Coercing int64 to double\"Warning message:\n",
      "\"Coercing int64 to double\"Warning message:\n",
      "\"Coercing int64 to double\"Warning message:\n",
      "\"Coercing int64 to double\"Warning message:\n",
      "\"Coercing int64 to double\"Warning message:\n",
      "\"Coercing int64 to double\"Warning message:\n",
      "\"Coercing int64 to double\"Warning message:\n",
      "\"Coercing int64 to double\""
     ]
    }
   ],
   "source": [
    "transactions <- feather::read_feather('..\\\\Data\\\\Datathon_2017\\\\Transactions_Frame')"
   ]
  },
  {
   "cell_type": "code",
   "execution_count": 3,
   "metadata": {
    "collapsed": false
   },
   "outputs": [
    {
     "name": "stderr",
     "output_type": "stream",
     "text": [
      "Warning message:\n",
      "\"Coercing int64 to double\"Warning message:\n",
      "\"Coercing int64 to double\"Warning message:\n",
      "\"Coercing int64 to double\"Warning message:\n",
      "\"Coercing int64 to double\"Warning message:\n",
      "\"Coercing int64 to double\"Warning message:\n",
      "\"Coercing int64 to double\"Warning message:\n",
      "\"Coercing int64 to double\"Warning message:\n",
      "\"Coercing int64 to double\""
     ]
    }
   ],
   "source": [
    "ATC_Lookup <- feather::read_feather('..\\\\Data\\\\Datathon_2017\\\\ATC_Lookup')\n",
    "ChronicIllness_LookUp <- feather::read_feather('..\\\\Data\\\\Datathon_2017\\\\ChronicIllness_LookUp')\n",
    "Drug_LookUp <- feather::read_feather('..\\\\Data\\\\Datathon_2017\\\\Drug_LookUp')\n",
    "patients <- feather::read_feather('..\\\\Data\\\\Datathon_2017\\\\patients')\n",
    "stores <- feather::read_feather('..\\\\Data\\\\Datathon_2017\\\\stores')"
   ]
  },
  {
   "cell_type": "code",
   "execution_count": 4,
   "metadata": {
    "collapsed": false
   },
   "outputs": [],
   "source": [
    "patient_ids <- transactions %>% select(Patient_ID) %>% unique\n",
    "sample_patient_id_ix <- sample(1:nrow(patient_ids))[1:(0.01*nrow(patient_ids))]\n",
    "sample_patient_ids <- patient_ids[sample_patient_id_ix,]"
   ]
  },
  {
   "cell_type": "code",
   "execution_count": 5,
   "metadata": {
    "collapsed": false
   },
   "outputs": [],
   "source": [
    "sample_transactions <- transactions %>% filter(Patient_ID %in% sample_patient_ids$Patient_ID)"
   ]
  },
  {
   "cell_type": "code",
   "execution_count": 6,
   "metadata": {
    "collapsed": false
   },
   "outputs": [
    {
     "data": {
      "text/html": [
       "124037"
      ],
      "text/latex": [
       "124037"
      ],
      "text/markdown": [
       "124037"
      ],
      "text/plain": [
       "[1] 124037"
      ]
     },
     "metadata": {},
     "output_type": "display_data"
    }
   ],
   "source": [
    "nrow(sample_transactions)"
   ]
  },
  {
   "cell_type": "code",
   "execution_count": 21,
   "metadata": {
    "collapsed": false
   },
   "outputs": [
    {
     "data": {
      "text/html": [
       "<table>\n",
       "<thead><tr><th scope=col>Patient_ID</th><th scope=col>Store_ID</th><th scope=col>Prescriber_ID</th><th scope=col>Drug_ID</th><th scope=col>SourceSystem_Code</th><th scope=col>Prescription_Week</th><th scope=col>Dispense_Week</th><th scope=col>Drug_Code</th><th scope=col>NHS_Code</th><th scope=col>IsDeferredScript</th><th scope=col>Script_Qty</th><th scope=col>Dispensed_Qty</th><th scope=col>MaxDispense_Qty</th><th scope=col>PatientPrice_Amt</th><th scope=col>WholeSalePrice_Amt</th><th scope=col>GovernmentReclaim_Amt</th><th scope=col>RepeatsTotal_Qty</th><th scope=col>RepeatsLeft_Qty</th><th scope=col>StreamlinedApproval_Code</th></tr></thead>\n",
       "<tbody>\n",
       "\t<tr><td>7         </td><td>1427      </td><td>25168     </td><td>3423      </td><td>F         </td><td>2011-07-10</td><td>2011-08-07</td><td>FLOM2     </td><td>4070F     </td><td>0         </td><td>30        </td><td>2         </td><td>NA        </td><td>50        </td><td>46.21     </td><td>0         </td><td>6         </td><td>4         </td><td>NA        </td></tr>\n",
       "</tbody>\n",
       "</table>\n"
      ],
      "text/latex": [
       "\\begin{tabular}{r|lllllllllllllllllll}\n",
       " Patient\\_ID & Store\\_ID & Prescriber\\_ID & Drug\\_ID & SourceSystem\\_Code & Prescription\\_Week & Dispense\\_Week & Drug\\_Code & NHS\\_Code & IsDeferredScript & Script\\_Qty & Dispensed\\_Qty & MaxDispense\\_Qty & PatientPrice\\_Amt & WholeSalePrice\\_Amt & GovernmentReclaim\\_Amt & RepeatsTotal\\_Qty & RepeatsLeft\\_Qty & StreamlinedApproval\\_Code\\\\\n",
       "\\hline\n",
       "\t 7          & 1427       & 25168      & 3423       & F          & 2011-07-10 & 2011-08-07 & FLOM2      & 4070F      & 0          & 30         & 2          & NA         & 50         & 46.21      & 0          & 6          & 4          & NA        \\\\\n",
       "\\end{tabular}\n"
      ],
      "text/plain": [
       "  Patient_ID Store_ID Prescriber_ID Drug_ID SourceSystem_Code Prescription_Week\n",
       "1 7          1427     25168         3423    F                 2011-07-10       \n",
       "  Dispense_Week Drug_Code NHS_Code IsDeferredScript Script_Qty Dispensed_Qty\n",
       "1 2011-08-07    FLOM2     4070F    0                30         2            \n",
       "  MaxDispense_Qty PatientPrice_Amt WholeSalePrice_Amt GovernmentReclaim_Amt\n",
       "1 NA              50               46.21              0                    \n",
       "  RepeatsTotal_Qty RepeatsLeft_Qty StreamlinedApproval_Code\n",
       "1 6                4               NA                      "
      ]
     },
     "metadata": {},
     "output_type": "display_data"
    }
   ],
   "source": [
    "sample_transactions %>% head(1)"
   ]
  },
  {
   "cell_type": "code",
   "execution_count": 20,
   "metadata": {
    "collapsed": false
   },
   "outputs": [
    {
     "data": {
      "text/html": [
       "<table>\n",
       "<thead><tr><th scope=col>MasterProductID</th><th scope=col>MasterProductCode</th><th scope=col>MasterProductFullName</th><th scope=col>BrandName</th><th scope=col>FormCode</th><th scope=col>StrengthCode</th><th scope=col>PackSizeNumber</th><th scope=col>GenericIngredientName</th><th scope=col>EthicalSubCategoryName</th><th scope=col>EthicalCategoryName</th><th scope=col>ManufacturerCode</th><th scope=col>ManufacturerName</th><th scope=col>ManufacturerGroupID</th><th scope=col>ManufacturerGroupCode</th><th scope=col>ChemistListPrice</th><th scope=col>ATCLevel5Code</th><th scope=col>ATCLevel4Code</th><th scope=col>ATCLevel3Code</th><th scope=col>ATCLevel2Code</th><th scope=col>ATCLevel1Code</th></tr></thead>\n",
       "<tbody>\n",
       "\t<tr><td>7777                     </td><td>SCH4                     </td><td>SQUIBB HC OINT 1% 50G 1  </td><td>SQUIBB HC                </td><td>OINT                     </td><td>1% 50G                   </td><td>1                        </td><td>HYDROCORTISONE ACETATE   </td><td>NON PBS Substitutable    </td><td>ETHICAL NON PBS          </td><td>BQ                       </td><td>BRISTOL-MYERS SQUIBB AUST</td><td>43                       </td><td>BMS                      </td><td>1.8609                   </td><td>A07EA                    </td><td>A07EA                    </td><td>A07E                     </td><td>A07                      </td><td>A                        </td></tr>\n",
       "</tbody>\n",
       "</table>\n"
      ],
      "text/latex": [
       "\\begin{tabular}{r|llllllllllllllllllll}\n",
       " MasterProductID & MasterProductCode & MasterProductFullName & BrandName & FormCode & StrengthCode & PackSizeNumber & GenericIngredientName & EthicalSubCategoryName & EthicalCategoryName & ManufacturerCode & ManufacturerName & ManufacturerGroupID & ManufacturerGroupCode & ChemistListPrice & ATCLevel5Code & ATCLevel4Code & ATCLevel3Code & ATCLevel2Code & ATCLevel1Code\\\\\n",
       "\\hline\n",
       "\t 7777                       & SCH4                       & SQUIBB HC OINT 1\\% 50G 1  & SQUIBB HC                  & OINT                       & 1\\% 50G                   & 1                          & HYDROCORTISONE ACETATE     & NON PBS Substitutable      & ETHICAL NON PBS            & BQ                         & BRISTOL-MYERS SQUIBB AUST  & 43                         & BMS                        & 1.8609                     & A07EA                      & A07EA                      & A07E                       & A07                        & A                         \\\\\n",
       "\\end{tabular}\n"
      ],
      "text/plain": [
       "  MasterProductID MasterProductCode MasterProductFullName    BrandName FormCode\n",
       "1 7777            SCH4              SQUIBB HC OINT 1% 50G 1  SQUIBB HC OINT    \n",
       "  StrengthCode PackSizeNumber GenericIngredientName  EthicalSubCategoryName\n",
       "1 1% 50G       1              HYDROCORTISONE ACETATE NON PBS Substitutable \n",
       "  EthicalCategoryName ManufacturerCode ManufacturerName         \n",
       "1 ETHICAL NON PBS     BQ               BRISTOL-MYERS SQUIBB AUST\n",
       "  ManufacturerGroupID ManufacturerGroupCode ChemistListPrice ATCLevel5Code\n",
       "1 43                  BMS                   1.8609           A07EA        \n",
       "  ATCLevel4Code ATCLevel3Code ATCLevel2Code ATCLevel1Code\n",
       "1 A07EA         A07E          A07           A            "
      ]
     },
     "metadata": {},
     "output_type": "display_data"
    }
   ],
   "source": [
    "Drug_LookUp %>% head(1)"
   ]
  },
  {
   "cell_type": "code",
   "execution_count": 9,
   "metadata": {
    "collapsed": false
   },
   "outputs": [
    {
     "data": {
      "text/html": [
       "<table>\n",
       "<thead><tr><th scope=col>MasterProductID</th><th scope=col>MasterProductCode</th><th scope=col>MasterProductFullName</th><th scope=col>BrandName</th><th scope=col>FormCode</th><th scope=col>StrengthCode</th><th scope=col>PackSizeNumber</th><th scope=col>GenericIngredientName</th><th scope=col>EthicalSubCategoryName</th><th scope=col>EthicalCategoryName</th><th scope=col>ManufacturerCode</th><th scope=col>ManufacturerName</th><th scope=col>ManufacturerGroupID</th><th scope=col>ManufacturerGroupCode</th><th scope=col>ChemistListPrice</th><th scope=col>ATCLevel5Code</th><th scope=col>ATCLevel4Code</th><th scope=col>ATCLevel3Code</th><th scope=col>ATCLevel2Code</th><th scope=col>ATCLevel1Code</th></tr></thead>\n",
       "<tbody>\n",
       "\t<tr><td>9417                          </td><td>ZOLO2                         </td><td>ZOLOFT TAB 50MG (AS HCL) 30 30</td><td>ZOLOFT                        </td><td>TAB                           </td><td>50MG (AS HCL)                 </td><td>30                            </td><td>SERTRALINE                    </td><td>PBS Substitutable             </td><td>ETHICAL PBS                   </td><td>PF                            </td><td>PFIZER AUSTRALIA PTY LTD      </td><td>192                           </td><td>PFIZER                        </td><td>7.27                          </td><td>N06AB06                       </td><td>N06AB                         </td><td>N06A                          </td><td>N06                           </td><td>N                             </td></tr>\n",
       "</tbody>\n",
       "</table>\n"
      ],
      "text/latex": [
       "\\begin{tabular}{r|llllllllllllllllllll}\n",
       " MasterProductID & MasterProductCode & MasterProductFullName & BrandName & FormCode & StrengthCode & PackSizeNumber & GenericIngredientName & EthicalSubCategoryName & EthicalCategoryName & ManufacturerCode & ManufacturerName & ManufacturerGroupID & ManufacturerGroupCode & ChemistListPrice & ATCLevel5Code & ATCLevel4Code & ATCLevel3Code & ATCLevel2Code & ATCLevel1Code\\\\\n",
       "\\hline\n",
       "\t 9417                           & ZOLO2                          & ZOLOFT TAB 50MG (AS HCL) 30 30 & ZOLOFT                         & TAB                            & 50MG (AS HCL)                  & 30                             & SERTRALINE                     & PBS Substitutable              & ETHICAL PBS                    & PF                             & PFIZER AUSTRALIA PTY LTD       & 192                            & PFIZER                         & 7.27                           & N06AB06                        & N06AB                          & N06A                           & N06                            & N                             \\\\\n",
       "\\end{tabular}\n"
      ],
      "text/plain": [
       "  MasterProductID MasterProductCode MasterProductFullName          BrandName\n",
       "1 9417            ZOLO2             ZOLOFT TAB 50MG (AS HCL) 30 30 ZOLOFT   \n",
       "  FormCode StrengthCode  PackSizeNumber GenericIngredientName\n",
       "1 TAB      50MG (AS HCL) 30             SERTRALINE           \n",
       "  EthicalSubCategoryName EthicalCategoryName ManufacturerCode\n",
       "1 PBS Substitutable      ETHICAL PBS         PF              \n",
       "  ManufacturerName         ManufacturerGroupID ManufacturerGroupCode\n",
       "1 PFIZER AUSTRALIA PTY LTD 192                 PFIZER               \n",
       "  ChemistListPrice ATCLevel5Code ATCLevel4Code ATCLevel3Code ATCLevel2Code\n",
       "1 7.27             N06AB06       N06AB         N06A          N06          \n",
       "  ATCLevel1Code\n",
       "1 N            "
      ]
     },
     "metadata": {},
     "output_type": "display_data"
    }
   ],
   "source": [
    "Drug_LookUp %>% filter(MasterProductID == 9417)"
   ]
  },
  {
   "cell_type": "code",
   "execution_count": 19,
   "metadata": {
    "collapsed": false
   },
   "outputs": [
    {
     "data": {
      "text/html": [
       "<table>\n",
       "<thead><tr><th scope=col>ATCLevel1Code</th><th scope=col>ATCLevel1Name</th><th scope=col>ATCLevel2Code</th><th scope=col>ATCLevel2Name</th><th scope=col>ATCLevel3Code</th><th scope=col>ATCLevel3Name</th><th scope=col>ATCLevel4Code</th><th scope=col>ATCLevel4Name</th><th scope=col>ATCLevel5Code</th><th scope=col>ATCLevel5Name</th></tr></thead>\n",
       "<tbody>\n",
       "\t<tr><td>A                                                      </td><td>ALIMENTARY TRACT AND METABOLISM                        </td><td>A01                                                    </td><td>STOMATOLOGICAL PREPARATIONS                            </td><td>A01A                                                   </td><td>STOMATOLOGICAL PREPARATIONS                            </td><td>A01AB                                                  </td><td>ANTIINFECTIVES AND ANTISEPTICS FOR LOCAL ORAL TREATMENT</td><td>A01AB03                                                </td><td>CHLORHEXIDINE                                          </td></tr>\n",
       "</tbody>\n",
       "</table>\n"
      ],
      "text/latex": [
       "\\begin{tabular}{r|llllllllll}\n",
       " ATCLevel1Code & ATCLevel1Name & ATCLevel2Code & ATCLevel2Name & ATCLevel3Code & ATCLevel3Name & ATCLevel4Code & ATCLevel4Name & ATCLevel5Code & ATCLevel5Name\\\\\n",
       "\\hline\n",
       "\t A                                                       & ALIMENTARY TRACT AND METABOLISM                         & A01                                                     & STOMATOLOGICAL PREPARATIONS                             & A01A                                                    & STOMATOLOGICAL PREPARATIONS                             & A01AB                                                   & ANTIINFECTIVES AND ANTISEPTICS FOR LOCAL ORAL TREATMENT & A01AB03                                                 & CHLORHEXIDINE                                          \\\\\n",
       "\\end{tabular}\n"
      ],
      "text/plain": [
       "  ATCLevel1Code ATCLevel1Name                   ATCLevel2Code\n",
       "1 A             ALIMENTARY TRACT AND METABOLISM A01          \n",
       "  ATCLevel2Name               ATCLevel3Code ATCLevel3Name              \n",
       "1 STOMATOLOGICAL PREPARATIONS A01A          STOMATOLOGICAL PREPARATIONS\n",
       "  ATCLevel4Code ATCLevel4Name                                          \n",
       "1 A01AB         ANTIINFECTIVES AND ANTISEPTICS FOR LOCAL ORAL TREATMENT\n",
       "  ATCLevel5Code ATCLevel5Name\n",
       "1 A01AB03       CHLORHEXIDINE"
      ]
     },
     "metadata": {},
     "output_type": "display_data"
    }
   ],
   "source": [
    "ATC_Lookup %>% head(1)"
   ]
  },
  {
   "cell_type": "code",
   "execution_count": 18,
   "metadata": {
    "collapsed": false
   },
   "outputs": [],
   "source": [
    "#ATC_Lookup %>% filter(ATCLevel5Code == 'N06AB06')"
   ]
  },
  {
   "cell_type": "code",
   "execution_count": 17,
   "metadata": {
    "collapsed": false
   },
   "outputs": [
    {
     "data": {
      "text/html": [
       "<table>\n",
       "<thead><tr><th scope=col>ChronicIllness</th><th scope=col>MasterProductID</th><th scope=col>MasterProductFullName</th></tr></thead>\n",
       "<tbody>\n",
       "\t<tr><td>Diabetes                   </td><td>141                        </td><td>ACTOS TAB 30MG (AS HCL) 28 </td></tr>\n",
       "</tbody>\n",
       "</table>\n"
      ],
      "text/latex": [
       "\\begin{tabular}{r|lll}\n",
       " ChronicIllness & MasterProductID & MasterProductFullName\\\\\n",
       "\\hline\n",
       "\t Diabetes                    & 141                         & ACTOS TAB 30MG (AS HCL) 28 \\\\\n",
       "\\end{tabular}\n"
      ],
      "text/plain": [
       "  ChronicIllness MasterProductID MasterProductFullName      \n",
       "1 Diabetes       141             ACTOS TAB 30MG (AS HCL) 28 "
      ]
     },
     "metadata": {},
     "output_type": "display_data"
    }
   ],
   "source": [
    "ChronicIllness_LookUp %>% head(1)"
   ]
  },
  {
   "cell_type": "code",
   "execution_count": 16,
   "metadata": {
    "collapsed": false
   },
   "outputs": [
    {
     "data": {
      "text/html": [
       "<table>\n",
       "<thead><tr><th scope=col>Patient_ID</th><th scope=col>gender</th><th scope=col>year_of_birth</th><th scope=col>postcode</th></tr></thead>\n",
       "<tbody>\n",
       "\t<tr><td>1   </td><td>F   </td><td>1900</td><td>2516</td></tr>\n",
       "</tbody>\n",
       "</table>\n"
      ],
      "text/latex": [
       "\\begin{tabular}{r|llll}\n",
       " Patient\\_ID & gender & year\\_of\\_birth & postcode\\\\\n",
       "\\hline\n",
       "\t 1    & F    & 1900 & 2516\\\\\n",
       "\\end{tabular}\n"
      ],
      "text/plain": [
       "  Patient_ID gender year_of_birth postcode\n",
       "1 1          F      1900          2516    "
      ]
     },
     "metadata": {},
     "output_type": "display_data"
    }
   ],
   "source": [
    "patients %>% head(1)"
   ]
  },
  {
   "cell_type": "code",
   "execution_count": 15,
   "metadata": {
    "collapsed": false
   },
   "outputs": [
    {
     "data": {
      "text/html": [
       "<table>\n",
       "<thead><tr><th scope=col>Store_ID</th><th scope=col>StateCode</th><th scope=col>postcode</th><th scope=col>IsBannerGroup</th></tr></thead>\n",
       "<tbody>\n",
       "\t<tr><td>1   </td><td>VIC </td><td>3558</td><td>0   </td></tr>\n",
       "</tbody>\n",
       "</table>\n"
      ],
      "text/latex": [
       "\\begin{tabular}{r|llll}\n",
       " Store\\_ID & StateCode & postcode & IsBannerGroup\\\\\n",
       "\\hline\n",
       "\t 1    & VIC  & 3558 & 0   \\\\\n",
       "\\end{tabular}\n"
      ],
      "text/plain": [
       "  Store_ID StateCode postcode IsBannerGroup\n",
       "1 1        VIC       3558     0            "
      ]
     },
     "metadata": {},
     "output_type": "display_data"
    }
   ],
   "source": [
    "stores %>% head(1)"
   ]
  },
  {
   "cell_type": "code",
   "execution_count": 23,
   "metadata": {
    "collapsed": true
   },
   "outputs": [],
   "source": [
    "postcodes <- read.csv('..\\\\Data\\\\Datathon_2017\\\\Australian_Post_Codes_Lat_Lon.csv')"
   ]
  },
  {
   "cell_type": "code",
   "execution_count": 25,
   "metadata": {
    "collapsed": false
   },
   "outputs": [
    {
     "data": {
      "text/html": [
       "<table>\n",
       "<thead><tr><th scope=col>postcode</th><th scope=col>suburb</th><th scope=col>state</th><th scope=col>dc</th><th scope=col>type</th><th scope=col>lat</th><th scope=col>lon</th></tr></thead>\n",
       "<tbody>\n",
       "\t<tr><td>200                                          </td><td>AUSTRALIAN NATIONAL UNIVERSITY               </td><td>ACT                                          </td><td>AUSTRALIAN NATIONAL UNI LPO                  </td><td>Post Office Boxes                            </td><td>-35.27727                                    </td><td>149.1171                                     </td></tr>\n",
       "</tbody>\n",
       "</table>\n"
      ],
      "text/latex": [
       "\\begin{tabular}{r|lllllll}\n",
       " postcode & suburb & state & dc & type & lat & lon\\\\\n",
       "\\hline\n",
       "\t 200                                           & AUSTRALIAN NATIONAL UNIVERSITY                & ACT                                           & AUSTRALIAN NATIONAL UNI LPO                   & Post Office Boxes                             & -35.27727                                     & 149.1171                                     \\\\\n",
       "\\end{tabular}\n"
      ],
      "text/plain": [
       "  postcode suburb                         state dc                         \n",
       "1 200      AUSTRALIAN NATIONAL UNIVERSITY ACT   AUSTRALIAN NATIONAL UNI LPO\n",
       "  type                                          lat       lon     \n",
       "1 Post Office Boxes                             -35.27727 149.1171"
      ]
     },
     "metadata": {},
     "output_type": "display_data"
    }
   ],
   "source": [
    "postcodes %>% head(1)"
   ]
  },
  {
   "cell_type": "code",
   "execution_count": 28,
   "metadata": {
    "collapsed": false
   },
   "outputs": [
    {
     "data": {
      "text/html": [
       "<table>\n",
       "<thead><tr><th scope=col>postcode</th><th scope=col>lat</th><th scope=col>long</th></tr></thead>\n",
       "<tbody>\n",
       "\t<tr><td>  0      </td><td>       NA</td><td>      NA </td></tr>\n",
       "\t<tr><td>200      </td><td>-35.27727</td><td>149.1171 </td></tr>\n",
       "\t<tr><td>221      </td><td>-35.20137</td><td>149.0951 </td></tr>\n",
       "\t<tr><td>800      </td><td>-12.80103</td><td>130.9558 </td></tr>\n",
       "\t<tr><td>801      </td><td>-12.80103</td><td>130.9558 </td></tr>\n",
       "\t<tr><td>804      </td><td>-12.43218</td><td>130.8433 </td></tr>\n",
       "\t<tr><td>810      </td><td>-12.37697</td><td>130.8735 </td></tr>\n",
       "\t<tr><td>811      </td><td>-12.37660</td><td>130.8505 </td></tr>\n",
       "\t<tr><td>812      </td><td>-12.39013</td><td>130.8998 </td></tr>\n",
       "\t<tr><td>814      </td><td>-12.38257</td><td>130.8539 </td></tr>\n",
       "</tbody>\n",
       "</table>\n"
      ],
      "text/latex": [
       "\\begin{tabular}{r|lll}\n",
       " postcode & lat & long\\\\\n",
       "\\hline\n",
       "\t   0       &        NA &       NA \\\\\n",
       "\t 200       & -35.27727 & 149.1171 \\\\\n",
       "\t 221       & -35.20137 & 149.0951 \\\\\n",
       "\t 800       & -12.80103 & 130.9558 \\\\\n",
       "\t 801       & -12.80103 & 130.9558 \\\\\n",
       "\t 804       & -12.43218 & 130.8433 \\\\\n",
       "\t 810       & -12.37697 & 130.8735 \\\\\n",
       "\t 811       & -12.37660 & 130.8505 \\\\\n",
       "\t 812       & -12.39013 & 130.8998 \\\\\n",
       "\t 814       & -12.38257 & 130.8539 \\\\\n",
       "\\end{tabular}\n"
      ],
      "text/plain": [
       "   postcode lat       long    \n",
       "1    0             NA       NA\n",
       "2  200      -35.27727 149.1171\n",
       "3  221      -35.20137 149.0951\n",
       "4  800      -12.80103 130.9558\n",
       "5  801      -12.80103 130.9558\n",
       "6  804      -12.43218 130.8433\n",
       "7  810      -12.37697 130.8735\n",
       "8  811      -12.37660 130.8505\n",
       "9  812      -12.39013 130.8998\n",
       "10 814      -12.38257 130.8539"
      ]
     },
     "metadata": {},
     "output_type": "display_data"
    }
   ],
   "source": []
  },
  {
   "cell_type": "code",
   "execution_count": 40,
   "metadata": {
    "collapsed": false
   },
   "outputs": [
    {
     "ename": "ERROR",
     "evalue": "Error in eval(substitute(expr), envir, enclos): 'Drug_ID' column not found in lhs, cannot join\n",
     "output_type": "error",
     "traceback": [
      "Error in eval(substitute(expr), envir, enclos): 'Drug_ID' column not found in lhs, cannot join\nTraceback:\n",
      "1. sample_transactions %>% left_join(patients, by = \"Patient_ID\") %>% \n .     left_join(postcodes %>% group_by(postcode) %>% summarise(lat = mean(lat), \n .         long = mean(lon)), by = \"postcode\") %>% left_join(ChronicIllness_LookUp, \n .     by = c(\"Drug_ID\", \"MasterProductID\"))",
      "2. withVisible(eval(quote(`_fseq`(`_lhs`)), env, env))",
      "3. eval(quote(`_fseq`(`_lhs`)), env, env)",
      "4. eval(expr, envir, enclos)",
      "5. `_fseq`(`_lhs`)",
      "6. freduce(value, `_function_list`)",
      "7. withVisible(function_list[[k]](value))",
      "8. function_list[[k]](value)",
      "9. left_join(., ChronicIllness_LookUp, by = c(\"Drug_ID\", \"MasterProductID\"))",
      "10. left_join.tbl_df(., ChronicIllness_LookUp, by = c(\"Drug_ID\", \n  .     \"MasterProductID\"))",
      "11. left_join_impl(x, y, by$x, by$y, suffix$x, suffix$y)"
     ]
    }
   ],
   "source": [
    "sample_transactions %>% \n",
    "    left_join(patients, by='Patient_ID') %>% \n",
    "    left_join(postcodes %>% group_by(postcode) %>%\n",
    "                summarise(lat = mean(lat),\n",
    "                  long = mean(lon))\n",
    "        , by='postcode') %>% \n",
    "    left_join(ChronicIllness_LookUp, by = c('Drug_ID','MasterProductID'))\n",
    " filter( long > 140, long < 160, lat < -35 ) %>% head(10)"
   ]
  },
  {
   "cell_type": "code",
   "execution_count": 38,
   "metadata": {
    "collapsed": false
   },
   "outputs": [
    {
     "data": {},
     "metadata": {},
     "output_type": "display_data"
    },
    {
     "data": {
      "image/png": "[encoded data removed]",
      "text/plain": [
       "plot without title"
      ]
     },
     "metadata": {},
     "output_type": "display_data"
    }
   ],
   "source": [
    "sample_transactions %>% \n",
    "    left_join(patients, by='Patient_ID') %>% \n",
    "    left_join(postcodes %>% group_by(postcode) %>%\n",
    "                summarise(lat = mean(lat),\n",
    "                  long = mean(lon))\n",
    "        , by='postcode') %>% \n",
    " filter( long > 140, long < 160, lat < -35 ) %>%\n",
    "ggplot(aes(long,lat)) + geom_density_2d()"
   ]
  },
  {
   "cell_type": "code",
   "execution_count": null,
   "metadata": {
    "collapsed": true
   },
   "outputs": [],
   "source": []
  }
 ],
 "metadata": {
  "anaconda-cloud": {},
  "kernelspec": {
   "display_name": "R",
   "language": "R",
   "name": "ir"
  },
  "language_info": {
   "codemirror_mode": "r",
   "file_extension": ".r",
   "mimetype": "text/x-r-source",
   "name": "R",
   "pygments_lexer": "r",
   "version": "3.3.2"
  }
 },
 "nbformat": 4,
 "nbformat_minor": 2
}

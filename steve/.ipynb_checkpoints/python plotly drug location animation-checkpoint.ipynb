{
 "cells": [
  {
   "cell_type": "code",
   "execution_count": 1,
   "metadata": {
    "collapsed": false
   },
   "outputs": [],
   "source": [
    "import numpy as np\n",
    "import pandas as pd\n",
    "import feather\n",
    "import plotly"
   ]
  },
  {
   "cell_type": "code",
   "execution_count": 2,
   "metadata": {
    "collapsed": true
   },
   "outputs": [],
   "source": [
    "import plotly.plotly as py\n",
    "from plotly.offline import download_plotlyjs, init_notebook_mode, plot, iplot\n",
    "from plotly.grid_objs import Grid, Column\n",
    "from plotly.graph_objs import *\n",
    "from IPython.display import display, HTML"
   ]
  },
  {
   "cell_type": "code",
   "execution_count": 3,
   "metadata": {
    "collapsed": false
   },
   "outputs": [
    {
     "data": {
      "text/html": [
       "<script>requirejs.config({paths: { 'plotly': ['https://cdn.plot.ly/plotly-latest.min']},});if(!window.Plotly) {{require(['plotly'],function(plotly) {window.Plotly=plotly;});}}</script>"
      ],
      "text/vnd.plotly.v1+html": [
       "<script>requirejs.config({paths: { 'plotly': ['https://cdn.plot.ly/plotly-latest.min']},});if(!window.Plotly) {{require(['plotly'],function(plotly) {window.Plotly=plotly;});}}</script>"
      ]
     },
     "metadata": {},
     "output_type": "display_data"
    }
   ],
   "source": [
    "init_notebook_mode(connected=True)"
   ]
  },
  {
   "cell_type": "code",
   "execution_count": 6,
   "metadata": {
    "collapsed": false
   },
   "outputs": [],
   "source": [
    "#x = np.random.randn(2000)\n",
    "#y = np.random.randn(2000)\n",
    "#iplot([Histogram2dContour(x=x, y=y, contours=Contours(coloring='heatmap')),\n",
    "#       Scatter(x=x, y=y, mode='markers', marker=Marker(color='white', size=3, opacity=0.3))], show_link=False)"
   ]
  },
  {
   "cell_type": "code",
   "execution_count": 13,
   "metadata": {
    "collapsed": false
   },
   "outputs": [],
   "source": [
    "# from IPython.display import display, HTML\n",
    "\n",
    "# init_notebook_mode(connected=True)\n",
    "\n",
    "# figure = {'data': [{'x': [0, 1], 'y': [0, 1]}],\n",
    "#           'layout': {'xaxis': {'range': [0, 5], 'autorange': False},\n",
    "#                      'yaxis': {'range': [0, 5], 'autorange': False},\n",
    "#                      'title': 'Start Title',\n",
    "#                      'updatemenus': [{'type': 'buttons',\n",
    "#                                       'buttons': [{'label': 'Play',\n",
    "#                                                    'method': 'animate',\n",
    "#                                                    'args': [None]}]}]\n",
    "#                     },\n",
    "#           'frames': [{'data': [{'x': [1, 2], 'y': [1, 2]}]},\n",
    "#                      {'data': [{'x': [1, 4], 'y': [1, 4]}]},\n",
    "#                      {'data': [{'x': [3, 4], 'y': [3, 4]}],\n",
    "#                       'layout': {'title': 'End Title'}}]}\n",
    "\n",
    "# iplot(figure)"
   ]
  },
  {
   "cell_type": "markdown",
   "metadata": {},
   "source": [
    "# Get dataframe"
   ]
  },
  {
   "cell_type": "code",
   "execution_count": 15,
   "metadata": {
    "collapsed": false
   },
   "outputs": [],
   "source": [
    "antiflu = feather.read_dataframe('..\\\\..\\\\Data\\\\Datathon_2017\\\\antiflu_sample_data')"
   ]
  },
  {
   "cell_type": "code",
   "execution_count": 17,
   "metadata": {
    "collapsed": false
   },
   "outputs": [
    {
     "data": {
      "text/html": [
       "<div>\n",
       "<table border=\"1\" class=\"dataframe\">\n",
       "  <thead>\n",
       "    <tr style=\"text-align: right;\">\n",
       "      <th></th>\n",
       "      <th>Patient_ID</th>\n",
       "      <th>lat</th>\n",
       "      <th>long</th>\n",
       "    </tr>\n",
       "  </thead>\n",
       "  <tbody>\n",
       "    <tr>\n",
       "      <th>0</th>\n",
       "      <td>295.0</td>\n",
       "      <td>-38.049427</td>\n",
       "      <td>145.119773</td>\n",
       "    </tr>\n",
       "    <tr>\n",
       "      <th>1</th>\n",
       "      <td>295.0</td>\n",
       "      <td>-38.049427</td>\n",
       "      <td>145.119773</td>\n",
       "    </tr>\n",
       "  </tbody>\n",
       "</table>\n",
       "</div>"
      ],
      "text/plain": [
       "   Patient_ID        lat        long\n",
       "0       295.0 -38.049427  145.119773\n",
       "1       295.0 -38.049427  145.119773"
      ]
     },
     "execution_count": 17,
     "metadata": {},
     "output_type": "execute_result"
    }
   ],
   "source": [
    "antiflu[['Patient_ID','lat','long']].head(2)"
   ]
  },
  {
   "cell_type": "code",
   "execution_count": 43,
   "metadata": {
    "collapsed": false
   },
   "outputs": [],
   "source": [
    "x = np.transpose(np.array(antiflu[['long']]))[0]\n",
    "y = np.transpose(np.array(antiflu[['lat']]))[0]\n",
    "\n",
    "trace1 = Scatter(\n",
    "    x=x, y=y, mode='markers', name='points',\n",
    "    marker=dict(color='rgb(102,0,0)', size=2, opacity=0.4)\n",
    ")\n",
    "\n",
    "trace2 = Histogram2dcontour(\n",
    "    x=x, y=y, name='density', ncontours=20,\n",
    "    colorscale='Hot', reversescale=True, showscale=False\n",
    ")\n",
    "\n",
    "trace3 = Histogram(\n",
    "    x=x, name='x density',\n",
    "    marker=dict(color='rgb(102,0,0)'),\n",
    "    yaxis='y2'\n",
    ")\n",
    "trace4 = Histogram(\n",
    "    y=y, name='y density', marker=dict(color='rgb(102,0,0)'),\n",
    "    xaxis='x2'\n",
    ")\n",
    "data = [trace1, trace2, trace3, trace4]"
   ]
  },
  {
   "cell_type": "code",
   "execution_count": 44,
   "metadata": {
    "collapsed": false
   },
   "outputs": [
    {
     "data": {
      "text/plain": [
       "array([-38.0494265 , -38.0494265 , -38.0494265 , ..., -33.10275677,\n",
       "       -33.10275677, -33.10275677])"
      ]
     },
     "execution_count": 44,
     "metadata": {},
     "output_type": "execute_result"
    }
   ],
   "source": [
    "y"
   ]
  },
  {
   "cell_type": "code",
   "execution_count": 45,
   "metadata": {
    "collapsed": true
   },
   "outputs": [],
   "source": [
    "layout = Layout(\n",
    "    showlegend=False,\n",
    "    autosize=False,\n",
    "    width=600,\n",
    "    height=550,\n",
    "    xaxis=dict(\n",
    "        domain=[140, 150],\n",
    "        showgrid=False,\n",
    "        zeroline=False\n",
    "    ),\n",
    "    yaxis=dict(\n",
    "        domain=[-40, -30],\n",
    "        showgrid=False,\n",
    "        zeroline=False\n",
    "    ),\n",
    "    margin=dict(\n",
    "        t=50\n",
    "    ),\n",
    "    hovermode='closest',\n",
    "    bargap=0,\n",
    "    xaxis2=dict(\n",
    "        domain=[140, 150],\n",
    "        showgrid=False,\n",
    "        zeroline=False\n",
    "    ),\n",
    "    yaxis2=dict(\n",
    "        domain=[-40, -30],\n",
    "        showgrid=False,\n",
    "        zeroline=False\n",
    "    )\n",
    ")"
   ]
  },
  {
   "cell_type": "code",
   "execution_count": 50,
   "metadata": {
    "collapsed": false
   },
   "outputs": [],
   "source": [
    "# fig = Figure(data=data, layout=layout)\n",
    "# iplot(Figure(data = [trace1, trace2]))"
   ]
  },
  {
   "cell_type": "code",
   "execution_count": 65,
   "metadata": {
    "collapsed": false
   },
   "outputs": [],
   "source": [
    "scl = [0,\"rgb(150,0,90)\"],[0.125,\"rgb(0, 0, 200)\"],[0.25,\"rgb(0, 25, 255)\"],\n",
    "[0.375,\"rgb(0, 152, 255)\"],[0.5,\"rgb(44, 255, 150)\"],[0.625,\"rgb(151, 255, 0)\"],\n",
    "[0.75,\"rgb(255, 234, 0)\"],[0.875,\"rgb(255, 111, 0)\"],[1,\"rgb(255, 0, 0)\"]\n",
    "\n",
    "data = [ dict(\n",
    "    lat = y,\n",
    "    lon = x,\n",
    "    marker=dict(color='rgb(102,0,0)', size=2, opacity=0.4),\n",
    "    type = 'scattergeo'\n",
    ") ]\n",
    "\n",
    "layout = dict(\n",
    "    geo = dict(\n",
    "        scope = 'world',\n",
    "        showland = True,\n",
    "        landcolor = \"rgb(212, 212, 212)\",\n",
    "        subunitcolor = \"rgb(255, 255, 255)\",\n",
    "        countrycolor = \"rgb(255, 255, 255)\",\n",
    "        showlakes = True,\n",
    "        lakecolor = \"rgb(255, 255, 255)\",\n",
    "        showsubunits = True,\n",
    "        showcountries = True,\n",
    "        resolution = 50,\n",
    "        lonaxis = dict(\n",
    "            showgrid = True,\n",
    "            gridwidth = 0.5,\n",
    "            range= [ 120, 160 ],\n",
    "            dtick = 5\n",
    "        ),\n",
    "        lataxis = dict (\n",
    "            showgrid = True,\n",
    "            gridwidth = 0.5,\n",
    "            range= [ -50, -20 ],\n",
    "            dtick = 5\n",
    "        )\n",
    "    ),\n",
    "    title = 'AU drugs for systemic use scatter',\n",
    ")\n",
    "fig = { 'data':data, 'layout':layout }\n",
    "iplot(fig)"
   ]
  },
  {
   "cell_type": "code",
   "execution_count": null,
   "metadata": {
    "collapsed": true
   },
   "outputs": [],
   "source": []
  }
 ],
 "metadata": {
  "anaconda-cloud": {},
  "kernelspec": {
   "display_name": "Python [conda env:python35]",
   "language": "python",
   "name": "conda-env-python35-py"
  },
  "language_info": {
   "codemirror_mode": {
    "name": "ipython",
    "version": 3
   },
   "file_extension": ".py",
   "mimetype": "text/x-python",
   "name": "python",
   "nbconvert_exporter": "python",
   "pygments_lexer": "ipython3",
   "version": "3.5.3"
  }
 },
 "nbformat": 4,
 "nbformat_minor": 1
}

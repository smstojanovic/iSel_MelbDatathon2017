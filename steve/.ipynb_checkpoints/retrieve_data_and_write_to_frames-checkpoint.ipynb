{
 "cells": [
  {
   "cell_type": "code",
   "execution_count": 3,
   "metadata": {
    "collapsed": false
   },
   "outputs": [],
   "source": [
    "import os\n",
    "import numpy as np\n",
    "import pandas as pd\n",
    "import feather\n",
    "from tqdm import tqdm"
   ]
  },
  {
   "cell_type": "markdown",
   "metadata": {},
   "source": [
    "# Transaction directory for files"
   ]
  },
  {
   "cell_type": "code",
   "execution_count": 4,
   "metadata": {
    "collapsed": true
   },
   "outputs": [],
   "source": [
    "TRANS_DIR = '..\\\\Data\\\\Datathon_2017\\\\Transactions'"
   ]
  },
  {
   "cell_type": "code",
   "execution_count": 7,
   "metadata": {
    "collapsed": false
   },
   "outputs": [],
   "source": [
    "trans_files = [TRANS_DIR+'\\\\'+file for file in os.listdir(TRANS_DIR)]"
   ]
  },
  {
   "cell_type": "code",
   "execution_count": 8,
   "metadata": {
    "collapsed": false
   },
   "outputs": [
    {
     "data": {
      "text/plain": [
       "['..\\\\Data\\\\Datathon_2017\\\\Transactions\\\\patients_1.txt',\n",
       " '..\\\\Data\\\\Datathon_2017\\\\Transactions\\\\patients_10.txt',\n",
       " '..\\\\Data\\\\Datathon_2017\\\\Transactions\\\\patients_11.txt',\n",
       " '..\\\\Data\\\\Datathon_2017\\\\Transactions\\\\patients_12.txt',\n",
       " '..\\\\Data\\\\Datathon_2017\\\\Transactions\\\\patients_13.txt',\n",
       " '..\\\\Data\\\\Datathon_2017\\\\Transactions\\\\patients_14.txt',\n",
       " '..\\\\Data\\\\Datathon_2017\\\\Transactions\\\\patients_15.txt',\n",
       " '..\\\\Data\\\\Datathon_2017\\\\Transactions\\\\patients_16.txt',\n",
       " '..\\\\Data\\\\Datathon_2017\\\\Transactions\\\\patients_17.txt',\n",
       " '..\\\\Data\\\\Datathon_2017\\\\Transactions\\\\patients_18.txt',\n",
       " '..\\\\Data\\\\Datathon_2017\\\\Transactions\\\\patients_19.txt',\n",
       " '..\\\\Data\\\\Datathon_2017\\\\Transactions\\\\patients_2.txt',\n",
       " '..\\\\Data\\\\Datathon_2017\\\\Transactions\\\\patients_20.txt',\n",
       " '..\\\\Data\\\\Datathon_2017\\\\Transactions\\\\patients_21.txt',\n",
       " '..\\\\Data\\\\Datathon_2017\\\\Transactions\\\\patients_22.txt',\n",
       " '..\\\\Data\\\\Datathon_2017\\\\Transactions\\\\patients_23.txt',\n",
       " '..\\\\Data\\\\Datathon_2017\\\\Transactions\\\\patients_24.txt',\n",
       " '..\\\\Data\\\\Datathon_2017\\\\Transactions\\\\patients_25.txt',\n",
       " '..\\\\Data\\\\Datathon_2017\\\\Transactions\\\\patients_26.txt',\n",
       " '..\\\\Data\\\\Datathon_2017\\\\Transactions\\\\patients_27.txt',\n",
       " '..\\\\Data\\\\Datathon_2017\\\\Transactions\\\\patients_28.txt',\n",
       " '..\\\\Data\\\\Datathon_2017\\\\Transactions\\\\patients_29.txt',\n",
       " '..\\\\Data\\\\Datathon_2017\\\\Transactions\\\\patients_3.txt',\n",
       " '..\\\\Data\\\\Datathon_2017\\\\Transactions\\\\patients_30.txt',\n",
       " '..\\\\Data\\\\Datathon_2017\\\\Transactions\\\\patients_31.txt',\n",
       " '..\\\\Data\\\\Datathon_2017\\\\Transactions\\\\patients_32.txt',\n",
       " '..\\\\Data\\\\Datathon_2017\\\\Transactions\\\\patients_33.txt',\n",
       " '..\\\\Data\\\\Datathon_2017\\\\Transactions\\\\patients_34.txt',\n",
       " '..\\\\Data\\\\Datathon_2017\\\\Transactions\\\\patients_35.txt',\n",
       " '..\\\\Data\\\\Datathon_2017\\\\Transactions\\\\patients_36.txt',\n",
       " '..\\\\Data\\\\Datathon_2017\\\\Transactions\\\\patients_37.txt',\n",
       " '..\\\\Data\\\\Datathon_2017\\\\Transactions\\\\patients_39.txt',\n",
       " '..\\\\Data\\\\Datathon_2017\\\\Transactions\\\\patients_4.txt',\n",
       " '..\\\\Data\\\\Datathon_2017\\\\Transactions\\\\patients_40.txt',\n",
       " '..\\\\Data\\\\Datathon_2017\\\\Transactions\\\\patients_41.txt',\n",
       " '..\\\\Data\\\\Datathon_2017\\\\Transactions\\\\patients_42.txt',\n",
       " '..\\\\Data\\\\Datathon_2017\\\\Transactions\\\\patients_43.txt',\n",
       " '..\\\\Data\\\\Datathon_2017\\\\Transactions\\\\patients_44.txt',\n",
       " '..\\\\Data\\\\Datathon_2017\\\\Transactions\\\\patients_45.txt',\n",
       " '..\\\\Data\\\\Datathon_2017\\\\Transactions\\\\patients_46.txt',\n",
       " '..\\\\Data\\\\Datathon_2017\\\\Transactions\\\\patients_47.txt',\n",
       " '..\\\\Data\\\\Datathon_2017\\\\Transactions\\\\patients_48.txt',\n",
       " '..\\\\Data\\\\Datathon_2017\\\\Transactions\\\\patients_49.txt',\n",
       " '..\\\\Data\\\\Datathon_2017\\\\Transactions\\\\patients_5.txt',\n",
       " '..\\\\Data\\\\Datathon_2017\\\\Transactions\\\\patients_50.txt',\n",
       " '..\\\\Data\\\\Datathon_2017\\\\Transactions\\\\patients_6.txt',\n",
       " '..\\\\Data\\\\Datathon_2017\\\\Transactions\\\\patients_7.txt',\n",
       " '..\\\\Data\\\\Datathon_2017\\\\Transactions\\\\patients_8.txt']"
      ]
     },
     "execution_count": 8,
     "metadata": {},
     "output_type": "execute_result"
    }
   ],
   "source": [
    "trans_files"
   ]
  },
  {
   "cell_type": "code",
   "execution_count": 11,
   "metadata": {
    "collapsed": false
   },
   "outputs": [],
   "source": [
    "df = pd.read_table('..\\\\Data\\\\Datathon_2017\\\\Transactions\\\\patients_1.txt')"
   ]
  },
  {
   "cell_type": "code",
   "execution_count": 12,
   "metadata": {
    "collapsed": false,
    "scrolled": true
   },
   "outputs": [
    {
     "name": "stderr",
     "output_type": "stream",
     "text": [
      "\n",
      "  0%|                                                   | 0/48 [00:00<?, ?it/s]\n",
      "  4%|█▊                                         | 2/48 [00:04<01:36,  2.10s/it]\n",
      "  6%|██▋                                        | 3/48 [00:09<02:16,  3.04s/it]\n",
      "  8%|███▌                                       | 4/48 [00:14<02:36,  3.56s/it]\n",
      " 10%|████▍                                      | 5/48 [00:19<02:52,  4.00s/it]\n",
      " 12%|█████▍                                     | 6/48 [00:25<03:13,  4.62s/it]\n",
      " 15%|██████▎                                    | 7/48 [00:33<03:49,  5.60s/it]\n",
      " 17%|███████▏                                   | 8/48 [00:40<04:09,  6.24s/it]\n",
      " 19%|████████                                   | 9/48 [00:48<04:20,  6.69s/it]\n",
      " 21%|████████▊                                 | 10/48 [00:56<04:22,  6.90s/it]\n",
      " 23%|█████████▋                                | 11/48 [01:03<04:19,  7.02s/it]\n",
      " 25%|██████████▌                               | 12/48 [01:11<04:29,  7.49s/it]\n",
      " 27%|███████████▍                              | 13/48 [01:21<04:40,  8.01s/it]\n",
      " 29%|████████████▎                             | 14/48 [01:30<04:41,  8.29s/it]\n",
      " 31%|█████████████▏                            | 15/48 [01:38<04:35,  8.36s/it]\n",
      " 33%|██████████████                            | 16/48 [01:47<04:33,  8.55s/it]\n",
      " 35%|██████████████▉                           | 17/48 [01:57<04:33,  8.83s/it]\n",
      " 38%|███████████████▊                          | 18/48 [02:07<04:35,  9.17s/it]\n",
      " 40%|████████████████▋                         | 19/48 [02:16<04:26,  9.18s/it]\n",
      " 42%|█████████████████▌                        | 20/48 [02:25<04:18,  9.23s/it]\n",
      " 44%|██████████████████▍                       | 21/48 [02:35<04:13,  9.41s/it]\n",
      " 46%|███████████████████▎                      | 22/48 [02:45<04:11,  9.69s/it]\n",
      " 48%|████████████████████▏                     | 23/48 [02:56<04:12, 10.10s/it]\n",
      " 50%|█████████████████████                     | 24/48 [03:07<04:06, 10.27s/it]\n",
      " 52%|█████████████████████▉                    | 25/48 [03:19<04:07, 10.78s/it]\n",
      " 54%|██████████████████████▊                   | 26/48 [03:31<04:05, 11.14s/it]\n",
      " 56%|███████████████████████▋                  | 27/48 [03:44<04:07, 11.76s/it]\n",
      " 58%|████████████████████████▌                 | 28/48 [03:57<03:58, 11.93s/it]\n",
      " 60%|█████████████████████████▍                | 29/48 [04:10<03:56, 12.42s/it]\n",
      " 62%|██████████████████████████▎               | 30/48 [04:24<03:53, 12.98s/it]\n",
      " 65%|███████████████████████████▏              | 31/48 [04:39<03:51, 13.59s/it]\n",
      " 67%|████████████████████████████              | 32/48 [04:55<03:48, 14.30s/it]\n",
      " 69%|████████████████████████████▉             | 33/48 [05:14<03:54, 15.63s/it]\n",
      " 71%|█████████████████████████████▊            | 34/48 [05:32<03:49, 16.42s/it]\n",
      " 73%|██████████████████████████████▋           | 35/48 [05:52<03:47, 17.51s/it]\n",
      " 75%|███████████████████████████████▌          | 36/48 [06:14<03:46, 18.83s/it]\n",
      " 77%|████████████████████████████████▍         | 37/48 [06:35<03:34, 19.53s/it]\n",
      " 79%|█████████████████████████████████▎        | 38/48 [07:05<03:44, 22.49s/it]\n",
      " 81%|██████████████████████████████████▏       | 39/48 [07:40<03:55, 26.18s/it]\n",
      " 83%|███████████████████████████████████       | 40/48 [08:14<03:47, 28.50s/it]\n",
      " 85%|███████████████████████████████████▉      | 41/48 [08:52<03:41, 31.63s/it]\n",
      " 88%|████████████████████████████████████▊     | 42/48 [09:36<03:31, 35.23s/it]\n",
      " 90%|█████████████████████████████████████▋    | 43/48 [10:23<03:13, 38.65s/it]\n",
      " 92%|██████████████████████████████████████▌   | 44/48 [11:14<02:49, 42.39s/it]\n",
      " 94%|███████████████████████████████████████▍  | 45/48 [12:16<02:24, 48.21s/it]\n",
      " 96%|████████████████████████████████████████▎ | 46/48 [13:23<01:48, 54.05s/it]\n",
      " 98%|█████████████████████████████████████████▏| 47/48 [14:45<01:02, 62.42s/it]\n",
      "100%|██████████████████████████████████████████| 48/48 [16:11<00:00, 69.46s/it]\n"
     ]
    }
   ],
   "source": [
    "for file_name in tqdm(trans_files):\n",
    "    if file_name != '..\\\\Data\\\\Datathon_2017\\\\Transactions\\\\patients_1.txt':\n",
    "        df = pd.concat([df,pd.read_table(file_name)])"
   ]
  },
  {
   "cell_type": "code",
   "execution_count": 14,
   "metadata": {
    "collapsed": true
   },
   "outputs": [],
   "source": [
    "import feather"
   ]
  },
  {
   "cell_type": "code",
   "execution_count": 13,
   "metadata": {
    "collapsed": false
   },
   "outputs": [
    {
     "ename": "AttributeError",
     "evalue": "'module' object has no attribute 'write_dataframe'",
     "output_type": "error",
     "traceback": [
      "\u001b[0;31m---------------------------------------------------------------------------\u001b[0m",
      "\u001b[0;31mAttributeError\u001b[0m                            Traceback (most recent call last)",
      "\u001b[0;32m<ipython-input-13-e38e5e8d846b>\u001b[0m in \u001b[0;36m<module>\u001b[0;34m()\u001b[0m\n\u001b[0;32m----> 1\u001b[0;31m \u001b[0mfeather\u001b[0m\u001b[1;33m.\u001b[0m\u001b[0mwrite_dataframe\u001b[0m\u001b[1;33m(\u001b[0m\u001b[0mdf\u001b[0m\u001b[1;33m,\u001b[0m \u001b[1;34m'..\\\\Data\\\\Datathon_2017\\\\Transactions_Frame'\u001b[0m\u001b[1;33m)\u001b[0m\u001b[1;33m\u001b[0m\u001b[0m\n\u001b[0m",
      "\u001b[0;31mAttributeError\u001b[0m: 'module' object has no attribute 'write_dataframe'"
     ]
    }
   ],
   "source": [
    "feather.write_dataframe(df, '..\\\\Data\\\\Datathon_2017\\\\Transactions_Frame')"
   ]
  },
  {
   "cell_type": "code",
   "execution_count": 20,
   "metadata": {
    "collapsed": false
   },
   "outputs": [],
   "source": [
    "ATC_Lookup = pd.read_table('..\\\\Data\\\\Datathon_2017\\\\Lookups\\\\ATC_LookUp.txt')\n",
    "ChronicIllness_LookUp = pd.read_table('..\\\\Data\\\\Datathon_2017\\\\Lookups\\\\ChronicIllness_LookUp.txt')\n",
    "Drug_LookUp = pd.read_table('..\\\\Data\\\\Datathon_2017\\\\Lookups\\\\Drug_LookUp.txt')\n",
    "patients = pd.read_table('..\\\\Data\\\\Datathon_2017\\\\Lookups\\\\patients.txt')\n",
    "stores = pd.read_table('..\\\\Data\\\\Datathon_2017\\\\Lookups\\\\stores.txt')"
   ]
  },
  {
   "cell_type": "code",
   "execution_count": 21,
   "metadata": {
    "collapsed": true
   },
   "outputs": [],
   "source": [
    "feather.write_dataframe(ATC_Lookup, '..\\\\Data\\\\Datathon_2017\\\\ATC_Lookup')\n",
    "feather.write_dataframe(ChronicIllness_LookUp, '..\\\\Data\\\\Datathon_2017\\\\ChronicIllness_LookUp')\n",
    "feather.write_dataframe(Drug_LookUp, '..\\\\Data\\\\Datathon_2017\\\\Drug_LookUp')\n",
    "feather.write_dataframe(patients, '..\\\\Data\\\\Datathon_2017\\\\patients')\n",
    "feather.write_dataframe(stores, '..\\\\Data\\\\Datathon_2017\\\\stores')"
   ]
  },
  {
   "cell_type": "code",
   "execution_count": null,
   "metadata": {
    "collapsed": true
   },
   "outputs": [],
   "source": []
  }
 ],
 "metadata": {
  "anaconda-cloud": {},
  "kernelspec": {
   "display_name": "Python [conda root]",
   "language": "python",
   "name": "conda-root-py"
  },
  "language_info": {
   "codemirror_mode": {
    "name": "ipython",
    "version": 2
   },
   "file_extension": ".py",
   "mimetype": "text/x-python",
   "name": "python",
   "nbconvert_exporter": "python",
   "pygments_lexer": "ipython2",
   "version": "2.7.12"
  }
 },
 "nbformat": 4,
 "nbformat_minor": 2
}

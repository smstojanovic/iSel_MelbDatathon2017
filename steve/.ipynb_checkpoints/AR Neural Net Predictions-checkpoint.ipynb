{
 "cells": [
  {
   "cell_type": "code",
   "execution_count": 1,
   "metadata": {
    "collapsed": false
   },
   "outputs": [
    {
     "ename": "ImportError",
     "evalue": "No module named 'matplotlib'",
     "output_type": "error",
     "traceback": [
      "\u001b[1;31m---------------------------------------------------------------------------\u001b[0m",
      "\u001b[1;31mImportError\u001b[0m                               Traceback (most recent call last)",
      "\u001b[1;32m<ipython-input-1-a43d70b1c39e>\u001b[0m in \u001b[0;36m<module>\u001b[1;34m()\u001b[0m\n\u001b[0;32m      1\u001b[0m \u001b[1;32mimport\u001b[0m \u001b[0mnumpy\u001b[0m \u001b[1;32mas\u001b[0m \u001b[0mnp\u001b[0m\u001b[1;33m\u001b[0m\u001b[0m\n\u001b[0;32m      2\u001b[0m \u001b[1;32mimport\u001b[0m \u001b[0mpandas\u001b[0m \u001b[1;32mas\u001b[0m \u001b[0mpd\u001b[0m\u001b[1;33m\u001b[0m\u001b[0m\n\u001b[1;32m----> 3\u001b[1;33m \u001b[1;32mimport\u001b[0m \u001b[0mmatplotlib\u001b[0m\u001b[1;33m.\u001b[0m\u001b[0mpyplot\u001b[0m \u001b[1;32mas\u001b[0m \u001b[0mplt\u001b[0m\u001b[1;33m\u001b[0m\u001b[0m\n\u001b[0m\u001b[0;32m      4\u001b[0m \u001b[1;32mfrom\u001b[0m \u001b[0mtqdm\u001b[0m \u001b[1;32mimport\u001b[0m \u001b[0mtqdm\u001b[0m\u001b[1;33m\u001b[0m\u001b[0m\n\u001b[0;32m      5\u001b[0m \u001b[1;33m\u001b[0m\u001b[0m\n",
      "\u001b[1;31mImportError\u001b[0m: No module named 'matplotlib'"
     ]
    }
   ],
   "source": [
    "import numpy as np\n",
    "import pandas as pd\n",
    "import matplotlib.pyplot as plt\n",
    "from tqdm import tqdm\n",
    "\n",
    "import pickle\n",
    "import tensorflow as tf\n",
    "\n",
    "from keras.layers import Input, Embedding, LSTM, Dense, merge\n",
    "from keras.models import Model\n",
    "from keras.models import Sequential\n",
    "from keras.layers import Input, Dropout, Flatten, Convolution2D, MaxPooling2D, Dense, Activation\n",
    "from keras.optimizers import RMSprop\n",
    "from keras.callbacks import ModelCheckpoint, Callback, EarlyStopping\n",
    "from keras.utils import np_utils\n",
    "from IPython.display import SVG\n",
    "from keras.utils.visualize_util import plot\n",
    "from keras.utils.visualize_util import model_to_dot\n",
    "\n",
    "from keras_tqdm import TQDMNotebookCallback\n",
    "\n",
    "from sklearn import metrics"
   ]
  },
  {
   "cell_type": "code",
   "execution_count": null,
   "metadata": {
    "collapsed": true
   },
   "outputs": [],
   "source": [
    "training_frame = pickle.load( open( '../../Data/... fill in the detailsl', 'rb' ) )"
   ]
  },
  {
   "cell_type": "code",
   "execution_count": null,
   "metadata": {
    "collapsed": true
   },
   "outputs": [],
   "source": [
    "training_list_1 = list(training_frame.ix[:,1])\n",
    "training_list_1 = np.array(training_list_1)\n",
    "\n",
    "training_list_1 = list(training_frame.ix[:,2])\n",
    "training_list_1 = np.array(training_list_1)\n",
    "\n",
    "training_list_1 = list(training_frame.ix[:,3])\n",
    "training_list_1 = np.array(training_list_1)\n",
    "\n",
    "training_y = list(training_frame.ix[:,4])\n",
    "training_y = np.array(training_y)"
   ]
  },
  {
   "cell_type": "code",
   "execution_count": null,
   "metadata": {
    "collapsed": true
   },
   "outputs": [],
   "source": [
    "optimizer = RMSprop(lr=1e-4)\n",
    "objective = 'binary_crossentropy'\n",
    "\n",
    "\n",
    "image_input_1 = Input(shape=(64,64,3), name='image_input_1')\n",
    "image_input_2 = Input(shape=(64,64,3), name='image_input_2')\n",
    "image_input_3 = Input(shape=(64,64,3), name='image_input_3')\n",
    "#image_input_4 = Input(shape=(256,256,3), name='image_input_4')\n",
    "#image_input_5 = Input(shape=(256,256,3), name='image_input_5')\n",
    "\n",
    "# shared vision.\n",
    "\n",
    "generic_input = Input(shape=(64,64,3))\n",
    "\n",
    "# vision model 1\n",
    "\n",
    "model = Convolution2D(32, 3, 3, border_mode='same', activation='relu')(generic_input)\n",
    "model = Convolution2D(32, 3, 3, border_mode='same', activation='relu')(model)\n",
    "model = MaxPooling2D(pool_size=(2, 2))(model)\n",
    "\n",
    "model = Convolution2D(64, 3, 3, border_mode='same', activation='relu')(model)\n",
    "model = Convolution2D(64, 3, 3, border_mode='same', activation='relu')(model)\n",
    "model = MaxPooling2D(pool_size=(2, 2))(model)\n",
    "\n",
    "model = Convolution2D(128, 3, 3, border_mode='same', activation='relu')(model)\n",
    "model = Convolution2D(128, 3, 3, border_mode='same', activation='relu')(model)\n",
    "model = MaxPooling2D(pool_size=(2, 2))(model)\n",
    "\n",
    "model = Convolution2D(256, 3, 3, border_mode='same', activation='relu')(model)\n",
    "model = Convolution2D(256, 3, 3, border_mode='same', activation='relu')(model)\n",
    "model = MaxPooling2D(pool_size=(2, 2))(model)\n",
    "\n",
    "out = Flatten()(model)\n",
    "\n",
    "vision_model_1 = Model(generic_input, out)\n",
    "\n",
    "# vision model 2\n",
    "\n",
    "model = Convolution2D(128, 5, 5, border_mode='same', activation='relu')(generic_input)\n",
    "model = Convolution2D(128, 5, 5, border_mode='same', activation='relu')(model)\n",
    "model = MaxPooling2D(pool_size=(2, 2))(model)\n",
    "\n",
    "model = Convolution2D(64, 5, 5, border_mode='same', activation='relu')(model)\n",
    "model = Convolution2D(64, 5, 5, border_mode='same', activation='relu')(model)\n",
    "model = MaxPooling2D(pool_size=(2, 2))(model)\n",
    "\n",
    "model = Convolution2D(32, 3, 3, border_mode='same', activation='relu')(model)\n",
    "model = Convolution2D(32, 3, 3, border_mode='same', activation='relu')(model)\n",
    "model = MaxPooling2D(pool_size=(2, 2))(model)\n",
    "\n",
    "model = Convolution2D(16, 3, 3, border_mode='same', activation='relu')(model)\n",
    "model = Convolution2D(16, 3, 3, border_mode='same', activation='relu')(model)\n",
    "model = MaxPooling2D(pool_size=(2, 2))(model)\n",
    "\n",
    "out = Flatten()(model)\n",
    "\n",
    "vision_model_2 = Model(generic_input, out)\n",
    "\n",
    "\n",
    "# vision model 3\n",
    "\n",
    "model = Convolution2D(32, 2, 2, border_mode='same', activation='relu')(generic_input)\n",
    "model = Convolution2D(32, 2, 2, border_mode='same', activation='relu')(model)\n",
    "model = MaxPooling2D(pool_size=(2, 2))(model)\n",
    "\n",
    "model = Convolution2D(16, 3, 3, border_mode='same', activation='relu')(model)\n",
    "model = Convolution2D(16, 3, 3, border_mode='same', activation='relu')(model)\n",
    "model = MaxPooling2D(pool_size=(2, 2))(model)\n",
    "\n",
    "model = Convolution2D(8, 3, 3, border_mode='same', activation='relu')(model)\n",
    "model = Convolution2D(8, 3, 3, border_mode='same', activation='relu')(model)\n",
    "model = MaxPooling2D(pool_size=(2, 2))(model)\n",
    "\n",
    "# model = Convolution2D(256, 3, 3, border_mode='same', activation='relu')(model)\n",
    "# model = Convolution2D(256, 3, 3, border_mode='same', activation='relu')(model)\n",
    "# model = MaxPooling2D(pool_size=(2, 2))(model)\n",
    "\n",
    "out = Flatten()(model)\n",
    "\n",
    "vision_model_3 = Model(generic_input, out)\n",
    "\n",
    "out_1_1 = vision_model_1(image_input_1)\n",
    "out_1_2 = vision_model_1(image_input_2)\n",
    "out_1_3 = vision_model_1(image_input_3)\n",
    "#out_4 = vision_model(image_input_4)\n",
    "#out_5 = vision_model(image_input_5)\n",
    "\n",
    "out_2_1 = vision_model_2(image_input_1)\n",
    "out_2_2 = vision_model_2(image_input_2)\n",
    "out_2_3 = vision_model_2(image_input_3)\n",
    "\n",
    "\n",
    "out_3_1 = vision_model_3(image_input_1)\n",
    "out_3_2 = vision_model_3(image_input_2)\n",
    "out_3_3 = vision_model_3(image_input_3)\n",
    "\n",
    "\n",
    "concatenated_1 = merge([out_1_1, out_1_2, out_1_3], mode='concat')\n",
    "concatenated_2 = merge([out_2_1, out_2_2, out_2_3], mode='concat')\n",
    "concatenated_3 = merge([out_3_1, out_3_2, out_3_3], mode='concat')\n",
    "\n",
    "concatenated = merge([concatenated_1, concatenated_2], mode='concat')\n",
    "\n",
    "model = Dense(256, activation='relu')(concatenated)\n",
    "model = Dropout(0.5)(model)\n",
    "\n",
    "model = Dense(256, activation='relu')(model)\n",
    "model = Dropout(0.5)(model)\n",
    "\n",
    "output = Dense(3)(model)\n",
    "output = Activation('softmax')(output)\n",
    "\n",
    "classification_model = Model([image_input_1, image_input_2, image_input_3], output)\n",
    "classification_model.compile(loss=objective, optimizer=optimizer, metrics=['accuracy'])"
   ]
  },
  {
   "cell_type": "code",
   "execution_count": null,
   "metadata": {
    "collapsed": true
   },
   "outputs": [],
   "source": [
    "SVG(model_to_dot(classification_model).create(prog='dot', format='svg'))"
   ]
  },
  {
   "cell_type": "code",
   "execution_count": null,
   "metadata": {
    "collapsed": true
   },
   "outputs": [],
   "source": [
    "nb_epoch = 10\n",
    "batch_size = 32\n",
    "\n",
    "## Callback for loss logging per epoch\n",
    "class LossHistory(Callback):\n",
    "    def on_train_begin(self, logs={}):\n",
    "        self.losses = []\n",
    "        self.val_losses = []\n",
    "        \n",
    "    def on_epoch_end(self, batch, logs={}):\n",
    "        self.losses.append(logs.get('loss'))\n",
    "        self.val_losses.append(logs.get('val_loss'))\n",
    "\n",
    "early_stopping = EarlyStopping(monitor='val_loss', patience=4, verbose=1, mode='auto')\n",
    "history = LossHistory()"
   ]
  },
  {
   "cell_type": "code",
   "execution_count": null,
   "metadata": {
    "collapsed": true
   },
   "outputs": [],
   "source": [
    "classification_model.fit([training_list_1,training_list_2,training_list_3], training_y, batch_size=batch_size, nb_epoch=nb_epoch,\n",
    "              validation_split=0.65, verbose=0, shuffle=True, callbacks=[TQDMNotebookCallback(leave_inner = True, leave_outer = True), history])"
   ]
  },
  {
   "cell_type": "code",
   "execution_count": null,
   "metadata": {
    "collapsed": true
   },
   "outputs": [],
   "source": [
    "loss = history.losses\n",
    "val_loss = history.val_losses\n",
    "\n",
    "plt.xlabel('Epochs')\n",
    "plt.ylabel('Loss')\n",
    "plt.title('VGG-16 Loss Trend')\n",
    "plt.plot(loss, 'blue', label='Training Loss')\n",
    "plt.plot(val_loss, 'green', label='Validation Loss')\n",
    "plt.xticks(range(0,nb_epoch)[0::2])\n",
    "plt.legend()\n",
    "plt.show()"
   ]
  },
  {
   "cell_type": "code",
   "execution_count": null,
   "metadata": {
    "collapsed": true
   },
   "outputs": [],
   "source": [
    "predictions = classification_model.predict([training_list_1,training_list_2,training_list_3], verbose=0)"
   ]
  }
 ],
 "metadata": {
  "kernelspec": {
   "display_name": "Python [conda env:python35]",
   "language": "python",
   "name": "conda-env-python35-py"
  },
  "language_info": {
   "codemirror_mode": {
    "name": "ipython",
    "version": 3
   },
   "file_extension": ".py",
   "mimetype": "text/x-python",
   "name": "python",
   "nbconvert_exporter": "python",
   "pygments_lexer": "ipython3",
   "version": "3.5.3"
  }
 },
 "nbformat": 4,
 "nbformat_minor": 1
}

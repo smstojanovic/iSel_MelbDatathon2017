{
 "cells": [
  {
   "cell_type": "code",
   "execution_count": 2,
   "metadata": {
    "collapsed": false
   },
   "outputs": [
    {
     "name": "stderr",
     "output_type": "stream",
     "text": [
      "Loading tidyverse: ggplot2\n",
      "Loading tidyverse: tibble\n",
      "Loading tidyverse: tidyr\n",
      "Loading tidyverse: readr\n",
      "Loading tidyverse: purrr\n",
      "Loading tidyverse: dplyr\n",
      "Conflicts with tidy packages ---------------------------------------------------\n",
      "filter(): dplyr, stats\n",
      "lag():    dplyr, stats\n",
      "\n",
      "Attaching package: 'plotly'\n",
      "\n",
      "The following object is masked from 'package:ggplot2':\n",
      "\n",
      "    last_plot\n",
      "\n",
      "The following object is masked from 'package:stats':\n",
      "\n",
      "    filter\n",
      "\n",
      "The following object is masked from 'package:graphics':\n",
      "\n",
      "    layout\n",
      "\n",
      "Loading required package: lattice\n",
      "\n",
      "Attaching package: 'caret'\n",
      "\n",
      "The following object is masked from 'package:purrr':\n",
      "\n",
      "    lift\n",
      "\n",
      "Warning message:\n",
      "\"package 'ggmap' was built under R version 3.3.3\"\n",
      "Attaching package: 'ggmap'\n",
      "\n",
      "The following object is masked from 'package:plotly':\n",
      "\n",
      "    wind\n",
      "\n",
      "Warning message:\n",
      "\"package 'maptools' was built under R version 3.3.3\"Loading required package: sp\n",
      "Warning message:\n",
      "\"package 'sp' was built under R version 3.3.3\"Checking rgeos availability: FALSE\n",
      " \tNote: when rgeos is not available, polygon geometry \tcomputations in maptools depend on gpclib,\n",
      " \twhich has a restricted licence. It is disabled by default;\n",
      " \tto enable gpclib, type gpclibPermit()\n",
      "Warning message:\n",
      "\"package 'maps' was built under R version 3.3.3\"\n",
      "Attaching package: 'maps'\n",
      "\n",
      "The following object is masked from 'package:purrr':\n",
      "\n",
      "    map\n",
      "\n"
     ]
    }
   ],
   "source": [
    "library(tidyverse)\n",
    "library(feather)\n",
    "library(plotly)\n",
    "library(caret)\n",
    "library(\"ggmap\")\n",
    "library(maptools)\n",
    "library(maps)"
   ]
  },
  {
   "cell_type": "code",
   "execution_count": 3,
   "metadata": {
    "collapsed": false
   },
   "outputs": [
    {
     "name": "stderr",
     "output_type": "stream",
     "text": [
      "Warning message:\n",
      "\"Coercing int64 to double\"Warning message:\n",
      "\"Coercing int64 to double\"Warning message:\n",
      "\"Coercing int64 to double\"Warning message:\n",
      "\"Coercing int64 to double\"Warning message:\n",
      "\"Coercing int64 to double\"Warning message:\n",
      "\"Coercing int64 to double\"Warning message:\n",
      "\"Coercing int64 to double\"Warning message:\n",
      "\"Coercing int64 to double\"Warning message:\n",
      "\"Coercing int64 to double\""
     ]
    }
   ],
   "source": [
    "transactions <- feather::read_feather('..\\\\..\\\\Data\\\\Datathon_2017\\\\Transactions_Frame')"
   ]
  },
  {
   "cell_type": "code",
   "execution_count": 4,
   "metadata": {
    "collapsed": false
   },
   "outputs": [
    {
     "name": "stderr",
     "output_type": "stream",
     "text": [
      "Warning message:\n",
      "\"Coercing int64 to double\"Warning message:\n",
      "\"Coercing int64 to double\"Warning message:\n",
      "\"Coercing int64 to double\"Warning message:\n",
      "\"Coercing int64 to double\"Warning message:\n",
      "\"Coercing int64 to double\"Warning message:\n",
      "\"Coercing int64 to double\"Warning message:\n",
      "\"Coercing int64 to double\"Warning message:\n",
      "\"Coercing int64 to double\""
     ]
    }
   ],
   "source": [
    "ATC_Lookup <- feather::read_feather('..\\\\..\\\\Data\\\\Datathon_2017\\\\ATC_Lookup')\n",
    "ChronicIllness_LookUp <- feather::read_feather('..\\\\..\\\\Data\\\\Datathon_2017\\\\ChronicIllness_LookUp')\n",
    "Drug_LookUp <- feather::read_feather('..\\\\..\\\\Data\\\\Datathon_2017\\\\Drug_LookUp')\n",
    "patients <- feather::read_feather('..\\\\..\\\\Data\\\\Datathon_2017\\\\patients')\n",
    "stores <- feather::read_feather('..\\\\..\\\\Data\\\\Datathon_2017\\\\stores')"
   ]
  },
  {
   "cell_type": "code",
   "execution_count": 5,
   "metadata": {
    "collapsed": true
   },
   "outputs": [],
   "source": [
    "getPostCode <- function(postcode){\n",
    "\n",
    "    visited <- c(paste(\"Australia\",postcode,sep = \"\"))\n",
    "    ll.visited <- geocode(visited)\n",
    "    visit.x <- ll.visited$lon\n",
    "    visit.y <- ll.visited$lat\n",
    "    return(c(visit.x,visit.y))\n",
    "    \n",
    "    }"
   ]
  },
  {
   "cell_type": "code",
   "execution_count": 6,
   "metadata": {
    "collapsed": true
   },
   "outputs": [],
   "source": [
    "postcodes <- read.csv('..\\\\..\\\\Data\\\\Datathon_2017\\\\Australian_Post_Codes_Lat_Lon.csv')"
   ]
  },
  {
   "cell_type": "code",
   "execution_count": 7,
   "metadata": {
    "collapsed": false
   },
   "outputs": [
    {
     "name": "stderr",
     "output_type": "stream",
     "text": [
      "Information from URL : http://maps.googleapis.com/maps/api/geocode/json?address=Australia3168&sensor=false\n"
     ]
    },
    {
     "data": {
      "text/html": [
       "-37.9211962"
      ],
      "text/latex": [
       "-37.9211962"
      ],
      "text/markdown": [
       "-37.9211962"
      ],
      "text/plain": [
       "[1] -37.9212"
      ]
     },
     "metadata": {},
     "output_type": "display_data"
    }
   ],
   "source": [
    "getPostCode(\"3168\")[2]"
   ]
  },
  {
   "cell_type": "code",
   "execution_count": 12,
   "metadata": {
    "collapsed": false
   },
   "outputs": [
    {
     "ename": "ERROR",
     "evalue": "Error: cannot allocate vector of size 512.0 Mb\n",
     "output_type": "error",
     "traceback": [
      "Error: cannot allocate vector of size 512.0 Mb\nTraceback:\n",
      "1. transactions %>% select(Patient_ID) %>% unique",
      "2. withVisible(eval(quote(`_fseq`(`_lhs`)), env, env))",
      "3. eval(quote(`_fseq`(`_lhs`)), env, env)",
      "4. eval(expr, envir, enclos)",
      "5. `_fseq`(`_lhs`)",
      "6. freduce(value, `_function_list`)",
      "7. withVisible(function_list[[k]](value))",
      "8. function_list[[k]](value)",
      "9. unique(.)",
      "10. unique.data.frame(.)",
      "11. x[!duplicated(x, fromLast = fromLast, ...), , drop = FALSE]",
      "12. `[.tbl_df`(x, !duplicated(x, fromLast = fromLast, ...), , drop = FALSE)",
      "13. lapply(x, `[`, i)",
      "14. duplicated(x, fromLast = fromLast, ...)",
      "15. duplicated.data.frame(x, fromLast = fromLast, ...)",
      "16. duplicated(x[[1L]], fromLast = fromLast, ...)",
      "17. duplicated.default(x[[1L]], fromLast = fromLast, ...)"
     ]
    }
   ],
   "source": [
    "patient_ids <- transactions %>% select(Patient_ID) %>% unique\n",
    "sample_patient_id_ix <- sample(1:nrow(patient_ids))[1:(0.05*nrow(patient_ids))]\n",
    "sample_patient_ids <- patient_ids[sample_patient_id_ix,]"
   ]
  },
  {
   "cell_type": "code",
   "execution_count": null,
   "metadata": {
    "collapsed": true
   },
   "outputs": [],
   "source": []
  },
  {
   "cell_type": "code",
   "execution_count": 10,
   "metadata": {
    "collapsed": false
   },
   "outputs": [
    {
     "ename": "ERROR",
     "evalue": "Error: cannot allocate vector of size 435.3 Mb\n",
     "output_type": "error",
     "traceback": [
      "Error: cannot allocate vector of size 435.3 Mb\nTraceback:\n",
      "1. transactions %>% left_join(patients, by = \"Patient_ID\")",
      "2. withVisible(eval(quote(`_fseq`(`_lhs`)), env, env))",
      "3. eval(quote(`_fseq`(`_lhs`)), env, env)",
      "4. eval(expr, envir, enclos)",
      "5. `_fseq`(`_lhs`)",
      "6. freduce(value, `_function_list`)",
      "7. withVisible(function_list[[k]](value))",
      "8. function_list[[k]](value)",
      "9. left_join(., patients, by = \"Patient_ID\")",
      "10. left_join.tbl_df(., patients, by = \"Patient_ID\")",
      "11. left_join_impl(x, y, by$x, by$y, suffix$x, suffix$y)"
     ]
    }
   ],
   "source": [
    "antibiotic_transactions <- transactions %>% \n",
    "    left_join(patients, by='Patient_ID') %>% \n",
    "    left_join(postcodes %>% group_by(postcode) %>%\n",
    "                summarise(lat = mean(lat),\n",
    "                  long = mean(lon))\n",
    "        , by='postcode') %>% \n",
    "    left_join(., Drug_LookUp, by = c('Drug_ID'='MasterProductID')) %>%\n",
    "    left_join(., ATC_Lookup, by = 'ATCLevel5Code') %>% \n",
    "    filter(stringr::str_detect(stringr::str_to_lower(ATCLevel2Name),pattern='antibacterial'))"
   ]
  },
  {
   "cell_type": "code",
   "execution_count": null,
   "metadata": {
    "collapsed": true
   },
   "outputs": [],
   "source": []
  }
 ],
 "metadata": {
  "kernelspec": {
   "display_name": "R",
   "language": "R",
   "name": "ir"
  },
  "language_info": {
   "codemirror_mode": "r",
   "file_extension": ".r",
   "mimetype": "text/x-r-source",
   "name": "R",
   "pygments_lexer": "r",
   "version": "3.3.2"
  }
 },
 "nbformat": 4,
 "nbformat_minor": 2
}

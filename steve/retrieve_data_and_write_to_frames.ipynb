{
 "cells": [
  {
   "cell_type": "code",
   "execution_count": 1,
   "metadata": {
    "collapsed": false
   },
   "outputs": [],
   "source": [
    "import os\n",
    "import numpy as np\n",
    "import pandas as pd\n",
    "import feather\n",
    "from tqdm import tqdm"
   ]
  },
  {
   "cell_type": "markdown",
   "metadata": {},
   "source": [
    "# Transaction directory for files"
   ]
  },
  {
   "cell_type": "code",
   "execution_count": 2,
   "metadata": {
    "collapsed": true
   },
   "outputs": [],
   "source": [
    "TRANS_DIR = '..\\\\Data\\\\Datathon_2017\\\\Transactions'"
   ]
  },
  {
   "cell_type": "code",
   "execution_count": 3,
   "metadata": {
    "collapsed": false
   },
   "outputs": [],
   "source": [
    "trans_files = [TRANS_DIR+'\\\\'+file for file in os.listdir(TRANS_DIR)]"
   ]
  },
  {
   "cell_type": "code",
   "execution_count": 4,
   "metadata": {
    "collapsed": false
   },
   "outputs": [
    {
     "data": {
      "text/plain": [
       "['..\\\\Data\\\\Datathon_2017\\\\Transactions\\\\patients_1.txt',\n",
       " '..\\\\Data\\\\Datathon_2017\\\\Transactions\\\\patients_10.txt',\n",
       " '..\\\\Data\\\\Datathon_2017\\\\Transactions\\\\patients_11.txt',\n",
       " '..\\\\Data\\\\Datathon_2017\\\\Transactions\\\\patients_12.txt',\n",
       " '..\\\\Data\\\\Datathon_2017\\\\Transactions\\\\patients_13.txt',\n",
       " '..\\\\Data\\\\Datathon_2017\\\\Transactions\\\\patients_14.txt',\n",
       " '..\\\\Data\\\\Datathon_2017\\\\Transactions\\\\patients_15.txt',\n",
       " '..\\\\Data\\\\Datathon_2017\\\\Transactions\\\\patients_16.txt',\n",
       " '..\\\\Data\\\\Datathon_2017\\\\Transactions\\\\patients_17.txt',\n",
       " '..\\\\Data\\\\Datathon_2017\\\\Transactions\\\\patients_18.txt',\n",
       " '..\\\\Data\\\\Datathon_2017\\\\Transactions\\\\patients_19.txt',\n",
       " '..\\\\Data\\\\Datathon_2017\\\\Transactions\\\\patients_2.txt',\n",
       " '..\\\\Data\\\\Datathon_2017\\\\Transactions\\\\patients_20.txt',\n",
       " '..\\\\Data\\\\Datathon_2017\\\\Transactions\\\\patients_21.txt',\n",
       " '..\\\\Data\\\\Datathon_2017\\\\Transactions\\\\patients_22.txt',\n",
       " '..\\\\Data\\\\Datathon_2017\\\\Transactions\\\\patients_23.txt',\n",
       " '..\\\\Data\\\\Datathon_2017\\\\Transactions\\\\patients_24.txt',\n",
       " '..\\\\Data\\\\Datathon_2017\\\\Transactions\\\\patients_25.txt',\n",
       " '..\\\\Data\\\\Datathon_2017\\\\Transactions\\\\patients_26.txt',\n",
       " '..\\\\Data\\\\Datathon_2017\\\\Transactions\\\\patients_27.txt',\n",
       " '..\\\\Data\\\\Datathon_2017\\\\Transactions\\\\patients_28.txt',\n",
       " '..\\\\Data\\\\Datathon_2017\\\\Transactions\\\\patients_29.txt',\n",
       " '..\\\\Data\\\\Datathon_2017\\\\Transactions\\\\patients_3.txt',\n",
       " '..\\\\Data\\\\Datathon_2017\\\\Transactions\\\\patients_30.txt',\n",
       " '..\\\\Data\\\\Datathon_2017\\\\Transactions\\\\patients_31.txt',\n",
       " '..\\\\Data\\\\Datathon_2017\\\\Transactions\\\\patients_32.txt',\n",
       " '..\\\\Data\\\\Datathon_2017\\\\Transactions\\\\patients_33.txt',\n",
       " '..\\\\Data\\\\Datathon_2017\\\\Transactions\\\\patients_34.txt',\n",
       " '..\\\\Data\\\\Datathon_2017\\\\Transactions\\\\patients_35.txt',\n",
       " '..\\\\Data\\\\Datathon_2017\\\\Transactions\\\\patients_36.txt',\n",
       " '..\\\\Data\\\\Datathon_2017\\\\Transactions\\\\patients_37.txt',\n",
       " '..\\\\Data\\\\Datathon_2017\\\\Transactions\\\\patients_39.txt',\n",
       " '..\\\\Data\\\\Datathon_2017\\\\Transactions\\\\patients_4.txt',\n",
       " '..\\\\Data\\\\Datathon_2017\\\\Transactions\\\\patients_40.txt',\n",
       " '..\\\\Data\\\\Datathon_2017\\\\Transactions\\\\patients_41.txt',\n",
       " '..\\\\Data\\\\Datathon_2017\\\\Transactions\\\\patients_42.txt',\n",
       " '..\\\\Data\\\\Datathon_2017\\\\Transactions\\\\patients_43.txt',\n",
       " '..\\\\Data\\\\Datathon_2017\\\\Transactions\\\\patients_44.txt',\n",
       " '..\\\\Data\\\\Datathon_2017\\\\Transactions\\\\patients_45.txt',\n",
       " '..\\\\Data\\\\Datathon_2017\\\\Transactions\\\\patients_46.txt',\n",
       " '..\\\\Data\\\\Datathon_2017\\\\Transactions\\\\patients_47.txt',\n",
       " '..\\\\Data\\\\Datathon_2017\\\\Transactions\\\\patients_48.txt',\n",
       " '..\\\\Data\\\\Datathon_2017\\\\Transactions\\\\patients_49.txt',\n",
       " '..\\\\Data\\\\Datathon_2017\\\\Transactions\\\\patients_5.txt',\n",
       " '..\\\\Data\\\\Datathon_2017\\\\Transactions\\\\patients_50.txt',\n",
       " '..\\\\Data\\\\Datathon_2017\\\\Transactions\\\\patients_6.txt',\n",
       " '..\\\\Data\\\\Datathon_2017\\\\Transactions\\\\patients_7.txt',\n",
       " '..\\\\Data\\\\Datathon_2017\\\\Transactions\\\\patients_8.txt']"
      ]
     },
     "execution_count": 4,
     "metadata": {},
     "output_type": "execute_result"
    }
   ],
   "source": [
    "trans_files"
   ]
  },
  {
   "cell_type": "code",
   "execution_count": 5,
   "metadata": {
    "collapsed": false
   },
   "outputs": [],
   "source": [
    "df = pd.read_table('..\\\\Data\\\\Datathon_2017\\\\Transactions\\\\patients_1.txt')"
   ]
  },
  {
   "cell_type": "code",
   "execution_count": 6,
   "metadata": {
    "collapsed": false,
    "scrolled": true
   },
   "outputs": [
    {
     "name": "stderr",
     "output_type": "stream",
     "text": [
      " 21%|████████▊                                 | 10/48 [00:44<03:27,  5.46s/it]"
     ]
    },
    {
     "ename": "KeyboardInterrupt",
     "evalue": "",
     "output_type": "error",
     "traceback": [
      "\u001b[1;31m---------------------------------------------------------------------------\u001b[0m",
      "\u001b[1;31mKeyboardInterrupt\u001b[0m                         Traceback (most recent call last)",
      "\u001b[1;32m<ipython-input-6-7d2e6c19fe02>\u001b[0m in \u001b[0;36m<module>\u001b[1;34m()\u001b[0m\n\u001b[0;32m      1\u001b[0m \u001b[1;32mfor\u001b[0m \u001b[0mfile_name\u001b[0m \u001b[1;32min\u001b[0m \u001b[0mtqdm\u001b[0m\u001b[1;33m(\u001b[0m\u001b[0mtrans_files\u001b[0m\u001b[1;33m)\u001b[0m\u001b[1;33m:\u001b[0m\u001b[1;33m\u001b[0m\u001b[0m\n\u001b[0;32m      2\u001b[0m     \u001b[1;32mif\u001b[0m \u001b[0mfile_name\u001b[0m \u001b[1;33m!=\u001b[0m \u001b[1;34m'..\\\\Data\\\\Datathon_2017\\\\Transactions\\\\patients_1.txt'\u001b[0m\u001b[1;33m:\u001b[0m\u001b[1;33m\u001b[0m\u001b[0m\n\u001b[1;32m----> 3\u001b[1;33m         \u001b[0mdf\u001b[0m \u001b[1;33m=\u001b[0m \u001b[0mpd\u001b[0m\u001b[1;33m.\u001b[0m\u001b[0mconcat\u001b[0m\u001b[1;33m(\u001b[0m\u001b[1;33m[\u001b[0m\u001b[0mdf\u001b[0m\u001b[1;33m,\u001b[0m\u001b[0mpd\u001b[0m\u001b[1;33m.\u001b[0m\u001b[0mread_table\u001b[0m\u001b[1;33m(\u001b[0m\u001b[0mfile_name\u001b[0m\u001b[1;33m)\u001b[0m\u001b[1;33m]\u001b[0m\u001b[1;33m)\u001b[0m\u001b[1;33m\u001b[0m\u001b[0m\n\u001b[0m",
      "\u001b[1;32mC:\\Users\\sstojanovic\\AppData\\Local\\Continuum\\Anaconda2\\envs\\python35\\lib\\site-packages\\pandas\\io\\parsers.py\u001b[0m in \u001b[0;36mparser_f\u001b[1;34m(filepath_or_buffer, sep, delimiter, header, names, index_col, usecols, squeeze, prefix, mangle_dupe_cols, dtype, engine, converters, true_values, false_values, skipinitialspace, skiprows, nrows, na_values, keep_default_na, na_filter, verbose, skip_blank_lines, parse_dates, infer_datetime_format, keep_date_col, date_parser, dayfirst, iterator, chunksize, compression, thousands, decimal, lineterminator, quotechar, quoting, escapechar, comment, encoding, dialect, tupleize_cols, error_bad_lines, warn_bad_lines, skipfooter, skip_footer, doublequote, delim_whitespace, as_recarray, compact_ints, use_unsigned, low_memory, buffer_lines, memory_map, float_precision)\u001b[0m\n\u001b[0;32m    644\u001b[0m                     skip_blank_lines=skip_blank_lines)\n\u001b[0;32m    645\u001b[0m \u001b[1;33m\u001b[0m\u001b[0m\n\u001b[1;32m--> 646\u001b[1;33m         \u001b[1;32mreturn\u001b[0m \u001b[0m_read\u001b[0m\u001b[1;33m(\u001b[0m\u001b[0mfilepath_or_buffer\u001b[0m\u001b[1;33m,\u001b[0m \u001b[0mkwds\u001b[0m\u001b[1;33m)\u001b[0m\u001b[1;33m\u001b[0m\u001b[0m\n\u001b[0m\u001b[0;32m    647\u001b[0m \u001b[1;33m\u001b[0m\u001b[0m\n\u001b[0;32m    648\u001b[0m     \u001b[0mparser_f\u001b[0m\u001b[1;33m.\u001b[0m\u001b[0m__name__\u001b[0m \u001b[1;33m=\u001b[0m \u001b[0mname\u001b[0m\u001b[1;33m\u001b[0m\u001b[0m\n",
      "\u001b[1;32mC:\\Users\\sstojanovic\\AppData\\Local\\Continuum\\Anaconda2\\envs\\python35\\lib\\site-packages\\pandas\\io\\parsers.py\u001b[0m in \u001b[0;36m_read\u001b[1;34m(filepath_or_buffer, kwds)\u001b[0m\n\u001b[0;32m    399\u001b[0m         \u001b[1;32mreturn\u001b[0m \u001b[0mparser\u001b[0m\u001b[1;33m\u001b[0m\u001b[0m\n\u001b[0;32m    400\u001b[0m \u001b[1;33m\u001b[0m\u001b[0m\n\u001b[1;32m--> 401\u001b[1;33m     \u001b[0mdata\u001b[0m \u001b[1;33m=\u001b[0m \u001b[0mparser\u001b[0m\u001b[1;33m.\u001b[0m\u001b[0mread\u001b[0m\u001b[1;33m(\u001b[0m\u001b[1;33m)\u001b[0m\u001b[1;33m\u001b[0m\u001b[0m\n\u001b[0m\u001b[0;32m    402\u001b[0m     \u001b[0mparser\u001b[0m\u001b[1;33m.\u001b[0m\u001b[0mclose\u001b[0m\u001b[1;33m(\u001b[0m\u001b[1;33m)\u001b[0m\u001b[1;33m\u001b[0m\u001b[0m\n\u001b[0;32m    403\u001b[0m     \u001b[1;32mreturn\u001b[0m \u001b[0mdata\u001b[0m\u001b[1;33m\u001b[0m\u001b[0m\n",
      "\u001b[1;32mC:\\Users\\sstojanovic\\AppData\\Local\\Continuum\\Anaconda2\\envs\\python35\\lib\\site-packages\\pandas\\io\\parsers.py\u001b[0m in \u001b[0;36mread\u001b[1;34m(self, nrows)\u001b[0m\n\u001b[0;32m    937\u001b[0m                 \u001b[1;32mraise\u001b[0m \u001b[0mValueError\u001b[0m\u001b[1;33m(\u001b[0m\u001b[1;34m'skipfooter not supported for iteration'\u001b[0m\u001b[1;33m)\u001b[0m\u001b[1;33m\u001b[0m\u001b[0m\n\u001b[0;32m    938\u001b[0m \u001b[1;33m\u001b[0m\u001b[0m\n\u001b[1;32m--> 939\u001b[1;33m         \u001b[0mret\u001b[0m \u001b[1;33m=\u001b[0m \u001b[0mself\u001b[0m\u001b[1;33m.\u001b[0m\u001b[0m_engine\u001b[0m\u001b[1;33m.\u001b[0m\u001b[0mread\u001b[0m\u001b[1;33m(\u001b[0m\u001b[0mnrows\u001b[0m\u001b[1;33m)\u001b[0m\u001b[1;33m\u001b[0m\u001b[0m\n\u001b[0m\u001b[0;32m    940\u001b[0m \u001b[1;33m\u001b[0m\u001b[0m\n\u001b[0;32m    941\u001b[0m         \u001b[1;32mif\u001b[0m \u001b[0mself\u001b[0m\u001b[1;33m.\u001b[0m\u001b[0moptions\u001b[0m\u001b[1;33m.\u001b[0m\u001b[0mget\u001b[0m\u001b[1;33m(\u001b[0m\u001b[1;34m'as_recarray'\u001b[0m\u001b[1;33m)\u001b[0m\u001b[1;33m:\u001b[0m\u001b[1;33m\u001b[0m\u001b[0m\n",
      "\u001b[1;32mC:\\Users\\sstojanovic\\AppData\\Local\\Continuum\\Anaconda2\\envs\\python35\\lib\\site-packages\\pandas\\io\\parsers.py\u001b[0m in \u001b[0;36mread\u001b[1;34m(self, nrows)\u001b[0m\n\u001b[0;32m   1506\u001b[0m     \u001b[1;32mdef\u001b[0m \u001b[0mread\u001b[0m\u001b[1;33m(\u001b[0m\u001b[0mself\u001b[0m\u001b[1;33m,\u001b[0m \u001b[0mnrows\u001b[0m\u001b[1;33m=\u001b[0m\u001b[1;32mNone\u001b[0m\u001b[1;33m)\u001b[0m\u001b[1;33m:\u001b[0m\u001b[1;33m\u001b[0m\u001b[0m\n\u001b[0;32m   1507\u001b[0m         \u001b[1;32mtry\u001b[0m\u001b[1;33m:\u001b[0m\u001b[1;33m\u001b[0m\u001b[0m\n\u001b[1;32m-> 1508\u001b[1;33m             \u001b[0mdata\u001b[0m \u001b[1;33m=\u001b[0m \u001b[0mself\u001b[0m\u001b[1;33m.\u001b[0m\u001b[0m_reader\u001b[0m\u001b[1;33m.\u001b[0m\u001b[0mread\u001b[0m\u001b[1;33m(\u001b[0m\u001b[0mnrows\u001b[0m\u001b[1;33m)\u001b[0m\u001b[1;33m\u001b[0m\u001b[0m\n\u001b[0m\u001b[0;32m   1509\u001b[0m         \u001b[1;32mexcept\u001b[0m \u001b[0mStopIteration\u001b[0m\u001b[1;33m:\u001b[0m\u001b[1;33m\u001b[0m\u001b[0m\n\u001b[0;32m   1510\u001b[0m             \u001b[1;32mif\u001b[0m \u001b[0mself\u001b[0m\u001b[1;33m.\u001b[0m\u001b[0m_first_chunk\u001b[0m\u001b[1;33m:\u001b[0m\u001b[1;33m\u001b[0m\u001b[0m\n",
      "\u001b[1;32mpandas\\parser.pyx\u001b[0m in \u001b[0;36mpandas.parser.TextReader.read (pandas\\parser.c:10415)\u001b[1;34m()\u001b[0m\n",
      "\u001b[1;32mpandas\\parser.pyx\u001b[0m in \u001b[0;36mpandas.parser.TextReader._read_low_memory (pandas\\parser.c:10691)\u001b[1;34m()\u001b[0m\n",
      "\u001b[1;32mpandas\\parser.pyx\u001b[0m in \u001b[0;36mpandas.parser.TextReader._read_rows (pandas\\parser.c:11728)\u001b[1;34m()\u001b[0m\n",
      "\u001b[1;32mpandas\\parser.pyx\u001b[0m in \u001b[0;36mpandas.parser.TextReader._convert_column_data (pandas\\parser.c:13162)\u001b[1;34m()\u001b[0m\n",
      "\u001b[1;32mpandas\\parser.pyx\u001b[0m in \u001b[0;36mpandas.parser.TextReader._convert_tokens (pandas\\parser.c:14116)\u001b[1;34m()\u001b[0m\n",
      "\u001b[1;32mpandas\\parser.pyx\u001b[0m in \u001b[0;36mpandas.parser.TextReader._convert_with_dtype (pandas\\parser.c:14783)\u001b[1;34m()\u001b[0m\n",
      "\u001b[1;32mC:\\Users\\sstojanovic\\AppData\\Local\\Continuum\\Anaconda2\\envs\\python35\\lib\\site-packages\\pandas\\types\\common.py\u001b[0m in \u001b[0;36mis_integer_dtype\u001b[1;34m(arr_or_dtype)\u001b[0m\n\u001b[0;32m    151\u001b[0m \u001b[1;33m\u001b[0m\u001b[0m\n\u001b[0;32m    152\u001b[0m \u001b[1;33m\u001b[0m\u001b[0m\n\u001b[1;32m--> 153\u001b[1;33m \u001b[1;32mdef\u001b[0m \u001b[0mis_integer_dtype\u001b[0m\u001b[1;33m(\u001b[0m\u001b[0marr_or_dtype\u001b[0m\u001b[1;33m)\u001b[0m\u001b[1;33m:\u001b[0m\u001b[1;33m\u001b[0m\u001b[0m\n\u001b[0m\u001b[0;32m    154\u001b[0m     \u001b[0mtipo\u001b[0m \u001b[1;33m=\u001b[0m \u001b[0m_get_dtype_type\u001b[0m\u001b[1;33m(\u001b[0m\u001b[0marr_or_dtype\u001b[0m\u001b[1;33m)\u001b[0m\u001b[1;33m\u001b[0m\u001b[0m\n\u001b[0;32m    155\u001b[0m     return (issubclass(tipo, np.integer) and\n",
      "\u001b[1;31mKeyboardInterrupt\u001b[0m: "
     ]
    }
   ],
   "source": [
    "for file_name in tqdm(trans_files):\n",
    "    if file_name != '..\\\\Data\\\\Datathon_2017\\\\Transactions\\\\patients_1.txt':\n",
    "        df = pd.concat([df,pd.read_table(file_name)])"
   ]
  },
  {
   "cell_type": "code",
   "execution_count": 7,
   "metadata": {
    "collapsed": false
   },
   "outputs": [],
   "source": [
    "feather.write_dataframe(df, '..\\\\Data\\\\Datathon_2017\\\\Transactions_Frame')"
   ]
  },
  {
   "cell_type": "code",
   "execution_count": 8,
   "metadata": {
    "collapsed": false
   },
   "outputs": [],
   "source": [
    "ATC_Lookup = pd.read_table('..\\\\Data\\\\Datathon_2017\\\\Lookups\\\\ATC_LookUp.txt')\n",
    "ChronicIllness_LookUp = pd.read_table('..\\\\Data\\\\Datathon_2017\\\\Lookups\\\\ChronicIllness_LookUp.txt')\n",
    "Drug_LookUp = pd.read_table('..\\\\Data\\\\Datathon_2017\\\\Lookups\\\\Drug_LookUp.txt')\n",
    "patients = pd.read_table('..\\\\Data\\\\Datathon_2017\\\\Lookups\\\\patients.txt')\n",
    "stores = pd.read_table('..\\\\Data\\\\Datathon_2017\\\\Lookups\\\\stores.txt')"
   ]
  },
  {
   "cell_type": "code",
   "execution_count": 9,
   "metadata": {
    "collapsed": true
   },
   "outputs": [],
   "source": [
    "feather.write_dataframe(ATC_Lookup, '..\\\\Data\\\\Datathon_2017\\\\ATC_Lookup')\n",
    "feather.write_dataframe(ChronicIllness_LookUp, '..\\\\Data\\\\Datathon_2017\\\\ChronicIllness_LookUp')\n",
    "feather.write_dataframe(Drug_LookUp, '..\\\\Data\\\\Datathon_2017\\\\Drug_LookUp')\n",
    "feather.write_dataframe(patients, '..\\\\Data\\\\Datathon_2017\\\\patients')\n",
    "feather.write_dataframe(stores, '..\\\\Data\\\\Datathon_2017\\\\stores')"
   ]
  },
  {
   "cell_type": "code",
   "execution_count": null,
   "metadata": {
    "collapsed": true
   },
   "outputs": [],
   "source": []
  }
 ],
 "metadata": {
  "anaconda-cloud": {},
  "kernelspec": {
   "display_name": "Python [conda env:python35]",
   "language": "python",
   "name": "conda-env-python35-py"
  },
  "language_info": {
   "codemirror_mode": {
    "name": "ipython",
    "version": 3
   },
   "file_extension": ".py",
   "mimetype": "text/x-python",
   "name": "python",
   "nbconvert_exporter": "python",
   "pygments_lexer": "ipython3",
   "version": "3.5.3"
  }
 },
 "nbformat": 4,
 "nbformat_minor": 2
}

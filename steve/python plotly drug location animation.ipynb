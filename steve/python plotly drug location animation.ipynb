{
 "cells": [
  {
   "cell_type": "code",
   "execution_count": 1,
   "metadata": {
    "collapsed": false
   },
   "outputs": [],
   "source": [
    "import numpy as np\n",
    "import pandas as pd\n",
    "import feather\n",
    "import plotly"
   ]
  },
  {
   "cell_type": "code",
   "execution_count": 2,
   "metadata": {
    "collapsed": true
   },
   "outputs": [],
   "source": [
    "import plotly.plotly as py\n",
    "from plotly.offline import download_plotlyjs, init_notebook_mode, plot, iplot\n",
    "from plotly.grid_objs import Grid, Column\n",
    "from plotly.graph_objs import *"
   ]
  },
  {
   "cell_type": "code",
   "execution_count": 3,
   "metadata": {
    "collapsed": false
   },
   "outputs": [
    {
     "data": {
      "text/html": [
       "<script>requirejs.config({paths: { 'plotly': ['https://cdn.plot.ly/plotly-latest.min']},});if(!window.Plotly) {{require(['plotly'],function(plotly) {window.Plotly=plotly;});}}</script>"
      ],
      "text/vnd.plotly.v1+html": [
       "<script>requirejs.config({paths: { 'plotly': ['https://cdn.plot.ly/plotly-latest.min']},});if(!window.Plotly) {{require(['plotly'],function(plotly) {window.Plotly=plotly;});}}</script>"
      ]
     },
     "metadata": {},
     "output_type": "display_data"
    }
   ],
   "source": [
    "init_notebook_mode(connected=True)"
   ]
  },
  {
   "cell_type": "code",
   "execution_count": 6,
   "metadata": {
    "collapsed": false
   },
   "outputs": [],
   "source": [
    "#x = np.random.randn(2000)\n",
    "#y = np.random.randn(2000)\n",
    "#iplot([Histogram2dContour(x=x, y=y, contours=Contours(coloring='heatmap')),\n",
    "#       Scatter(x=x, y=y, mode='markers', marker=Marker(color='white', size=3, opacity=0.3))], show_link=False)"
   ]
  },
  {
   "cell_type": "code",
   "execution_count": 8,
   "metadata": {
    "collapsed": false
   },
   "outputs": [],
   "source": [
    "import time\n",
    "\n",
    "column_1 = Column([0.5], 'x')\n",
    "column_2 = Column([0.5], 'y')\n",
    "column_3 = Column([1.5], 'x2')\n",
    "column_4 = Column([1.5], 'y2')\n",
    "\n",
    "grid = Grid([column_1, column_2, column_3, column_4])\n",
    "#py.grid_ops.upload(grid, 'ping_pong_grid'+str(time.time()), auto_open=False)"
   ]
  },
  {
   "cell_type": "code",
   "execution_count": null,
   "metadata": {
    "collapsed": true
   },
   "outputs": [],
   "source": []
  },
  {
   "cell_type": "code",
   "execution_count": 12,
   "metadata": {
    "collapsed": false
   },
   "outputs": [
    {
     "data": {
      "text/html": [
       "<script>requirejs.config({paths: { 'plotly': ['https://cdn.plot.ly/plotly-latest.min']},});if(!window.Plotly) {{require(['plotly'],function(plotly) {window.Plotly=plotly;});}}</script>"
      ],
      "text/vnd.plotly.v1+html": [
       "<script>requirejs.config({paths: { 'plotly': ['https://cdn.plot.ly/plotly-latest.min']},});if(!window.Plotly) {{require(['plotly'],function(plotly) {window.Plotly=plotly;});}}</script>"
      ]
     },
     "metadata": {},
     "output_type": "display_data"
    },
    {
     "data": {
      "application/vnd.plotly.v1+json": {
       "data": [
        {
         "x": [
          0,
          1
         ],
         "y": [
          0,
          1
         ]
        }
       ],
       "layout": {
        "title": "Start Title",
        "updatemenus": [
         {
          "buttons": [
           {
            "args": [
             null
            ],
            "label": "Play",
            "method": "animate"
           }
          ],
          "type": "buttons"
         }
        ],
        "xaxis": {
         "autorange": false,
         "range": [
          0,
          5
         ]
        },
        "yaxis": {
         "autorange": false,
         "range": [
          0,
          5
         ]
        }
       }
      },
      "text/html": [
       "<div id=\"451df839-d58e-4c10-9074-95efa757fdd2\" style=\"height: 525px; width: 100%;\" class=\"plotly-graph-div\"></div><script type=\"text/javascript\">require([\"plotly\"], function(Plotly) { window.PLOTLYENV=window.PLOTLYENV || {};window.PLOTLYENV.BASE_URL=\"https://plot.ly\";\n",
       "        Plotly.plot(\n",
       "            '451df839-d58e-4c10-9074-95efa757fdd2',\n",
       "            [{\"y\": [0, 1], \"x\": [0, 1]}],\n",
       "            {\"title\": \"Start Title\", \"yaxis\": {\"range\": [0, 5], \"autorange\": false}, \"updatemenus\": [{\"type\": \"buttons\", \"buttons\": [{\"method\": \"animate\", \"label\": \"Play\", \"args\": [null]}]}], \"xaxis\": {\"range\": [0, 5], \"autorange\": false}},\n",
       "            {\"linkText\": \"Export to plot.ly\", \"showLink\": true}\n",
       "        ).then(function () {return Plotly.addFrames('451df839-d58e-4c10-9074-95efa757fdd2',[{\"data\": [{\"y\": [1, 2], \"x\": [1, 2]}]}, {\"data\": [{\"y\": [1, 4], \"x\": [1, 4]}]}, {\"data\": [{\"y\": [3, 4], \"x\": [3, 4]}], \"layout\": {\"title\": \"End Title\"}}]);}).then(function(){Plotly.animate('451df839-d58e-4c10-9074-95efa757fdd2');})\n",
       "        });</script>"
      ],
      "text/vnd.plotly.v1+html": [
       "<div id=\"451df839-d58e-4c10-9074-95efa757fdd2\" style=\"height: 525px; width: 100%;\" class=\"plotly-graph-div\"></div><script type=\"text/javascript\">require([\"plotly\"], function(Plotly) { window.PLOTLYENV=window.PLOTLYENV || {};window.PLOTLYENV.BASE_URL=\"https://plot.ly\";\n",
       "        Plotly.plot(\n",
       "            '451df839-d58e-4c10-9074-95efa757fdd2',\n",
       "            [{\"y\": [0, 1], \"x\": [0, 1]}],\n",
       "            {\"title\": \"Start Title\", \"yaxis\": {\"range\": [0, 5], \"autorange\": false}, \"updatemenus\": [{\"type\": \"buttons\", \"buttons\": [{\"method\": \"animate\", \"label\": \"Play\", \"args\": [null]}]}], \"xaxis\": {\"range\": [0, 5], \"autorange\": false}},\n",
       "            {\"linkText\": \"Export to plot.ly\", \"showLink\": true}\n",
       "        ).then(function () {return Plotly.addFrames('451df839-d58e-4c10-9074-95efa757fdd2',[{\"data\": [{\"y\": [1, 2], \"x\": [1, 2]}]}, {\"data\": [{\"y\": [1, 4], \"x\": [1, 4]}]}, {\"data\": [{\"y\": [3, 4], \"x\": [3, 4]}], \"layout\": {\"title\": \"End Title\"}}]);}).then(function(){Plotly.animate('451df839-d58e-4c10-9074-95efa757fdd2');})\n",
       "        });</script>"
      ]
     },
     "metadata": {},
     "output_type": "display_data"
    }
   ],
   "source": [
    "from plotly.offline import init_notebook_mode, iplot\n",
    "from IPython.display import display, HTML\n",
    "\n",
    "init_notebook_mode(connected=True)\n",
    "\n",
    "figure = {'data': [{'x': [0, 1], 'y': [0, 1]}],\n",
    "          'layout': {'xaxis': {'range': [0, 5], 'autorange': False},\n",
    "                     'yaxis': {'range': [0, 5], 'autorange': False},\n",
    "                     'title': 'Start Title',\n",
    "                     'updatemenus': [{'type': 'buttons',\n",
    "                                      'buttons': [{'label': 'Play',\n",
    "                                                   'method': 'animate',\n",
    "                                                   'args': [None]}]}]\n",
    "                    },\n",
    "          'frames': [{'data': [{'x': [1, 2], 'y': [1, 2]}]},\n",
    "                     {'data': [{'x': [1, 4], 'y': [1, 4]}]},\n",
    "                     {'data': [{'x': [3, 4], 'y': [3, 4]}],\n",
    "                      'layout': {'title': 'End Title'}}]}\n",
    "\n",
    "iplot(figure)"
   ]
  },
  {
   "cell_type": "code",
   "execution_count": null,
   "metadata": {
    "collapsed": true
   },
   "outputs": [],
   "source": []
  }
 ],
 "metadata": {
  "anaconda-cloud": {},
  "kernelspec": {
   "display_name": "Python [conda env:python35]",
   "language": "python",
   "name": "conda-env-python35-py"
  },
  "language_info": {
   "codemirror_mode": {
    "name": "ipython",
    "version": 3
   },
   "file_extension": ".py",
   "mimetype": "text/x-python",
   "name": "python",
   "nbconvert_exporter": "python",
   "pygments_lexer": "ipython3",
   "version": "3.5.3"
  }
 },
 "nbformat": 4,
 "nbformat_minor": 1
}

{
 "cells": [
  {
   "cell_type": "code",
   "execution_count": 1,
   "metadata": {
    "collapsed": false
   },
   "outputs": [
    {
     "name": "stderr",
     "output_type": "stream",
     "text": [
      "Loading tidyverse: ggplot2\n",
      "Loading tidyverse: tibble\n",
      "Loading tidyverse: tidyr\n",
      "Loading tidyverse: readr\n",
      "Loading tidyverse: purrr\n",
      "Loading tidyverse: dplyr\n",
      "Conflicts with tidy packages ---------------------------------------------------\n",
      "filter(): dplyr, stats\n",
      "lag():    dplyr, stats\n",
      "\n",
      "Attaching package: 'plotly'\n",
      "\n",
      "The following object is masked from 'package:ggplot2':\n",
      "\n",
      "    last_plot\n",
      "\n",
      "The following object is masked from 'package:stats':\n",
      "\n",
      "    filter\n",
      "\n",
      "The following object is masked from 'package:graphics':\n",
      "\n",
      "    layout\n",
      "\n",
      "\n",
      "Attaching package: 'caret'\n",
      "\n",
      "The following object is masked from 'package:purrr':\n",
      "\n",
      "    lift\n",
      "\n"
     ]
    }
   ],
   "source": [
    "library(tidyverse)\n",
    "library(feather)\n",
    "library(plotly)\n",
    "library(caret)"
   ]
  },
  {
   "cell_type": "code",
   "execution_count": 2,
   "metadata": {
    "collapsed": false
   },
   "outputs": [
    {
     "name": "stderr",
     "output_type": "stream",
     "text": [
      "Warning message:\n",
      "\"Coercing int64 to double\"Warning message:\n",
      "\"Coercing int64 to double\"Warning message:\n",
      "\"Coercing int64 to double\"Warning message:\n",
      "\"Coercing int64 to double\"Warning message:\n",
      "\"Coercing int64 to double\"Warning message:\n",
      "\"Coercing int64 to double\"Warning message:\n",
      "\"Coercing int64 to double\"Warning message:\n",
      "\"Coercing int64 to double\"Warning message:\n",
      "\"Coercing int64 to double\""
     ]
    }
   ],
   "source": [
    "transactions <- feather::read_feather('..\\\\Data\\\\Datathon_2017\\\\Transactions_Frame')"
   ]
  },
  {
   "cell_type": "code",
   "execution_count": 3,
   "metadata": {
    "collapsed": false
   },
   "outputs": [
    {
     "name": "stderr",
     "output_type": "stream",
     "text": [
      "Warning message:\n",
      "\"Coercing int64 to double\"Warning message:\n",
      "\"Coercing int64 to double\"Warning message:\n",
      "\"Coercing int64 to double\"Warning message:\n",
      "\"Coercing int64 to double\"Warning message:\n",
      "\"Coercing int64 to double\"Warning message:\n",
      "\"Coercing int64 to double\"Warning message:\n",
      "\"Coercing int64 to double\"Warning message:\n",
      "\"Coercing int64 to double\""
     ]
    }
   ],
   "source": [
    "ATC_Lookup <- feather::read_feather('..\\\\Data\\\\Datathon_2017\\\\ATC_Lookup')\n",
    "ChronicIllness_LookUp <- feather::read_feather('..\\\\Data\\\\Datathon_2017\\\\ChronicIllness_LookUp')\n",
    "Drug_LookUp <- feather::read_feather('..\\\\Data\\\\Datathon_2017\\\\Drug_LookUp')\n",
    "patients <- feather::read_feather('..\\\\Data\\\\Datathon_2017\\\\patients')\n",
    "stores <- feather::read_feather('..\\\\Data\\\\Datathon_2017\\\\stores')"
   ]
  },
  {
   "cell_type": "code",
   "execution_count": 4,
   "metadata": {
    "collapsed": false
   },
   "outputs": [],
   "source": [
    "patient_ids <- transactions %>% select(Patient_ID) %>% unique\n",
    "sample_patient_id_ix <- sample(1:nrow(patient_ids))[1:(0.01*nrow(patient_ids))]\n",
    "sample_patient_ids <- patient_ids[sample_patient_id_ix,]"
   ]
  },
  {
   "cell_type": "code",
   "execution_count": 5,
   "metadata": {
    "collapsed": false
   },
   "outputs": [],
   "source": [
    "sample_transactions <- transactions %>% filter(Patient_ID %in% sample_patient_ids$Patient_ID)"
   ]
  },
  {
   "cell_type": "code",
   "execution_count": 6,
   "metadata": {
    "collapsed": false
   },
   "outputs": [
    {
     "data": {
      "text/html": [
       "124037"
      ],
      "text/latex": [
       "124037"
      ],
      "text/markdown": [
       "124037"
      ],
      "text/plain": [
       "[1] 124037"
      ]
     },
     "metadata": {},
     "output_type": "display_data"
    }
   ],
   "source": [
    "nrow(sample_transactions)"
   ]
  },
  {
   "cell_type": "code",
   "execution_count": 21,
   "metadata": {
    "collapsed": false
   },
   "outputs": [
    {
     "data": {
      "text/html": [
       "<table>\n",
       "<thead><tr><th scope=col>Patient_ID</th><th scope=col>Store_ID</th><th scope=col>Prescriber_ID</th><th scope=col>Drug_ID</th><th scope=col>SourceSystem_Code</th><th scope=col>Prescription_Week</th><th scope=col>Dispense_Week</th><th scope=col>Drug_Code</th><th scope=col>NHS_Code</th><th scope=col>IsDeferredScript</th><th scope=col>Script_Qty</th><th scope=col>Dispensed_Qty</th><th scope=col>MaxDispense_Qty</th><th scope=col>PatientPrice_Amt</th><th scope=col>WholeSalePrice_Amt</th><th scope=col>GovernmentReclaim_Amt</th><th scope=col>RepeatsTotal_Qty</th><th scope=col>RepeatsLeft_Qty</th><th scope=col>StreamlinedApproval_Code</th></tr></thead>\n",
       "<tbody>\n",
       "\t<tr><td>7         </td><td>1427      </td><td>25168     </td><td>3423      </td><td>F         </td><td>2011-07-10</td><td>2011-08-07</td><td>FLOM2     </td><td>4070F     </td><td>0         </td><td>30        </td><td>2         </td><td>NA        </td><td>50        </td><td>46.21     </td><td>0         </td><td>6         </td><td>4         </td><td>NA        </td></tr>\n",
       "</tbody>\n",
       "</table>\n"
      ],
      "text/latex": [
       "\\begin{tabular}{r|lllllllllllllllllll}\n",
       " Patient\\_ID & Store\\_ID & Prescriber\\_ID & Drug\\_ID & SourceSystem\\_Code & Prescription\\_Week & Dispense\\_Week & Drug\\_Code & NHS\\_Code & IsDeferredScript & Script\\_Qty & Dispensed\\_Qty & MaxDispense\\_Qty & PatientPrice\\_Amt & WholeSalePrice\\_Amt & GovernmentReclaim\\_Amt & RepeatsTotal\\_Qty & RepeatsLeft\\_Qty & StreamlinedApproval\\_Code\\\\\n",
       "\\hline\n",
       "\t 7          & 1427       & 25168      & 3423       & F          & 2011-07-10 & 2011-08-07 & FLOM2      & 4070F      & 0          & 30         & 2          & NA         & 50         & 46.21      & 0          & 6          & 4          & NA        \\\\\n",
       "\\end{tabular}\n"
      ],
      "text/plain": [
       "  Patient_ID Store_ID Prescriber_ID Drug_ID SourceSystem_Code Prescription_Week\n",
       "1 7          1427     25168         3423    F                 2011-07-10       \n",
       "  Dispense_Week Drug_Code NHS_Code IsDeferredScript Script_Qty Dispensed_Qty\n",
       "1 2011-08-07    FLOM2     4070F    0                30         2            \n",
       "  MaxDispense_Qty PatientPrice_Amt WholeSalePrice_Amt GovernmentReclaim_Amt\n",
       "1 NA              50               46.21              0                    \n",
       "  RepeatsTotal_Qty RepeatsLeft_Qty StreamlinedApproval_Code\n",
       "1 6                4               NA                      "
      ]
     },
     "metadata": {},
     "output_type": "display_data"
    }
   ],
   "source": [
    "sample_transactions %>% head(1)"
   ]
  },
  {
   "cell_type": "code",
   "execution_count": 20,
   "metadata": {
    "collapsed": false
   },
   "outputs": [
    {
     "data": {
      "text/html": [
       "<table>\n",
       "<thead><tr><th scope=col>MasterProductID</th><th scope=col>MasterProductCode</th><th scope=col>MasterProductFullName</th><th scope=col>BrandName</th><th scope=col>FormCode</th><th scope=col>StrengthCode</th><th scope=col>PackSizeNumber</th><th scope=col>GenericIngredientName</th><th scope=col>EthicalSubCategoryName</th><th scope=col>EthicalCategoryName</th><th scope=col>ManufacturerCode</th><th scope=col>ManufacturerName</th><th scope=col>ManufacturerGroupID</th><th scope=col>ManufacturerGroupCode</th><th scope=col>ChemistListPrice</th><th scope=col>ATCLevel5Code</th><th scope=col>ATCLevel4Code</th><th scope=col>ATCLevel3Code</th><th scope=col>ATCLevel2Code</th><th scope=col>ATCLevel1Code</th></tr></thead>\n",
       "<tbody>\n",
       "\t<tr><td>7777                     </td><td>SCH4                     </td><td>SQUIBB HC OINT 1% 50G 1  </td><td>SQUIBB HC                </td><td>OINT                     </td><td>1% 50G                   </td><td>1                        </td><td>HYDROCORTISONE ACETATE   </td><td>NON PBS Substitutable    </td><td>ETHICAL NON PBS          </td><td>BQ                       </td><td>BRISTOL-MYERS SQUIBB AUST</td><td>43                       </td><td>BMS                      </td><td>1.8609                   </td><td>A07EA                    </td><td>A07EA                    </td><td>A07E                     </td><td>A07                      </td><td>A                        </td></tr>\n",
       "</tbody>\n",
       "</table>\n"
      ],
      "text/latex": [
       "\\begin{tabular}{r|llllllllllllllllllll}\n",
       " MasterProductID & MasterProductCode & MasterProductFullName & BrandName & FormCode & StrengthCode & PackSizeNumber & GenericIngredientName & EthicalSubCategoryName & EthicalCategoryName & ManufacturerCode & ManufacturerName & ManufacturerGroupID & ManufacturerGroupCode & ChemistListPrice & ATCLevel5Code & ATCLevel4Code & ATCLevel3Code & ATCLevel2Code & ATCLevel1Code\\\\\n",
       "\\hline\n",
       "\t 7777                       & SCH4                       & SQUIBB HC OINT 1\\% 50G 1  & SQUIBB HC                  & OINT                       & 1\\% 50G                   & 1                          & HYDROCORTISONE ACETATE     & NON PBS Substitutable      & ETHICAL NON PBS            & BQ                         & BRISTOL-MYERS SQUIBB AUST  & 43                         & BMS                        & 1.8609                     & A07EA                      & A07EA                      & A07E                       & A07                        & A                         \\\\\n",
       "\\end{tabular}\n"
      ],
      "text/plain": [
       "  MasterProductID MasterProductCode MasterProductFullName    BrandName FormCode\n",
       "1 7777            SCH4              SQUIBB HC OINT 1% 50G 1  SQUIBB HC OINT    \n",
       "  StrengthCode PackSizeNumber GenericIngredientName  EthicalSubCategoryName\n",
       "1 1% 50G       1              HYDROCORTISONE ACETATE NON PBS Substitutable \n",
       "  EthicalCategoryName ManufacturerCode ManufacturerName         \n",
       "1 ETHICAL NON PBS     BQ               BRISTOL-MYERS SQUIBB AUST\n",
       "  ManufacturerGroupID ManufacturerGroupCode ChemistListPrice ATCLevel5Code\n",
       "1 43                  BMS                   1.8609           A07EA        \n",
       "  ATCLevel4Code ATCLevel3Code ATCLevel2Code ATCLevel1Code\n",
       "1 A07EA         A07E          A07           A            "
      ]
     },
     "metadata": {},
     "output_type": "display_data"
    }
   ],
   "source": [
    "Drug_LookUp %>% head(1)"
   ]
  },
  {
   "cell_type": "code",
   "execution_count": 9,
   "metadata": {
    "collapsed": false
   },
   "outputs": [
    {
     "data": {
      "text/html": [
       "<table>\n",
       "<thead><tr><th scope=col>MasterProductID</th><th scope=col>MasterProductCode</th><th scope=col>MasterProductFullName</th><th scope=col>BrandName</th><th scope=col>FormCode</th><th scope=col>StrengthCode</th><th scope=col>PackSizeNumber</th><th scope=col>GenericIngredientName</th><th scope=col>EthicalSubCategoryName</th><th scope=col>EthicalCategoryName</th><th scope=col>ManufacturerCode</th><th scope=col>ManufacturerName</th><th scope=col>ManufacturerGroupID</th><th scope=col>ManufacturerGroupCode</th><th scope=col>ChemistListPrice</th><th scope=col>ATCLevel5Code</th><th scope=col>ATCLevel4Code</th><th scope=col>ATCLevel3Code</th><th scope=col>ATCLevel2Code</th><th scope=col>ATCLevel1Code</th></tr></thead>\n",
       "<tbody>\n",
       "\t<tr><td>9417                          </td><td>ZOLO2                         </td><td>ZOLOFT TAB 50MG (AS HCL) 30 30</td><td>ZOLOFT                        </td><td>TAB                           </td><td>50MG (AS HCL)                 </td><td>30                            </td><td>SERTRALINE                    </td><td>PBS Substitutable             </td><td>ETHICAL PBS                   </td><td>PF                            </td><td>PFIZER AUSTRALIA PTY LTD      </td><td>192                           </td><td>PFIZER                        </td><td>7.27                          </td><td>N06AB06                       </td><td>N06AB                         </td><td>N06A                          </td><td>N06                           </td><td>N                             </td></tr>\n",
       "</tbody>\n",
       "</table>\n"
      ],
      "text/latex": [
       "\\begin{tabular}{r|llllllllllllllllllll}\n",
       " MasterProductID & MasterProductCode & MasterProductFullName & BrandName & FormCode & StrengthCode & PackSizeNumber & GenericIngredientName & EthicalSubCategoryName & EthicalCategoryName & ManufacturerCode & ManufacturerName & ManufacturerGroupID & ManufacturerGroupCode & ChemistListPrice & ATCLevel5Code & ATCLevel4Code & ATCLevel3Code & ATCLevel2Code & ATCLevel1Code\\\\\n",
       "\\hline\n",
       "\t 9417                           & ZOLO2                          & ZOLOFT TAB 50MG (AS HCL) 30 30 & ZOLOFT                         & TAB                            & 50MG (AS HCL)                  & 30                             & SERTRALINE                     & PBS Substitutable              & ETHICAL PBS                    & PF                             & PFIZER AUSTRALIA PTY LTD       & 192                            & PFIZER                         & 7.27                           & N06AB06                        & N06AB                          & N06A                           & N06                            & N                             \\\\\n",
       "\\end{tabular}\n"
      ],
      "text/plain": [
       "  MasterProductID MasterProductCode MasterProductFullName          BrandName\n",
       "1 9417            ZOLO2             ZOLOFT TAB 50MG (AS HCL) 30 30 ZOLOFT   \n",
       "  FormCode StrengthCode  PackSizeNumber GenericIngredientName\n",
       "1 TAB      50MG (AS HCL) 30             SERTRALINE           \n",
       "  EthicalSubCategoryName EthicalCategoryName ManufacturerCode\n",
       "1 PBS Substitutable      ETHICAL PBS         PF              \n",
       "  ManufacturerName         ManufacturerGroupID ManufacturerGroupCode\n",
       "1 PFIZER AUSTRALIA PTY LTD 192                 PFIZER               \n",
       "  ChemistListPrice ATCLevel5Code ATCLevel4Code ATCLevel3Code ATCLevel2Code\n",
       "1 7.27             N06AB06       N06AB         N06A          N06          \n",
       "  ATCLevel1Code\n",
       "1 N            "
      ]
     },
     "metadata": {},
     "output_type": "display_data"
    }
   ],
   "source": [
    "Drug_LookUp %>% filter(MasterProductID == 9417)"
   ]
  },
  {
   "cell_type": "code",
   "execution_count": 19,
   "metadata": {
    "collapsed": false
   },
   "outputs": [
    {
     "data": {
      "text/html": [
       "<table>\n",
       "<thead><tr><th scope=col>ATCLevel1Code</th><th scope=col>ATCLevel1Name</th><th scope=col>ATCLevel2Code</th><th scope=col>ATCLevel2Name</th><th scope=col>ATCLevel3Code</th><th scope=col>ATCLevel3Name</th><th scope=col>ATCLevel4Code</th><th scope=col>ATCLevel4Name</th><th scope=col>ATCLevel5Code</th><th scope=col>ATCLevel5Name</th></tr></thead>\n",
       "<tbody>\n",
       "\t<tr><td>A                                                      </td><td>ALIMENTARY TRACT AND METABOLISM                        </td><td>A01                                                    </td><td>STOMATOLOGICAL PREPARATIONS                            </td><td>A01A                                                   </td><td>STOMATOLOGICAL PREPARATIONS                            </td><td>A01AB                                                  </td><td>ANTIINFECTIVES AND ANTISEPTICS FOR LOCAL ORAL TREATMENT</td><td>A01AB03                                                </td><td>CHLORHEXIDINE                                          </td></tr>\n",
       "</tbody>\n",
       "</table>\n"
      ],
      "text/latex": [
       "\\begin{tabular}{r|llllllllll}\n",
       " ATCLevel1Code & ATCLevel1Name & ATCLevel2Code & ATCLevel2Name & ATCLevel3Code & ATCLevel3Name & ATCLevel4Code & ATCLevel4Name & ATCLevel5Code & ATCLevel5Name\\\\\n",
       "\\hline\n",
       "\t A                                                       & ALIMENTARY TRACT AND METABOLISM                         & A01                                                     & STOMATOLOGICAL PREPARATIONS                             & A01A                                                    & STOMATOLOGICAL PREPARATIONS                             & A01AB                                                   & ANTIINFECTIVES AND ANTISEPTICS FOR LOCAL ORAL TREATMENT & A01AB03                                                 & CHLORHEXIDINE                                          \\\\\n",
       "\\end{tabular}\n"
      ],
      "text/plain": [
       "  ATCLevel1Code ATCLevel1Name                   ATCLevel2Code\n",
       "1 A             ALIMENTARY TRACT AND METABOLISM A01          \n",
       "  ATCLevel2Name               ATCLevel3Code ATCLevel3Name              \n",
       "1 STOMATOLOGICAL PREPARATIONS A01A          STOMATOLOGICAL PREPARATIONS\n",
       "  ATCLevel4Code ATCLevel4Name                                          \n",
       "1 A01AB         ANTIINFECTIVES AND ANTISEPTICS FOR LOCAL ORAL TREATMENT\n",
       "  ATCLevel5Code ATCLevel5Name\n",
       "1 A01AB03       CHLORHEXIDINE"
      ]
     },
     "metadata": {},
     "output_type": "display_data"
    }
   ],
   "source": [
    "ATC_Lookup %>% head(1)"
   ]
  },
  {
   "cell_type": "code",
   "execution_count": 117,
   "metadata": {
    "collapsed": false
   },
   "outputs": [
    {
     "data": {
      "text/html": [
       "TRUE"
      ],
      "text/latex": [
       "TRUE"
      ],
      "text/markdown": [
       "TRUE"
      ],
      "text/plain": [
       "[1] TRUE"
      ]
     },
     "metadata": {},
     "output_type": "display_data"
    }
   ],
   "source": [
    "stringr::str_detect(string = stringr::str_to_lower('ANtibiotic resistance'),pattern = 'antibiotic')"
   ]
  },
  {
   "cell_type": "markdown",
   "metadata": {},
   "source": [
    "# Potential candidate for look-up"
   ]
  },
  {
   "cell_type": "code",
   "execution_count": 122,
   "metadata": {
    "collapsed": false
   },
   "outputs": [
    {
     "data": {
      "text/html": [
       "<table>\n",
       "<thead><tr><th scope=col>ATCLevel1Code</th><th scope=col>ATCLevel1Name</th><th scope=col>ATCLevel2Code</th><th scope=col>ATCLevel2Name</th><th scope=col>ATCLevel3Code</th><th scope=col>ATCLevel3Name</th><th scope=col>ATCLevel4Code</th><th scope=col>ATCLevel4Name</th><th scope=col>ATCLevel5Code</th><th scope=col>ATCLevel5Name</th></tr></thead>\n",
       "<tbody>\n",
       "\t<tr><td>J                                                               </td><td>ANTIINFECTIVES FOR SYSTEMIC USE                                 </td><td>J01                                                             </td><td>ANTIBACTERIALS FOR SYSTEMIC USE                                 </td><td>J01A                                                            </td><td>TETRACYCLINES                                                   </td><td>J01AA                                                           </td><td>TETRACYCLINES                                                   </td><td>J01AA                                                           </td><td>TETRACYCLINES                                                   </td></tr>\n",
       "\t<tr><td>J                                                               </td><td>ANTIINFECTIVES FOR SYSTEMIC USE                                 </td><td>J01                                                             </td><td>ANTIBACTERIALS FOR SYSTEMIC USE                                 </td><td>J01A                                                            </td><td>TETRACYCLINES                                                   </td><td>J01AA                                                           </td><td>TETRACYCLINES                                                   </td><td>J01AA01                                                         </td><td>DEMECLOCYCLINE                                                  </td></tr>\n",
       "\t<tr><td>J                                                               </td><td>ANTIINFECTIVES FOR SYSTEMIC USE                                 </td><td>J01                                                             </td><td>ANTIBACTERIALS FOR SYSTEMIC USE                                 </td><td>J01A                                                            </td><td>TETRACYCLINES                                                   </td><td>J01AA                                                           </td><td>TETRACYCLINES                                                   </td><td>J01AA02                                                         </td><td>DOXYCYCLINE                                                     </td></tr>\n",
       "\t<tr><td>J                                                               </td><td>ANTIINFECTIVES FOR SYSTEMIC USE                                 </td><td>J01                                                             </td><td>ANTIBACTERIALS FOR SYSTEMIC USE                                 </td><td>J01A                                                            </td><td>TETRACYCLINES                                                   </td><td>J01AA                                                           </td><td>TETRACYCLINES                                                   </td><td>J01AA07                                                         </td><td>TETRACYCLINE                                                    </td></tr>\n",
       "\t<tr><td>J                                                               </td><td>ANTIINFECTIVES FOR SYSTEMIC USE                                 </td><td>J01                                                             </td><td>ANTIBACTERIALS FOR SYSTEMIC USE                                 </td><td>J01A                                                            </td><td>TETRACYCLINES                                                   </td><td>J01AA                                                           </td><td>TETRACYCLINES                                                   </td><td>J01AA08                                                         </td><td>MINOCYCLINE                                                     </td></tr>\n",
       "\t<tr><td>J                                                               </td><td>ANTIINFECTIVES FOR SYSTEMIC USE                                 </td><td>J01                                                             </td><td>ANTIBACTERIALS FOR SYSTEMIC USE                                 </td><td>J01C                                                            </td><td>BETA-LACTAM ANTIBACTERIALS, PENICILLINS                         </td><td>J01CA                                                           </td><td>PENICILLINS WITH EXTENDED SPECTRUM                              </td><td>J01CA01                                                         </td><td>AMPICILLIN                                                      </td></tr>\n",
       "\t<tr><td>J                                                               </td><td>ANTIINFECTIVES FOR SYSTEMIC USE                                 </td><td>J01                                                             </td><td>ANTIBACTERIALS FOR SYSTEMIC USE                                 </td><td>J01C                                                            </td><td>BETA-LACTAM ANTIBACTERIALS, PENICILLINS                         </td><td>J01CA                                                           </td><td>PENICILLINS WITH EXTENDED SPECTRUM                              </td><td>J01CA04                                                         </td><td>AMOXICILLIN                                                     </td></tr>\n",
       "\t<tr><td>J                                                               </td><td>ANTIINFECTIVES FOR SYSTEMIC USE                                 </td><td>J01                                                             </td><td>ANTIBACTERIALS FOR SYSTEMIC USE                                 </td><td>J01C                                                            </td><td>BETA-LACTAM ANTIBACTERIALS, PENICILLINS                         </td><td>J01CE                                                           </td><td>BETA-LACTAMASE SENSITIVE PENICILLINS                            </td><td>J01CE                                                           </td><td>BETA-LACTAMASE SENSITIVE PENICILLINS                            </td></tr>\n",
       "\t<tr><td>J                                                               </td><td>ANTIINFECTIVES FOR SYSTEMIC USE                                 </td><td>J01                                                             </td><td>ANTIBACTERIALS FOR SYSTEMIC USE                                 </td><td>J01C                                                            </td><td>BETA-LACTAM ANTIBACTERIALS, PENICILLINS                         </td><td>J01CE                                                           </td><td>BETA-LACTAMASE SENSITIVE PENICILLINS                            </td><td>J01CE01                                                         </td><td>BENZYLPENICILLIN                                                </td></tr>\n",
       "\t<tr><td>J                                                               </td><td>ANTIINFECTIVES FOR SYSTEMIC USE                                 </td><td>J01                                                             </td><td>ANTIBACTERIALS FOR SYSTEMIC USE                                 </td><td>J01C                                                            </td><td>BETA-LACTAM ANTIBACTERIALS, PENICILLINS                         </td><td>J01CE                                                           </td><td>BETA-LACTAMASE SENSITIVE PENICILLINS                            </td><td>J01CE02                                                         </td><td>PHENOXYMETHYLPENICILLIN                                         </td></tr>\n",
       "\t<tr><td>J                                                               </td><td>ANTIINFECTIVES FOR SYSTEMIC USE                                 </td><td>J01                                                             </td><td>ANTIBACTERIALS FOR SYSTEMIC USE                                 </td><td>J01C                                                            </td><td>BETA-LACTAM ANTIBACTERIALS, PENICILLINS                         </td><td>J01CE                                                           </td><td>BETA-LACTAMASE SENSITIVE PENICILLINS                            </td><td>J01CE08                                                         </td><td>BENZATHINE BENZYLPENICILLIN                                     </td></tr>\n",
       "\t<tr><td>J                                                               </td><td>ANTIINFECTIVES FOR SYSTEMIC USE                                 </td><td>J01                                                             </td><td>ANTIBACTERIALS FOR SYSTEMIC USE                                 </td><td>J01C                                                            </td><td>BETA-LACTAM ANTIBACTERIALS, PENICILLINS                         </td><td>J01CE                                                           </td><td>BETA-LACTAMASE SENSITIVE PENICILLINS                            </td><td>J01CE09                                                         </td><td>PROCAINE BENZYLPENICILLIN                                       </td></tr>\n",
       "\t<tr><td>J                                                               </td><td>ANTIINFECTIVES FOR SYSTEMIC USE                                 </td><td>J01                                                             </td><td>ANTIBACTERIALS FOR SYSTEMIC USE                                 </td><td>J01C                                                            </td><td>BETA-LACTAM ANTIBACTERIALS, PENICILLINS                         </td><td>J01CE                                                           </td><td>BETA-LACTAMASE SENSITIVE PENICILLINS                            </td><td>J01CE10                                                         </td><td>BENZATHINE PHENOXYMETHYLPENICILLIN                              </td></tr>\n",
       "\t<tr><td>J                                                               </td><td>ANTIINFECTIVES FOR SYSTEMIC USE                                 </td><td>J01                                                             </td><td>ANTIBACTERIALS FOR SYSTEMIC USE                                 </td><td>J01C                                                            </td><td>BETA-LACTAM ANTIBACTERIALS, PENICILLINS                         </td><td>J01CF                                                           </td><td>BETA-LACTAMASE RESISTANT PENICILLINS                            </td><td>J01CF01                                                         </td><td>DICLOXACILLIN                                                   </td></tr>\n",
       "\t<tr><td>J                                                               </td><td>ANTIINFECTIVES FOR SYSTEMIC USE                                 </td><td>J01                                                             </td><td>ANTIBACTERIALS FOR SYSTEMIC USE                                 </td><td>J01C                                                            </td><td>BETA-LACTAM ANTIBACTERIALS, PENICILLINS                         </td><td>J01CF                                                           </td><td>BETA-LACTAMASE RESISTANT PENICILLINS                            </td><td>J01CF02                                                         </td><td>CLOXACILLIN                                                     </td></tr>\n",
       "\t<tr><td>J                                                               </td><td>ANTIINFECTIVES FOR SYSTEMIC USE                                 </td><td>J01                                                             </td><td>ANTIBACTERIALS FOR SYSTEMIC USE                                 </td><td>J01C                                                            </td><td>BETA-LACTAM ANTIBACTERIALS, PENICILLINS                         </td><td>J01CF                                                           </td><td>BETA-LACTAMASE RESISTANT PENICILLINS                            </td><td>J01CF05                                                         </td><td>FLUCLOXACILLIN                                                  </td></tr>\n",
       "\t<tr><td>J                                                               </td><td>ANTIINFECTIVES FOR SYSTEMIC USE                                 </td><td>J01                                                             </td><td>ANTIBACTERIALS FOR SYSTEMIC USE                                 </td><td>J01C                                                            </td><td>BETA-LACTAM ANTIBACTERIALS, PENICILLINS                         </td><td>J01CR                                                           </td><td>COMBINATIONS OF PENICILLINS, INCL. BETA-LACTAMASE INHIBITORS    </td><td>J01CR02                                                         </td><td>AMOXICILLIN AND ENZYME INHIBITOR                                </td></tr>\n",
       "\t<tr><td>J                                                               </td><td>ANTIINFECTIVES FOR SYSTEMIC USE                                 </td><td>J01                                                             </td><td>ANTIBACTERIALS FOR SYSTEMIC USE                                 </td><td>J01C                                                            </td><td>BETA-LACTAM ANTIBACTERIALS, PENICILLINS                         </td><td>J01CR                                                           </td><td>COMBINATIONS OF PENICILLINS, INCL. BETA-LACTAMASE INHIBITORS    </td><td>J01CR03                                                         </td><td>TICARCILLIN AND ENZYME INHIBITOR                                </td></tr>\n",
       "\t<tr><td>J                                                               </td><td>ANTIINFECTIVES FOR SYSTEMIC USE                                 </td><td>J01                                                             </td><td>ANTIBACTERIALS FOR SYSTEMIC USE                                 </td><td>J01C                                                            </td><td>BETA-LACTAM ANTIBACTERIALS, PENICILLINS                         </td><td>J01CR                                                           </td><td>COMBINATIONS OF PENICILLINS, INCL. BETA-LACTAMASE INHIBITORS    </td><td>J01CR05                                                         </td><td>PIPERACILLIN AND ENZYME INHIBITOR                               </td></tr>\n",
       "\t<tr><td>J                                                               </td><td>ANTIINFECTIVES FOR SYSTEMIC USE                                 </td><td>J01                                                             </td><td>ANTIBACTERIALS FOR SYSTEMIC USE                                 </td><td>J01D                                                            </td><td>OTHER BETA-LACTAM ANTIBACTERIALS                                </td><td>J01DB                                                           </td><td>FIRST-GENERATION CEPHALOSPORINS                                 </td><td>J01DB01                                                         </td><td>CEFALEXIN                                                       </td></tr>\n",
       "\t<tr><td>J                                                               </td><td>ANTIINFECTIVES FOR SYSTEMIC USE                                 </td><td>J01                                                             </td><td>ANTIBACTERIALS FOR SYSTEMIC USE                                 </td><td>J01D                                                            </td><td>OTHER BETA-LACTAM ANTIBACTERIALS                                </td><td>J01DB                                                           </td><td>FIRST-GENERATION CEPHALOSPORINS                                 </td><td>J01DB03                                                         </td><td>CEFALOTIN                                                       </td></tr>\n",
       "\t<tr><td>J                                                               </td><td>ANTIINFECTIVES FOR SYSTEMIC USE                                 </td><td>J01                                                             </td><td>ANTIBACTERIALS FOR SYSTEMIC USE                                 </td><td>J01D                                                            </td><td>OTHER BETA-LACTAM ANTIBACTERIALS                                </td><td>J01DB                                                           </td><td>FIRST-GENERATION CEPHALOSPORINS                                 </td><td>J01DB04                                                         </td><td>CEFAZOLIN                                                       </td></tr>\n",
       "\t<tr><td>J                                                               </td><td>ANTIINFECTIVES FOR SYSTEMIC USE                                 </td><td>J01                                                             </td><td>ANTIBACTERIALS FOR SYSTEMIC USE                                 </td><td>J01D                                                            </td><td>OTHER BETA-LACTAM ANTIBACTERIALS                                </td><td>J01DC                                                           </td><td>SECOND-GENERATION CEPHALOSPORINS                                </td><td>J01DC                                                           </td><td>SECOND-GENERATION CEPHALOSPORINS                                </td></tr>\n",
       "\t<tr><td>J                                                               </td><td>ANTIINFECTIVES FOR SYSTEMIC USE                                 </td><td>J01                                                             </td><td>ANTIBACTERIALS FOR SYSTEMIC USE                                 </td><td>J01D                                                            </td><td>OTHER BETA-LACTAM ANTIBACTERIALS                                </td><td>J01DC                                                           </td><td>SECOND-GENERATION CEPHALOSPORINS                                </td><td>J01DC01                                                         </td><td>CEFOXITIN                                                       </td></tr>\n",
       "\t<tr><td>J                                                               </td><td>ANTIINFECTIVES FOR SYSTEMIC USE                                 </td><td>J01                                                             </td><td>ANTIBACTERIALS FOR SYSTEMIC USE                                 </td><td>J01D                                                            </td><td>OTHER BETA-LACTAM ANTIBACTERIALS                                </td><td>J01DC                                                           </td><td>SECOND-GENERATION CEPHALOSPORINS                                </td><td>J01DC02                                                         </td><td>CEFUROXIME                                                      </td></tr>\n",
       "\t<tr><td>J                                                               </td><td>ANTIINFECTIVES FOR SYSTEMIC USE                                 </td><td>J01                                                             </td><td>ANTIBACTERIALS FOR SYSTEMIC USE                                 </td><td>J01D                                                            </td><td>OTHER BETA-LACTAM ANTIBACTERIALS                                </td><td>J01DC                                                           </td><td>SECOND-GENERATION CEPHALOSPORINS                                </td><td>J01DC04                                                         </td><td>CEFACLOR                                                        </td></tr>\n",
       "\t<tr><td>J                                                               </td><td>ANTIINFECTIVES FOR SYSTEMIC USE                                 </td><td>J01                                                             </td><td>ANTIBACTERIALS FOR SYSTEMIC USE                                 </td><td>J01D                                                            </td><td>OTHER BETA-LACTAM ANTIBACTERIALS                                </td><td>J01DD                                                           </td><td>THIRD-GENERATION CEPHALOSPORINS                                 </td><td>J01DD01                                                         </td><td>CEFOTAXIME                                                      </td></tr>\n",
       "\t<tr><td>J                                                               </td><td>ANTIINFECTIVES FOR SYSTEMIC USE                                 </td><td>J01                                                             </td><td>ANTIBACTERIALS FOR SYSTEMIC USE                                 </td><td>J01D                                                            </td><td>OTHER BETA-LACTAM ANTIBACTERIALS                                </td><td>J01DD                                                           </td><td>THIRD-GENERATION CEPHALOSPORINS                                 </td><td>J01DD02                                                         </td><td>CEFTAZIDIME                                                     </td></tr>\n",
       "\t<tr><td>J                                                               </td><td>ANTIINFECTIVES FOR SYSTEMIC USE                                 </td><td>J01                                                             </td><td>ANTIBACTERIALS FOR SYSTEMIC USE                                 </td><td>J01D                                                            </td><td>OTHER BETA-LACTAM ANTIBACTERIALS                                </td><td>J01DD                                                           </td><td>THIRD-GENERATION CEPHALOSPORINS                                 </td><td>J01DD04                                                         </td><td>CEFTRIAXONE                                                     </td></tr>\n",
       "\t<tr><td>J                                                               </td><td>ANTIINFECTIVES FOR SYSTEMIC USE                                 </td><td>J01                                                             </td><td>ANTIBACTERIALS FOR SYSTEMIC USE                                 </td><td>J01D                                                            </td><td>OTHER BETA-LACTAM ANTIBACTERIALS                                </td><td>J01DE                                                           </td><td>FOURTH-GENERATION CEPHALOSPORINS                                </td><td>J01DE01                                                         </td><td>CEFEPIME                                                        </td></tr>\n",
       "\t<tr><td>J                                                               </td><td>ANTIINFECTIVES FOR SYSTEMIC USE                                 </td><td>J01                                                             </td><td>ANTIBACTERIALS FOR SYSTEMIC USE                                 </td><td>J01D                                                            </td><td>OTHER BETA-LACTAM ANTIBACTERIALS                                </td><td>J01DF                                                           </td><td>MONOBACTAMS                                                     </td><td>J01DF01                                                         </td><td>AZTREONAM                                                       </td></tr>\n",
       "\t<tr><td>J                                                               </td><td>ANTIINFECTIVES FOR SYSTEMIC USE                                 </td><td>J01                                                             </td><td>ANTIBACTERIALS FOR SYSTEMIC USE                                 </td><td>J01D                                                            </td><td>OTHER BETA-LACTAM ANTIBACTERIALS                                </td><td>J01DH                                                           </td><td>CARBAPENEMS                                                     </td><td>J01DH02                                                         </td><td>MEROPENEM                                                       </td></tr>\n",
       "\t<tr><td>J                                                               </td><td>ANTIINFECTIVES FOR SYSTEMIC USE                                 </td><td>J01                                                             </td><td>ANTIBACTERIALS FOR SYSTEMIC USE                                 </td><td>J01D                                                            </td><td>OTHER BETA-LACTAM ANTIBACTERIALS                                </td><td>J01DH                                                           </td><td>CARBAPENEMS                                                     </td><td>J01DH51                                                         </td><td>IMIPENEM AND ENZYME INHIBITOR                                   </td></tr>\n",
       "\t<tr><td>J                                                               </td><td>ANTIINFECTIVES FOR SYSTEMIC USE                                 </td><td>J01                                                             </td><td>ANTIBACTERIALS FOR SYSTEMIC USE                                 </td><td>J01E                                                            </td><td>SULFONAMIDES AND TRIMETHOPRIM                                   </td><td>J01EA                                                           </td><td>TRIMETHOPRIM AND DERIVATIVES                                    </td><td>J01EA01                                                         </td><td>TRIMETHOPRIM                                                    </td></tr>\n",
       "\t<tr><td>J                                                               </td><td>ANTIINFECTIVES FOR SYSTEMIC USE                                 </td><td>J01                                                             </td><td>ANTIBACTERIALS FOR SYSTEMIC USE                                 </td><td>J01E                                                            </td><td>SULFONAMIDES AND TRIMETHOPRIM                                   </td><td>J01EE                                                           </td><td>COMBINATIONS OF SULFONAMIDES AND TRIMETHOPRIM, INCL. DERIVATIVES</td><td>J01EE                                                           </td><td>COMBINATIONS OF SULFONAMIDES AND TRIMETHOPRIM, INCL. DERIVATIVES</td></tr>\n",
       "\t<tr><td>J                                                               </td><td>ANTIINFECTIVES FOR SYSTEMIC USE                                 </td><td>J01                                                             </td><td>ANTIBACTERIALS FOR SYSTEMIC USE                                 </td><td>J01E                                                            </td><td>SULFONAMIDES AND TRIMETHOPRIM                                   </td><td>J01EE                                                           </td><td>COMBINATIONS OF SULFONAMIDES AND TRIMETHOPRIM, INCL. DERIVATIVES</td><td>J01EE01                                                         </td><td>SULFAMETHOXAZOLE AND TRIMETHOPRIM                               </td></tr>\n",
       "\t<tr><td>J                                                               </td><td>ANTIINFECTIVES FOR SYSTEMIC USE                                 </td><td>J01                                                             </td><td>ANTIBACTERIALS FOR SYSTEMIC USE                                 </td><td>J01F                                                            </td><td>MACROLIDES, LINCOSAMIDES AND STREPTOGRAMINS                     </td><td>J01FA                                                           </td><td>MACROLIDES                                                      </td><td>J01FA01                                                         </td><td>ERYTHROMYCIN                                                    </td></tr>\n",
       "\t<tr><td>J                                                               </td><td>ANTIINFECTIVES FOR SYSTEMIC USE                                 </td><td>J01                                                             </td><td>ANTIBACTERIALS FOR SYSTEMIC USE                                 </td><td>J01F                                                            </td><td>MACROLIDES, LINCOSAMIDES AND STREPTOGRAMINS                     </td><td>J01FA                                                           </td><td>MACROLIDES                                                      </td><td>J01FA06                                                         </td><td>ROXITHROMYCIN                                                   </td></tr>\n",
       "\t<tr><td>J                                                               </td><td>ANTIINFECTIVES FOR SYSTEMIC USE                                 </td><td>J01                                                             </td><td>ANTIBACTERIALS FOR SYSTEMIC USE                                 </td><td>J01F                                                            </td><td>MACROLIDES, LINCOSAMIDES AND STREPTOGRAMINS                     </td><td>J01FA                                                           </td><td>MACROLIDES                                                      </td><td>J01FA09                                                         </td><td>CLARITHROMYCIN                                                  </td></tr>\n",
       "\t<tr><td>J                                                               </td><td>ANTIINFECTIVES FOR SYSTEMIC USE                                 </td><td>J01                                                             </td><td>ANTIBACTERIALS FOR SYSTEMIC USE                                 </td><td>J01F                                                            </td><td>MACROLIDES, LINCOSAMIDES AND STREPTOGRAMINS                     </td><td>J01FA                                                           </td><td>MACROLIDES                                                      </td><td>J01FA10                                                         </td><td>AZITHROMYCIN                                                    </td></tr>\n",
       "\t<tr><td>J                                                               </td><td>ANTIINFECTIVES FOR SYSTEMIC USE                                 </td><td>J01                                                             </td><td>ANTIBACTERIALS FOR SYSTEMIC USE                                 </td><td>J01F                                                            </td><td>MACROLIDES, LINCOSAMIDES AND STREPTOGRAMINS                     </td><td>J01FF                                                           </td><td>LINCOSAMIDES                                                    </td><td>J01FF                                                           </td><td>LINCOSAMIDES                                                    </td></tr>\n",
       "\t<tr><td>J                                                               </td><td>ANTIINFECTIVES FOR SYSTEMIC USE                                 </td><td>J01                                                             </td><td>ANTIBACTERIALS FOR SYSTEMIC USE                                 </td><td>J01F                                                            </td><td>MACROLIDES, LINCOSAMIDES AND STREPTOGRAMINS                     </td><td>J01FF                                                           </td><td>LINCOSAMIDES                                                    </td><td>J01FF01                                                         </td><td>CLINDAMYCIN                                                     </td></tr>\n",
       "\t<tr><td>J                                                               </td><td>ANTIINFECTIVES FOR SYSTEMIC USE                                 </td><td>J01                                                             </td><td>ANTIBACTERIALS FOR SYSTEMIC USE                                 </td><td>J01F                                                            </td><td>MACROLIDES, LINCOSAMIDES AND STREPTOGRAMINS                     </td><td>J01FF                                                           </td><td>LINCOSAMIDES                                                    </td><td>J01FF02                                                         </td><td>LINCOMYCIN                                                      </td></tr>\n",
       "\t<tr><td>J                                                               </td><td>ANTIINFECTIVES FOR SYSTEMIC USE                                 </td><td>J01                                                             </td><td>ANTIBACTERIALS FOR SYSTEMIC USE                                 </td><td>J01G                                                            </td><td>AMINOGLYCOSIDE ANTIBACTERIALS                                   </td><td>J01GB                                                           </td><td>OTHER AMINOGLYCOSIDES                                           </td><td>J01GB01                                                         </td><td>TOBRAMYCIN                                                      </td></tr>\n",
       "\t<tr><td>J                                                               </td><td>ANTIINFECTIVES FOR SYSTEMIC USE                                 </td><td>J01                                                             </td><td>ANTIBACTERIALS FOR SYSTEMIC USE                                 </td><td>J01G                                                            </td><td>AMINOGLYCOSIDE ANTIBACTERIALS                                   </td><td>J01GB                                                           </td><td>OTHER AMINOGLYCOSIDES                                           </td><td>J01GB03                                                         </td><td>GENTAMICIN                                                      </td></tr>\n",
       "\t<tr><td>J                                                               </td><td>ANTIINFECTIVES FOR SYSTEMIC USE                                 </td><td>J01                                                             </td><td>ANTIBACTERIALS FOR SYSTEMIC USE                                 </td><td>J01G                                                            </td><td>AMINOGLYCOSIDE ANTIBACTERIALS                                   </td><td>J01GB                                                           </td><td>OTHER AMINOGLYCOSIDES                                           </td><td>J01GB06                                                         </td><td>AMIKACIN                                                        </td></tr>\n",
       "\t<tr><td>J                                                               </td><td>ANTIINFECTIVES FOR SYSTEMIC USE                                 </td><td>J01                                                             </td><td>ANTIBACTERIALS FOR SYSTEMIC USE                                 </td><td>J01M                                                            </td><td>QUINOLONE ANTIBACTERIALS                                        </td><td>J01MA                                                           </td><td>FLUOROQUINOLONES                                                </td><td>J01MA02                                                         </td><td>CIPROFLOXACIN                                                   </td></tr>\n",
       "\t<tr><td>J                                                               </td><td>ANTIINFECTIVES FOR SYSTEMIC USE                                 </td><td>J01                                                             </td><td>ANTIBACTERIALS FOR SYSTEMIC USE                                 </td><td>J01M                                                            </td><td>QUINOLONE ANTIBACTERIALS                                        </td><td>J01MA                                                           </td><td>FLUOROQUINOLONES                                                </td><td>J01MA06                                                         </td><td>NORFLOXACIN                                                     </td></tr>\n",
       "\t<tr><td>J                                                               </td><td>ANTIINFECTIVES FOR SYSTEMIC USE                                 </td><td>J01                                                             </td><td>ANTIBACTERIALS FOR SYSTEMIC USE                                 </td><td>J01M                                                            </td><td>QUINOLONE ANTIBACTERIALS                                        </td><td>J01MA                                                           </td><td>FLUOROQUINOLONES                                                </td><td>J01MA14                                                         </td><td>MOXIFLOXACIN                                                    </td></tr>\n",
       "\t<tr><td>J                                                               </td><td>ANTIINFECTIVES FOR SYSTEMIC USE                                 </td><td>J01                                                             </td><td>ANTIBACTERIALS FOR SYSTEMIC USE                                 </td><td>J01M                                                            </td><td>QUINOLONE ANTIBACTERIALS                                        </td><td>J01MA                                                           </td><td>FLUOROQUINOLONES                                                </td><td>J01MA16                                                         </td><td>GATIFLOXACIN                                                    </td></tr>\n",
       "</tbody>\n",
       "</table>\n"
      ],
      "text/latex": [
       "\\begin{tabular}{r|llllllllll}\n",
       " ATCLevel1Code & ATCLevel1Name & ATCLevel2Code & ATCLevel2Name & ATCLevel3Code & ATCLevel3Name & ATCLevel4Code & ATCLevel4Name & ATCLevel5Code & ATCLevel5Name\\\\\n",
       "\\hline\n",
       "\t J                                                                & ANTIINFECTIVES FOR SYSTEMIC USE                                  & J01                                                              & ANTIBACTERIALS FOR SYSTEMIC USE                                  & J01A                                                             & TETRACYCLINES                                                    & J01AA                                                            & TETRACYCLINES                                                    & J01AA                                                            & TETRACYCLINES                                                   \\\\\n",
       "\t J                                                                & ANTIINFECTIVES FOR SYSTEMIC USE                                  & J01                                                              & ANTIBACTERIALS FOR SYSTEMIC USE                                  & J01A                                                             & TETRACYCLINES                                                    & J01AA                                                            & TETRACYCLINES                                                    & J01AA01                                                          & DEMECLOCYCLINE                                                  \\\\\n",
       "\t J                                                                & ANTIINFECTIVES FOR SYSTEMIC USE                                  & J01                                                              & ANTIBACTERIALS FOR SYSTEMIC USE                                  & J01A                                                             & TETRACYCLINES                                                    & J01AA                                                            & TETRACYCLINES                                                    & J01AA02                                                          & DOXYCYCLINE                                                     \\\\\n",
       "\t J                                                                & ANTIINFECTIVES FOR SYSTEMIC USE                                  & J01                                                              & ANTIBACTERIALS FOR SYSTEMIC USE                                  & J01A                                                             & TETRACYCLINES                                                    & J01AA                                                            & TETRACYCLINES                                                    & J01AA07                                                          & TETRACYCLINE                                                    \\\\\n",
       "\t J                                                                & ANTIINFECTIVES FOR SYSTEMIC USE                                  & J01                                                              & ANTIBACTERIALS FOR SYSTEMIC USE                                  & J01A                                                             & TETRACYCLINES                                                    & J01AA                                                            & TETRACYCLINES                                                    & J01AA08                                                          & MINOCYCLINE                                                     \\\\\n",
       "\t J                                                                & ANTIINFECTIVES FOR SYSTEMIC USE                                  & J01                                                              & ANTIBACTERIALS FOR SYSTEMIC USE                                  & J01C                                                             & BETA-LACTAM ANTIBACTERIALS, PENICILLINS                          & J01CA                                                            & PENICILLINS WITH EXTENDED SPECTRUM                               & J01CA01                                                          & AMPICILLIN                                                      \\\\\n",
       "\t J                                                                & ANTIINFECTIVES FOR SYSTEMIC USE                                  & J01                                                              & ANTIBACTERIALS FOR SYSTEMIC USE                                  & J01C                                                             & BETA-LACTAM ANTIBACTERIALS, PENICILLINS                          & J01CA                                                            & PENICILLINS WITH EXTENDED SPECTRUM                               & J01CA04                                                          & AMOXICILLIN                                                     \\\\\n",
       "\t J                                                                & ANTIINFECTIVES FOR SYSTEMIC USE                                  & J01                                                              & ANTIBACTERIALS FOR SYSTEMIC USE                                  & J01C                                                             & BETA-LACTAM ANTIBACTERIALS, PENICILLINS                          & J01CE                                                            & BETA-LACTAMASE SENSITIVE PENICILLINS                             & J01CE                                                            & BETA-LACTAMASE SENSITIVE PENICILLINS                            \\\\\n",
       "\t J                                                                & ANTIINFECTIVES FOR SYSTEMIC USE                                  & J01                                                              & ANTIBACTERIALS FOR SYSTEMIC USE                                  & J01C                                                             & BETA-LACTAM ANTIBACTERIALS, PENICILLINS                          & J01CE                                                            & BETA-LACTAMASE SENSITIVE PENICILLINS                             & J01CE01                                                          & BENZYLPENICILLIN                                                \\\\\n",
       "\t J                                                                & ANTIINFECTIVES FOR SYSTEMIC USE                                  & J01                                                              & ANTIBACTERIALS FOR SYSTEMIC USE                                  & J01C                                                             & BETA-LACTAM ANTIBACTERIALS, PENICILLINS                          & J01CE                                                            & BETA-LACTAMASE SENSITIVE PENICILLINS                             & J01CE02                                                          & PHENOXYMETHYLPENICILLIN                                         \\\\\n",
       "\t J                                                                & ANTIINFECTIVES FOR SYSTEMIC USE                                  & J01                                                              & ANTIBACTERIALS FOR SYSTEMIC USE                                  & J01C                                                             & BETA-LACTAM ANTIBACTERIALS, PENICILLINS                          & J01CE                                                            & BETA-LACTAMASE SENSITIVE PENICILLINS                             & J01CE08                                                          & BENZATHINE BENZYLPENICILLIN                                     \\\\\n",
       "\t J                                                                & ANTIINFECTIVES FOR SYSTEMIC USE                                  & J01                                                              & ANTIBACTERIALS FOR SYSTEMIC USE                                  & J01C                                                             & BETA-LACTAM ANTIBACTERIALS, PENICILLINS                          & J01CE                                                            & BETA-LACTAMASE SENSITIVE PENICILLINS                             & J01CE09                                                          & PROCAINE BENZYLPENICILLIN                                       \\\\\n",
       "\t J                                                                & ANTIINFECTIVES FOR SYSTEMIC USE                                  & J01                                                              & ANTIBACTERIALS FOR SYSTEMIC USE                                  & J01C                                                             & BETA-LACTAM ANTIBACTERIALS, PENICILLINS                          & J01CE                                                            & BETA-LACTAMASE SENSITIVE PENICILLINS                             & J01CE10                                                          & BENZATHINE PHENOXYMETHYLPENICILLIN                              \\\\\n",
       "\t J                                                                & ANTIINFECTIVES FOR SYSTEMIC USE                                  & J01                                                              & ANTIBACTERIALS FOR SYSTEMIC USE                                  & J01C                                                             & BETA-LACTAM ANTIBACTERIALS, PENICILLINS                          & J01CF                                                            & BETA-LACTAMASE RESISTANT PENICILLINS                             & J01CF01                                                          & DICLOXACILLIN                                                   \\\\\n",
       "\t J                                                                & ANTIINFECTIVES FOR SYSTEMIC USE                                  & J01                                                              & ANTIBACTERIALS FOR SYSTEMIC USE                                  & J01C                                                             & BETA-LACTAM ANTIBACTERIALS, PENICILLINS                          & J01CF                                                            & BETA-LACTAMASE RESISTANT PENICILLINS                             & J01CF02                                                          & CLOXACILLIN                                                     \\\\\n",
       "\t J                                                                & ANTIINFECTIVES FOR SYSTEMIC USE                                  & J01                                                              & ANTIBACTERIALS FOR SYSTEMIC USE                                  & J01C                                                             & BETA-LACTAM ANTIBACTERIALS, PENICILLINS                          & J01CF                                                            & BETA-LACTAMASE RESISTANT PENICILLINS                             & J01CF05                                                          & FLUCLOXACILLIN                                                  \\\\\n",
       "\t J                                                                & ANTIINFECTIVES FOR SYSTEMIC USE                                  & J01                                                              & ANTIBACTERIALS FOR SYSTEMIC USE                                  & J01C                                                             & BETA-LACTAM ANTIBACTERIALS, PENICILLINS                          & J01CR                                                            & COMBINATIONS OF PENICILLINS, INCL. BETA-LACTAMASE INHIBITORS     & J01CR02                                                          & AMOXICILLIN AND ENZYME INHIBITOR                                \\\\\n",
       "\t J                                                                & ANTIINFECTIVES FOR SYSTEMIC USE                                  & J01                                                              & ANTIBACTERIALS FOR SYSTEMIC USE                                  & J01C                                                             & BETA-LACTAM ANTIBACTERIALS, PENICILLINS                          & J01CR                                                            & COMBINATIONS OF PENICILLINS, INCL. BETA-LACTAMASE INHIBITORS     & J01CR03                                                          & TICARCILLIN AND ENZYME INHIBITOR                                \\\\\n",
       "\t J                                                                & ANTIINFECTIVES FOR SYSTEMIC USE                                  & J01                                                              & ANTIBACTERIALS FOR SYSTEMIC USE                                  & J01C                                                             & BETA-LACTAM ANTIBACTERIALS, PENICILLINS                          & J01CR                                                            & COMBINATIONS OF PENICILLINS, INCL. BETA-LACTAMASE INHIBITORS     & J01CR05                                                          & PIPERACILLIN AND ENZYME INHIBITOR                               \\\\\n",
       "\t J                                                                & ANTIINFECTIVES FOR SYSTEMIC USE                                  & J01                                                              & ANTIBACTERIALS FOR SYSTEMIC USE                                  & J01D                                                             & OTHER BETA-LACTAM ANTIBACTERIALS                                 & J01DB                                                            & FIRST-GENERATION CEPHALOSPORINS                                  & J01DB01                                                          & CEFALEXIN                                                       \\\\\n",
       "\t J                                                                & ANTIINFECTIVES FOR SYSTEMIC USE                                  & J01                                                              & ANTIBACTERIALS FOR SYSTEMIC USE                                  & J01D                                                             & OTHER BETA-LACTAM ANTIBACTERIALS                                 & J01DB                                                            & FIRST-GENERATION CEPHALOSPORINS                                  & J01DB03                                                          & CEFALOTIN                                                       \\\\\n",
       "\t J                                                                & ANTIINFECTIVES FOR SYSTEMIC USE                                  & J01                                                              & ANTIBACTERIALS FOR SYSTEMIC USE                                  & J01D                                                             & OTHER BETA-LACTAM ANTIBACTERIALS                                 & J01DB                                                            & FIRST-GENERATION CEPHALOSPORINS                                  & J01DB04                                                          & CEFAZOLIN                                                       \\\\\n",
       "\t J                                                                & ANTIINFECTIVES FOR SYSTEMIC USE                                  & J01                                                              & ANTIBACTERIALS FOR SYSTEMIC USE                                  & J01D                                                             & OTHER BETA-LACTAM ANTIBACTERIALS                                 & J01DC                                                            & SECOND-GENERATION CEPHALOSPORINS                                 & J01DC                                                            & SECOND-GENERATION CEPHALOSPORINS                                \\\\\n",
       "\t J                                                                & ANTIINFECTIVES FOR SYSTEMIC USE                                  & J01                                                              & ANTIBACTERIALS FOR SYSTEMIC USE                                  & J01D                                                             & OTHER BETA-LACTAM ANTIBACTERIALS                                 & J01DC                                                            & SECOND-GENERATION CEPHALOSPORINS                                 & J01DC01                                                          & CEFOXITIN                                                       \\\\\n",
       "\t J                                                                & ANTIINFECTIVES FOR SYSTEMIC USE                                  & J01                                                              & ANTIBACTERIALS FOR SYSTEMIC USE                                  & J01D                                                             & OTHER BETA-LACTAM ANTIBACTERIALS                                 & J01DC                                                            & SECOND-GENERATION CEPHALOSPORINS                                 & J01DC02                                                          & CEFUROXIME                                                      \\\\\n",
       "\t J                                                                & ANTIINFECTIVES FOR SYSTEMIC USE                                  & J01                                                              & ANTIBACTERIALS FOR SYSTEMIC USE                                  & J01D                                                             & OTHER BETA-LACTAM ANTIBACTERIALS                                 & J01DC                                                            & SECOND-GENERATION CEPHALOSPORINS                                 & J01DC04                                                          & CEFACLOR                                                        \\\\\n",
       "\t J                                                                & ANTIINFECTIVES FOR SYSTEMIC USE                                  & J01                                                              & ANTIBACTERIALS FOR SYSTEMIC USE                                  & J01D                                                             & OTHER BETA-LACTAM ANTIBACTERIALS                                 & J01DD                                                            & THIRD-GENERATION CEPHALOSPORINS                                  & J01DD01                                                          & CEFOTAXIME                                                      \\\\\n",
       "\t J                                                                & ANTIINFECTIVES FOR SYSTEMIC USE                                  & J01                                                              & ANTIBACTERIALS FOR SYSTEMIC USE                                  & J01D                                                             & OTHER BETA-LACTAM ANTIBACTERIALS                                 & J01DD                                                            & THIRD-GENERATION CEPHALOSPORINS                                  & J01DD02                                                          & CEFTAZIDIME                                                     \\\\\n",
       "\t J                                                                & ANTIINFECTIVES FOR SYSTEMIC USE                                  & J01                                                              & ANTIBACTERIALS FOR SYSTEMIC USE                                  & J01D                                                             & OTHER BETA-LACTAM ANTIBACTERIALS                                 & J01DD                                                            & THIRD-GENERATION CEPHALOSPORINS                                  & J01DD04                                                          & CEFTRIAXONE                                                     \\\\\n",
       "\t J                                                                & ANTIINFECTIVES FOR SYSTEMIC USE                                  & J01                                                              & ANTIBACTERIALS FOR SYSTEMIC USE                                  & J01D                                                             & OTHER BETA-LACTAM ANTIBACTERIALS                                 & J01DE                                                            & FOURTH-GENERATION CEPHALOSPORINS                                 & J01DE01                                                          & CEFEPIME                                                        \\\\\n",
       "\t J                                                                & ANTIINFECTIVES FOR SYSTEMIC USE                                  & J01                                                              & ANTIBACTERIALS FOR SYSTEMIC USE                                  & J01D                                                             & OTHER BETA-LACTAM ANTIBACTERIALS                                 & J01DF                                                            & MONOBACTAMS                                                      & J01DF01                                                          & AZTREONAM                                                       \\\\\n",
       "\t J                                                                & ANTIINFECTIVES FOR SYSTEMIC USE                                  & J01                                                              & ANTIBACTERIALS FOR SYSTEMIC USE                                  & J01D                                                             & OTHER BETA-LACTAM ANTIBACTERIALS                                 & J01DH                                                            & CARBAPENEMS                                                      & J01DH02                                                          & MEROPENEM                                                       \\\\\n",
       "\t J                                                                & ANTIINFECTIVES FOR SYSTEMIC USE                                  & J01                                                              & ANTIBACTERIALS FOR SYSTEMIC USE                                  & J01D                                                             & OTHER BETA-LACTAM ANTIBACTERIALS                                 & J01DH                                                            & CARBAPENEMS                                                      & J01DH51                                                          & IMIPENEM AND ENZYME INHIBITOR                                   \\\\\n",
       "\t J                                                                & ANTIINFECTIVES FOR SYSTEMIC USE                                  & J01                                                              & ANTIBACTERIALS FOR SYSTEMIC USE                                  & J01E                                                             & SULFONAMIDES AND TRIMETHOPRIM                                    & J01EA                                                            & TRIMETHOPRIM AND DERIVATIVES                                     & J01EA01                                                          & TRIMETHOPRIM                                                    \\\\\n",
       "\t J                                                                & ANTIINFECTIVES FOR SYSTEMIC USE                                  & J01                                                              & ANTIBACTERIALS FOR SYSTEMIC USE                                  & J01E                                                             & SULFONAMIDES AND TRIMETHOPRIM                                    & J01EE                                                            & COMBINATIONS OF SULFONAMIDES AND TRIMETHOPRIM, INCL. DERIVATIVES & J01EE                                                            & COMBINATIONS OF SULFONAMIDES AND TRIMETHOPRIM, INCL. DERIVATIVES\\\\\n",
       "\t J                                                                & ANTIINFECTIVES FOR SYSTEMIC USE                                  & J01                                                              & ANTIBACTERIALS FOR SYSTEMIC USE                                  & J01E                                                             & SULFONAMIDES AND TRIMETHOPRIM                                    & J01EE                                                            & COMBINATIONS OF SULFONAMIDES AND TRIMETHOPRIM, INCL. DERIVATIVES & J01EE01                                                          & SULFAMETHOXAZOLE AND TRIMETHOPRIM                               \\\\\n",
       "\t J                                                                & ANTIINFECTIVES FOR SYSTEMIC USE                                  & J01                                                              & ANTIBACTERIALS FOR SYSTEMIC USE                                  & J01F                                                             & MACROLIDES, LINCOSAMIDES AND STREPTOGRAMINS                      & J01FA                                                            & MACROLIDES                                                       & J01FA01                                                          & ERYTHROMYCIN                                                    \\\\\n",
       "\t J                                                                & ANTIINFECTIVES FOR SYSTEMIC USE                                  & J01                                                              & ANTIBACTERIALS FOR SYSTEMIC USE                                  & J01F                                                             & MACROLIDES, LINCOSAMIDES AND STREPTOGRAMINS                      & J01FA                                                            & MACROLIDES                                                       & J01FA06                                                          & ROXITHROMYCIN                                                   \\\\\n",
       "\t J                                                                & ANTIINFECTIVES FOR SYSTEMIC USE                                  & J01                                                              & ANTIBACTERIALS FOR SYSTEMIC USE                                  & J01F                                                             & MACROLIDES, LINCOSAMIDES AND STREPTOGRAMINS                      & J01FA                                                            & MACROLIDES                                                       & J01FA09                                                          & CLARITHROMYCIN                                                  \\\\\n",
       "\t J                                                                & ANTIINFECTIVES FOR SYSTEMIC USE                                  & J01                                                              & ANTIBACTERIALS FOR SYSTEMIC USE                                  & J01F                                                             & MACROLIDES, LINCOSAMIDES AND STREPTOGRAMINS                      & J01FA                                                            & MACROLIDES                                                       & J01FA10                                                          & AZITHROMYCIN                                                    \\\\\n",
       "\t J                                                                & ANTIINFECTIVES FOR SYSTEMIC USE                                  & J01                                                              & ANTIBACTERIALS FOR SYSTEMIC USE                                  & J01F                                                             & MACROLIDES, LINCOSAMIDES AND STREPTOGRAMINS                      & J01FF                                                            & LINCOSAMIDES                                                     & J01FF                                                            & LINCOSAMIDES                                                    \\\\\n",
       "\t J                                                                & ANTIINFECTIVES FOR SYSTEMIC USE                                  & J01                                                              & ANTIBACTERIALS FOR SYSTEMIC USE                                  & J01F                                                             & MACROLIDES, LINCOSAMIDES AND STREPTOGRAMINS                      & J01FF                                                            & LINCOSAMIDES                                                     & J01FF01                                                          & CLINDAMYCIN                                                     \\\\\n",
       "\t J                                                                & ANTIINFECTIVES FOR SYSTEMIC USE                                  & J01                                                              & ANTIBACTERIALS FOR SYSTEMIC USE                                  & J01F                                                             & MACROLIDES, LINCOSAMIDES AND STREPTOGRAMINS                      & J01FF                                                            & LINCOSAMIDES                                                     & J01FF02                                                          & LINCOMYCIN                                                      \\\\\n",
       "\t J                                                                & ANTIINFECTIVES FOR SYSTEMIC USE                                  & J01                                                              & ANTIBACTERIALS FOR SYSTEMIC USE                                  & J01G                                                             & AMINOGLYCOSIDE ANTIBACTERIALS                                    & J01GB                                                            & OTHER AMINOGLYCOSIDES                                            & J01GB01                                                          & TOBRAMYCIN                                                      \\\\\n",
       "\t J                                                                & ANTIINFECTIVES FOR SYSTEMIC USE                                  & J01                                                              & ANTIBACTERIALS FOR SYSTEMIC USE                                  & J01G                                                             & AMINOGLYCOSIDE ANTIBACTERIALS                                    & J01GB                                                            & OTHER AMINOGLYCOSIDES                                            & J01GB03                                                          & GENTAMICIN                                                      \\\\\n",
       "\t J                                                                & ANTIINFECTIVES FOR SYSTEMIC USE                                  & J01                                                              & ANTIBACTERIALS FOR SYSTEMIC USE                                  & J01G                                                             & AMINOGLYCOSIDE ANTIBACTERIALS                                    & J01GB                                                            & OTHER AMINOGLYCOSIDES                                            & J01GB06                                                          & AMIKACIN                                                        \\\\\n",
       "\t J                                                                & ANTIINFECTIVES FOR SYSTEMIC USE                                  & J01                                                              & ANTIBACTERIALS FOR SYSTEMIC USE                                  & J01M                                                             & QUINOLONE ANTIBACTERIALS                                         & J01MA                                                            & FLUOROQUINOLONES                                                 & J01MA02                                                          & CIPROFLOXACIN                                                   \\\\\n",
       "\t J                                                                & ANTIINFECTIVES FOR SYSTEMIC USE                                  & J01                                                              & ANTIBACTERIALS FOR SYSTEMIC USE                                  & J01M                                                             & QUINOLONE ANTIBACTERIALS                                         & J01MA                                                            & FLUOROQUINOLONES                                                 & J01MA06                                                          & NORFLOXACIN                                                     \\\\\n",
       "\t J                                                                & ANTIINFECTIVES FOR SYSTEMIC USE                                  & J01                                                              & ANTIBACTERIALS FOR SYSTEMIC USE                                  & J01M                                                             & QUINOLONE ANTIBACTERIALS                                         & J01MA                                                            & FLUOROQUINOLONES                                                 & J01MA14                                                          & MOXIFLOXACIN                                                    \\\\\n",
       "\t J                                                                & ANTIINFECTIVES FOR SYSTEMIC USE                                  & J01                                                              & ANTIBACTERIALS FOR SYSTEMIC USE                                  & J01M                                                             & QUINOLONE ANTIBACTERIALS                                         & J01MA                                                            & FLUOROQUINOLONES                                                 & J01MA16                                                          & GATIFLOXACIN                                                    \\\\\n",
       "\\end{tabular}\n"
      ],
      "text/plain": [
       "   ATCLevel1Code ATCLevel1Name                   ATCLevel2Code\n",
       "1  J             ANTIINFECTIVES FOR SYSTEMIC USE J01          \n",
       "2  J             ANTIINFECTIVES FOR SYSTEMIC USE J01          \n",
       "3  J             ANTIINFECTIVES FOR SYSTEMIC USE J01          \n",
       "4  J             ANTIINFECTIVES FOR SYSTEMIC USE J01          \n",
       "5  J             ANTIINFECTIVES FOR SYSTEMIC USE J01          \n",
       "6  J             ANTIINFECTIVES FOR SYSTEMIC USE J01          \n",
       "7  J             ANTIINFECTIVES FOR SYSTEMIC USE J01          \n",
       "8  J             ANTIINFECTIVES FOR SYSTEMIC USE J01          \n",
       "9  J             ANTIINFECTIVES FOR SYSTEMIC USE J01          \n",
       "10 J             ANTIINFECTIVES FOR SYSTEMIC USE J01          \n",
       "11 J             ANTIINFECTIVES FOR SYSTEMIC USE J01          \n",
       "12 J             ANTIINFECTIVES FOR SYSTEMIC USE J01          \n",
       "13 J             ANTIINFECTIVES FOR SYSTEMIC USE J01          \n",
       "14 J             ANTIINFECTIVES FOR SYSTEMIC USE J01          \n",
       "15 J             ANTIINFECTIVES FOR SYSTEMIC USE J01          \n",
       "16 J             ANTIINFECTIVES FOR SYSTEMIC USE J01          \n",
       "17 J             ANTIINFECTIVES FOR SYSTEMIC USE J01          \n",
       "18 J             ANTIINFECTIVES FOR SYSTEMIC USE J01          \n",
       "19 J             ANTIINFECTIVES FOR SYSTEMIC USE J01          \n",
       "20 J             ANTIINFECTIVES FOR SYSTEMIC USE J01          \n",
       "21 J             ANTIINFECTIVES FOR SYSTEMIC USE J01          \n",
       "22 J             ANTIINFECTIVES FOR SYSTEMIC USE J01          \n",
       "23 J             ANTIINFECTIVES FOR SYSTEMIC USE J01          \n",
       "24 J             ANTIINFECTIVES FOR SYSTEMIC USE J01          \n",
       "25 J             ANTIINFECTIVES FOR SYSTEMIC USE J01          \n",
       "26 J             ANTIINFECTIVES FOR SYSTEMIC USE J01          \n",
       "27 J             ANTIINFECTIVES FOR SYSTEMIC USE J01          \n",
       "28 J             ANTIINFECTIVES FOR SYSTEMIC USE J01          \n",
       "29 J             ANTIINFECTIVES FOR SYSTEMIC USE J01          \n",
       "30 J             ANTIINFECTIVES FOR SYSTEMIC USE J01          \n",
       "31 J             ANTIINFECTIVES FOR SYSTEMIC USE J01          \n",
       "32 J             ANTIINFECTIVES FOR SYSTEMIC USE J01          \n",
       "33 J             ANTIINFECTIVES FOR SYSTEMIC USE J01          \n",
       "34 J             ANTIINFECTIVES FOR SYSTEMIC USE J01          \n",
       "35 J             ANTIINFECTIVES FOR SYSTEMIC USE J01          \n",
       "36 J             ANTIINFECTIVES FOR SYSTEMIC USE J01          \n",
       "37 J             ANTIINFECTIVES FOR SYSTEMIC USE J01          \n",
       "38 J             ANTIINFECTIVES FOR SYSTEMIC USE J01          \n",
       "39 J             ANTIINFECTIVES FOR SYSTEMIC USE J01          \n",
       "40 J             ANTIINFECTIVES FOR SYSTEMIC USE J01          \n",
       "41 J             ANTIINFECTIVES FOR SYSTEMIC USE J01          \n",
       "42 J             ANTIINFECTIVES FOR SYSTEMIC USE J01          \n",
       "43 J             ANTIINFECTIVES FOR SYSTEMIC USE J01          \n",
       "44 J             ANTIINFECTIVES FOR SYSTEMIC USE J01          \n",
       "45 J             ANTIINFECTIVES FOR SYSTEMIC USE J01          \n",
       "46 J             ANTIINFECTIVES FOR SYSTEMIC USE J01          \n",
       "47 J             ANTIINFECTIVES FOR SYSTEMIC USE J01          \n",
       "48 J             ANTIINFECTIVES FOR SYSTEMIC USE J01          \n",
       "49 J             ANTIINFECTIVES FOR SYSTEMIC USE J01          \n",
       "50 J             ANTIINFECTIVES FOR SYSTEMIC USE J01          \n",
       "   ATCLevel2Name                   ATCLevel3Code\n",
       "1  ANTIBACTERIALS FOR SYSTEMIC USE J01A         \n",
       "2  ANTIBACTERIALS FOR SYSTEMIC USE J01A         \n",
       "3  ANTIBACTERIALS FOR SYSTEMIC USE J01A         \n",
       "4  ANTIBACTERIALS FOR SYSTEMIC USE J01A         \n",
       "5  ANTIBACTERIALS FOR SYSTEMIC USE J01A         \n",
       "6  ANTIBACTERIALS FOR SYSTEMIC USE J01C         \n",
       "7  ANTIBACTERIALS FOR SYSTEMIC USE J01C         \n",
       "8  ANTIBACTERIALS FOR SYSTEMIC USE J01C         \n",
       "9  ANTIBACTERIALS FOR SYSTEMIC USE J01C         \n",
       "10 ANTIBACTERIALS FOR SYSTEMIC USE J01C         \n",
       "11 ANTIBACTERIALS FOR SYSTEMIC USE J01C         \n",
       "12 ANTIBACTERIALS FOR SYSTEMIC USE J01C         \n",
       "13 ANTIBACTERIALS FOR SYSTEMIC USE J01C         \n",
       "14 ANTIBACTERIALS FOR SYSTEMIC USE J01C         \n",
       "15 ANTIBACTERIALS FOR SYSTEMIC USE J01C         \n",
       "16 ANTIBACTERIALS FOR SYSTEMIC USE J01C         \n",
       "17 ANTIBACTERIALS FOR SYSTEMIC USE J01C         \n",
       "18 ANTIBACTERIALS FOR SYSTEMIC USE J01C         \n",
       "19 ANTIBACTERIALS FOR SYSTEMIC USE J01C         \n",
       "20 ANTIBACTERIALS FOR SYSTEMIC USE J01D         \n",
       "21 ANTIBACTERIALS FOR SYSTEMIC USE J01D         \n",
       "22 ANTIBACTERIALS FOR SYSTEMIC USE J01D         \n",
       "23 ANTIBACTERIALS FOR SYSTEMIC USE J01D         \n",
       "24 ANTIBACTERIALS FOR SYSTEMIC USE J01D         \n",
       "25 ANTIBACTERIALS FOR SYSTEMIC USE J01D         \n",
       "26 ANTIBACTERIALS FOR SYSTEMIC USE J01D         \n",
       "27 ANTIBACTERIALS FOR SYSTEMIC USE J01D         \n",
       "28 ANTIBACTERIALS FOR SYSTEMIC USE J01D         \n",
       "29 ANTIBACTERIALS FOR SYSTEMIC USE J01D         \n",
       "30 ANTIBACTERIALS FOR SYSTEMIC USE J01D         \n",
       "31 ANTIBACTERIALS FOR SYSTEMIC USE J01D         \n",
       "32 ANTIBACTERIALS FOR SYSTEMIC USE J01D         \n",
       "33 ANTIBACTERIALS FOR SYSTEMIC USE J01D         \n",
       "34 ANTIBACTERIALS FOR SYSTEMIC USE J01E         \n",
       "35 ANTIBACTERIALS FOR SYSTEMIC USE J01E         \n",
       "36 ANTIBACTERIALS FOR SYSTEMIC USE J01E         \n",
       "37 ANTIBACTERIALS FOR SYSTEMIC USE J01F         \n",
       "38 ANTIBACTERIALS FOR SYSTEMIC USE J01F         \n",
       "39 ANTIBACTERIALS FOR SYSTEMIC USE J01F         \n",
       "40 ANTIBACTERIALS FOR SYSTEMIC USE J01F         \n",
       "41 ANTIBACTERIALS FOR SYSTEMIC USE J01F         \n",
       "42 ANTIBACTERIALS FOR SYSTEMIC USE J01F         \n",
       "43 ANTIBACTERIALS FOR SYSTEMIC USE J01F         \n",
       "44 ANTIBACTERIALS FOR SYSTEMIC USE J01G         \n",
       "45 ANTIBACTERIALS FOR SYSTEMIC USE J01G         \n",
       "46 ANTIBACTERIALS FOR SYSTEMIC USE J01G         \n",
       "47 ANTIBACTERIALS FOR SYSTEMIC USE J01M         \n",
       "48 ANTIBACTERIALS FOR SYSTEMIC USE J01M         \n",
       "49 ANTIBACTERIALS FOR SYSTEMIC USE J01M         \n",
       "50 ANTIBACTERIALS FOR SYSTEMIC USE J01M         \n",
       "   ATCLevel3Name                               ATCLevel4Code\n",
       "1  TETRACYCLINES                               J01AA        \n",
       "2  TETRACYCLINES                               J01AA        \n",
       "3  TETRACYCLINES                               J01AA        \n",
       "4  TETRACYCLINES                               J01AA        \n",
       "5  TETRACYCLINES                               J01AA        \n",
       "6  BETA-LACTAM ANTIBACTERIALS, PENICILLINS     J01CA        \n",
       "7  BETA-LACTAM ANTIBACTERIALS, PENICILLINS     J01CA        \n",
       "8  BETA-LACTAM ANTIBACTERIALS, PENICILLINS     J01CE        \n",
       "9  BETA-LACTAM ANTIBACTERIALS, PENICILLINS     J01CE        \n",
       "10 BETA-LACTAM ANTIBACTERIALS, PENICILLINS     J01CE        \n",
       "11 BETA-LACTAM ANTIBACTERIALS, PENICILLINS     J01CE        \n",
       "12 BETA-LACTAM ANTIBACTERIALS, PENICILLINS     J01CE        \n",
       "13 BETA-LACTAM ANTIBACTERIALS, PENICILLINS     J01CE        \n",
       "14 BETA-LACTAM ANTIBACTERIALS, PENICILLINS     J01CF        \n",
       "15 BETA-LACTAM ANTIBACTERIALS, PENICILLINS     J01CF        \n",
       "16 BETA-LACTAM ANTIBACTERIALS, PENICILLINS     J01CF        \n",
       "17 BETA-LACTAM ANTIBACTERIALS, PENICILLINS     J01CR        \n",
       "18 BETA-LACTAM ANTIBACTERIALS, PENICILLINS     J01CR        \n",
       "19 BETA-LACTAM ANTIBACTERIALS, PENICILLINS     J01CR        \n",
       "20 OTHER BETA-LACTAM ANTIBACTERIALS            J01DB        \n",
       "21 OTHER BETA-LACTAM ANTIBACTERIALS            J01DB        \n",
       "22 OTHER BETA-LACTAM ANTIBACTERIALS            J01DB        \n",
       "23 OTHER BETA-LACTAM ANTIBACTERIALS            J01DC        \n",
       "24 OTHER BETA-LACTAM ANTIBACTERIALS            J01DC        \n",
       "25 OTHER BETA-LACTAM ANTIBACTERIALS            J01DC        \n",
       "26 OTHER BETA-LACTAM ANTIBACTERIALS            J01DC        \n",
       "27 OTHER BETA-LACTAM ANTIBACTERIALS            J01DD        \n",
       "28 OTHER BETA-LACTAM ANTIBACTERIALS            J01DD        \n",
       "29 OTHER BETA-LACTAM ANTIBACTERIALS            J01DD        \n",
       "30 OTHER BETA-LACTAM ANTIBACTERIALS            J01DE        \n",
       "31 OTHER BETA-LACTAM ANTIBACTERIALS            J01DF        \n",
       "32 OTHER BETA-LACTAM ANTIBACTERIALS            J01DH        \n",
       "33 OTHER BETA-LACTAM ANTIBACTERIALS            J01DH        \n",
       "34 SULFONAMIDES AND TRIMETHOPRIM               J01EA        \n",
       "35 SULFONAMIDES AND TRIMETHOPRIM               J01EE        \n",
       "36 SULFONAMIDES AND TRIMETHOPRIM               J01EE        \n",
       "37 MACROLIDES, LINCOSAMIDES AND STREPTOGRAMINS J01FA        \n",
       "38 MACROLIDES, LINCOSAMIDES AND STREPTOGRAMINS J01FA        \n",
       "39 MACROLIDES, LINCOSAMIDES AND STREPTOGRAMINS J01FA        \n",
       "40 MACROLIDES, LINCOSAMIDES AND STREPTOGRAMINS J01FA        \n",
       "41 MACROLIDES, LINCOSAMIDES AND STREPTOGRAMINS J01FF        \n",
       "42 MACROLIDES, LINCOSAMIDES AND STREPTOGRAMINS J01FF        \n",
       "43 MACROLIDES, LINCOSAMIDES AND STREPTOGRAMINS J01FF        \n",
       "44 AMINOGLYCOSIDE ANTIBACTERIALS               J01GB        \n",
       "45 AMINOGLYCOSIDE ANTIBACTERIALS               J01GB        \n",
       "46 AMINOGLYCOSIDE ANTIBACTERIALS               J01GB        \n",
       "47 QUINOLONE ANTIBACTERIALS                    J01MA        \n",
       "48 QUINOLONE ANTIBACTERIALS                    J01MA        \n",
       "49 QUINOLONE ANTIBACTERIALS                    J01MA        \n",
       "50 QUINOLONE ANTIBACTERIALS                    J01MA        \n",
       "   ATCLevel4Name                                                   \n",
       "1  TETRACYCLINES                                                   \n",
       "2  TETRACYCLINES                                                   \n",
       "3  TETRACYCLINES                                                   \n",
       "4  TETRACYCLINES                                                   \n",
       "5  TETRACYCLINES                                                   \n",
       "6  PENICILLINS WITH EXTENDED SPECTRUM                              \n",
       "7  PENICILLINS WITH EXTENDED SPECTRUM                              \n",
       "8  BETA-LACTAMASE SENSITIVE PENICILLINS                            \n",
       "9  BETA-LACTAMASE SENSITIVE PENICILLINS                            \n",
       "10 BETA-LACTAMASE SENSITIVE PENICILLINS                            \n",
       "11 BETA-LACTAMASE SENSITIVE PENICILLINS                            \n",
       "12 BETA-LACTAMASE SENSITIVE PENICILLINS                            \n",
       "13 BETA-LACTAMASE SENSITIVE PENICILLINS                            \n",
       "14 BETA-LACTAMASE RESISTANT PENICILLINS                            \n",
       "15 BETA-LACTAMASE RESISTANT PENICILLINS                            \n",
       "16 BETA-LACTAMASE RESISTANT PENICILLINS                            \n",
       "17 COMBINATIONS OF PENICILLINS, INCL. BETA-LACTAMASE INHIBITORS    \n",
       "18 COMBINATIONS OF PENICILLINS, INCL. BETA-LACTAMASE INHIBITORS    \n",
       "19 COMBINATIONS OF PENICILLINS, INCL. BETA-LACTAMASE INHIBITORS    \n",
       "20 FIRST-GENERATION CEPHALOSPORINS                                 \n",
       "21 FIRST-GENERATION CEPHALOSPORINS                                 \n",
       "22 FIRST-GENERATION CEPHALOSPORINS                                 \n",
       "23 SECOND-GENERATION CEPHALOSPORINS                                \n",
       "24 SECOND-GENERATION CEPHALOSPORINS                                \n",
       "25 SECOND-GENERATION CEPHALOSPORINS                                \n",
       "26 SECOND-GENERATION CEPHALOSPORINS                                \n",
       "27 THIRD-GENERATION CEPHALOSPORINS                                 \n",
       "28 THIRD-GENERATION CEPHALOSPORINS                                 \n",
       "29 THIRD-GENERATION CEPHALOSPORINS                                 \n",
       "30 FOURTH-GENERATION CEPHALOSPORINS                                \n",
       "31 MONOBACTAMS                                                     \n",
       "32 CARBAPENEMS                                                     \n",
       "33 CARBAPENEMS                                                     \n",
       "34 TRIMETHOPRIM AND DERIVATIVES                                    \n",
       "35 COMBINATIONS OF SULFONAMIDES AND TRIMETHOPRIM, INCL. DERIVATIVES\n",
       "36 COMBINATIONS OF SULFONAMIDES AND TRIMETHOPRIM, INCL. DERIVATIVES\n",
       "37 MACROLIDES                                                      \n",
       "38 MACROLIDES                                                      \n",
       "39 MACROLIDES                                                      \n",
       "40 MACROLIDES                                                      \n",
       "41 LINCOSAMIDES                                                    \n",
       "42 LINCOSAMIDES                                                    \n",
       "43 LINCOSAMIDES                                                    \n",
       "44 OTHER AMINOGLYCOSIDES                                           \n",
       "45 OTHER AMINOGLYCOSIDES                                           \n",
       "46 OTHER AMINOGLYCOSIDES                                           \n",
       "47 FLUOROQUINOLONES                                                \n",
       "48 FLUOROQUINOLONES                                                \n",
       "49 FLUOROQUINOLONES                                                \n",
       "50 FLUOROQUINOLONES                                                \n",
       "   ATCLevel5Code\n",
       "1  J01AA        \n",
       "2  J01AA01      \n",
       "3  J01AA02      \n",
       "4  J01AA07      \n",
       "5  J01AA08      \n",
       "6  J01CA01      \n",
       "7  J01CA04      \n",
       "8  J01CE        \n",
       "9  J01CE01      \n",
       "10 J01CE02      \n",
       "11 J01CE08      \n",
       "12 J01CE09      \n",
       "13 J01CE10      \n",
       "14 J01CF01      \n",
       "15 J01CF02      \n",
       "16 J01CF05      \n",
       "17 J01CR02      \n",
       "18 J01CR03      \n",
       "19 J01CR05      \n",
       "20 J01DB01      \n",
       "21 J01DB03      \n",
       "22 J01DB04      \n",
       "23 J01DC        \n",
       "24 J01DC01      \n",
       "25 J01DC02      \n",
       "26 J01DC04      \n",
       "27 J01DD01      \n",
       "28 J01DD02      \n",
       "29 J01DD04      \n",
       "30 J01DE01      \n",
       "31 J01DF01      \n",
       "32 J01DH02      \n",
       "33 J01DH51      \n",
       "34 J01EA01      \n",
       "35 J01EE        \n",
       "36 J01EE01      \n",
       "37 J01FA01      \n",
       "38 J01FA06      \n",
       "39 J01FA09      \n",
       "40 J01FA10      \n",
       "41 J01FF        \n",
       "42 J01FF01      \n",
       "43 J01FF02      \n",
       "44 J01GB01      \n",
       "45 J01GB03      \n",
       "46 J01GB06      \n",
       "47 J01MA02      \n",
       "48 J01MA06      \n",
       "49 J01MA14      \n",
       "50 J01MA16      \n",
       "   ATCLevel5Name                                                   \n",
       "1  TETRACYCLINES                                                   \n",
       "2  DEMECLOCYCLINE                                                  \n",
       "3  DOXYCYCLINE                                                     \n",
       "4  TETRACYCLINE                                                    \n",
       "5  MINOCYCLINE                                                     \n",
       "6  AMPICILLIN                                                      \n",
       "7  AMOXICILLIN                                                     \n",
       "8  BETA-LACTAMASE SENSITIVE PENICILLINS                            \n",
       "9  BENZYLPENICILLIN                                                \n",
       "10 PHENOXYMETHYLPENICILLIN                                         \n",
       "11 BENZATHINE BENZYLPENICILLIN                                     \n",
       "12 PROCAINE BENZYLPENICILLIN                                       \n",
       "13 BENZATHINE PHENOXYMETHYLPENICILLIN                              \n",
       "14 DICLOXACILLIN                                                   \n",
       "15 CLOXACILLIN                                                     \n",
       "16 FLUCLOXACILLIN                                                  \n",
       "17 AMOXICILLIN AND ENZYME INHIBITOR                                \n",
       "18 TICARCILLIN AND ENZYME INHIBITOR                                \n",
       "19 PIPERACILLIN AND ENZYME INHIBITOR                               \n",
       "20 CEFALEXIN                                                       \n",
       "21 CEFALOTIN                                                       \n",
       "22 CEFAZOLIN                                                       \n",
       "23 SECOND-GENERATION CEPHALOSPORINS                                \n",
       "24 CEFOXITIN                                                       \n",
       "25 CEFUROXIME                                                      \n",
       "26 CEFACLOR                                                        \n",
       "27 CEFOTAXIME                                                      \n",
       "28 CEFTAZIDIME                                                     \n",
       "29 CEFTRIAXONE                                                     \n",
       "30 CEFEPIME                                                        \n",
       "31 AZTREONAM                                                       \n",
       "32 MEROPENEM                                                       \n",
       "33 IMIPENEM AND ENZYME INHIBITOR                                   \n",
       "34 TRIMETHOPRIM                                                    \n",
       "35 COMBINATIONS OF SULFONAMIDES AND TRIMETHOPRIM, INCL. DERIVATIVES\n",
       "36 SULFAMETHOXAZOLE AND TRIMETHOPRIM                               \n",
       "37 ERYTHROMYCIN                                                    \n",
       "38 ROXITHROMYCIN                                                   \n",
       "39 CLARITHROMYCIN                                                  \n",
       "40 AZITHROMYCIN                                                    \n",
       "41 LINCOSAMIDES                                                    \n",
       "42 CLINDAMYCIN                                                     \n",
       "43 LINCOMYCIN                                                      \n",
       "44 TOBRAMYCIN                                                      \n",
       "45 GENTAMICIN                                                      \n",
       "46 AMIKACIN                                                        \n",
       "47 CIPROFLOXACIN                                                   \n",
       "48 NORFLOXACIN                                                     \n",
       "49 MOXIFLOXACIN                                                    \n",
       "50 GATIFLOXACIN                                                    "
      ]
     },
     "metadata": {},
     "output_type": "display_data"
    }
   ],
   "source": [
    "ATC_Lookup %>% filter(stringr::str_detect(stringr::str_to_lower(ATCLevel2Name),pattern='antibacterial')) %>% head(50)"
   ]
  },
  {
   "cell_type": "code",
   "execution_count": 17,
   "metadata": {
    "collapsed": false
   },
   "outputs": [
    {
     "data": {
      "text/html": [
       "<table>\n",
       "<thead><tr><th scope=col>ChronicIllness</th><th scope=col>MasterProductID</th><th scope=col>MasterProductFullName</th></tr></thead>\n",
       "<tbody>\n",
       "\t<tr><td>Diabetes                   </td><td>141                        </td><td>ACTOS TAB 30MG (AS HCL) 28 </td></tr>\n",
       "</tbody>\n",
       "</table>\n"
      ],
      "text/latex": [
       "\\begin{tabular}{r|lll}\n",
       " ChronicIllness & MasterProductID & MasterProductFullName\\\\\n",
       "\\hline\n",
       "\t Diabetes                    & 141                         & ACTOS TAB 30MG (AS HCL) 28 \\\\\n",
       "\\end{tabular}\n"
      ],
      "text/plain": [
       "  ChronicIllness MasterProductID MasterProductFullName      \n",
       "1 Diabetes       141             ACTOS TAB 30MG (AS HCL) 28 "
      ]
     },
     "metadata": {},
     "output_type": "display_data"
    }
   ],
   "source": [
    "ChronicIllness_LookUp %>% head(1)"
   ]
  },
  {
   "cell_type": "code",
   "execution_count": 16,
   "metadata": {
    "collapsed": false
   },
   "outputs": [
    {
     "data": {
      "text/html": [
       "<table>\n",
       "<thead><tr><th scope=col>Patient_ID</th><th scope=col>gender</th><th scope=col>year_of_birth</th><th scope=col>postcode</th></tr></thead>\n",
       "<tbody>\n",
       "\t<tr><td>1   </td><td>F   </td><td>1900</td><td>2516</td></tr>\n",
       "</tbody>\n",
       "</table>\n"
      ],
      "text/latex": [
       "\\begin{tabular}{r|llll}\n",
       " Patient\\_ID & gender & year\\_of\\_birth & postcode\\\\\n",
       "\\hline\n",
       "\t 1    & F    & 1900 & 2516\\\\\n",
       "\\end{tabular}\n"
      ],
      "text/plain": [
       "  Patient_ID gender year_of_birth postcode\n",
       "1 1          F      1900          2516    "
      ]
     },
     "metadata": {},
     "output_type": "display_data"
    }
   ],
   "source": [
    "patients %>% head(1)"
   ]
  },
  {
   "cell_type": "code",
   "execution_count": 15,
   "metadata": {
    "collapsed": false
   },
   "outputs": [
    {
     "data": {
      "text/html": [
       "<table>\n",
       "<thead><tr><th scope=col>Store_ID</th><th scope=col>StateCode</th><th scope=col>postcode</th><th scope=col>IsBannerGroup</th></tr></thead>\n",
       "<tbody>\n",
       "\t<tr><td>1   </td><td>VIC </td><td>3558</td><td>0   </td></tr>\n",
       "</tbody>\n",
       "</table>\n"
      ],
      "text/latex": [
       "\\begin{tabular}{r|llll}\n",
       " Store\\_ID & StateCode & postcode & IsBannerGroup\\\\\n",
       "\\hline\n",
       "\t 1    & VIC  & 3558 & 0   \\\\\n",
       "\\end{tabular}\n"
      ],
      "text/plain": [
       "  Store_ID StateCode postcode IsBannerGroup\n",
       "1 1        VIC       3558     0            "
      ]
     },
     "metadata": {},
     "output_type": "display_data"
    }
   ],
   "source": [
    "stores %>% head(1)"
   ]
  },
  {
   "cell_type": "code",
   "execution_count": 23,
   "metadata": {
    "collapsed": true
   },
   "outputs": [],
   "source": [
    "postcodes <- read.csv('..\\\\Data\\\\Datathon_2017\\\\Australian_Post_Codes_Lat_Lon.csv')"
   ]
  },
  {
   "cell_type": "code",
   "execution_count": 25,
   "metadata": {
    "collapsed": false
   },
   "outputs": [
    {
     "data": {
      "text/html": [
       "<table>\n",
       "<thead><tr><th scope=col>postcode</th><th scope=col>suburb</th><th scope=col>state</th><th scope=col>dc</th><th scope=col>type</th><th scope=col>lat</th><th scope=col>lon</th></tr></thead>\n",
       "<tbody>\n",
       "\t<tr><td>200                                          </td><td>AUSTRALIAN NATIONAL UNIVERSITY               </td><td>ACT                                          </td><td>AUSTRALIAN NATIONAL UNI LPO                  </td><td>Post Office Boxes                            </td><td>-35.27727                                    </td><td>149.1171                                     </td></tr>\n",
       "</tbody>\n",
       "</table>\n"
      ],
      "text/latex": [
       "\\begin{tabular}{r|lllllll}\n",
       " postcode & suburb & state & dc & type & lat & lon\\\\\n",
       "\\hline\n",
       "\t 200                                           & AUSTRALIAN NATIONAL UNIVERSITY                & ACT                                           & AUSTRALIAN NATIONAL UNI LPO                   & Post Office Boxes                             & -35.27727                                     & 149.1171                                     \\\\\n",
       "\\end{tabular}\n"
      ],
      "text/plain": [
       "  postcode suburb                         state dc                         \n",
       "1 200      AUSTRALIAN NATIONAL UNIVERSITY ACT   AUSTRALIAN NATIONAL UNI LPO\n",
       "  type                                          lat       lon     \n",
       "1 Post Office Boxes                             -35.27727 149.1171"
      ]
     },
     "metadata": {},
     "output_type": "display_data"
    }
   ],
   "source": [
    "postcodes %>% head(1)"
   ]
  },
  {
   "cell_type": "code",
   "execution_count": 28,
   "metadata": {
    "collapsed": false
   },
   "outputs": [
    {
     "data": {
      "text/html": [
       "<table>\n",
       "<thead><tr><th scope=col>postcode</th><th scope=col>lat</th><th scope=col>long</th></tr></thead>\n",
       "<tbody>\n",
       "\t<tr><td>  0      </td><td>       NA</td><td>      NA </td></tr>\n",
       "\t<tr><td>200      </td><td>-35.27727</td><td>149.1171 </td></tr>\n",
       "\t<tr><td>221      </td><td>-35.20137</td><td>149.0951 </td></tr>\n",
       "\t<tr><td>800      </td><td>-12.80103</td><td>130.9558 </td></tr>\n",
       "\t<tr><td>801      </td><td>-12.80103</td><td>130.9558 </td></tr>\n",
       "\t<tr><td>804      </td><td>-12.43218</td><td>130.8433 </td></tr>\n",
       "\t<tr><td>810      </td><td>-12.37697</td><td>130.8735 </td></tr>\n",
       "\t<tr><td>811      </td><td>-12.37660</td><td>130.8505 </td></tr>\n",
       "\t<tr><td>812      </td><td>-12.39013</td><td>130.8998 </td></tr>\n",
       "\t<tr><td>814      </td><td>-12.38257</td><td>130.8539 </td></tr>\n",
       "</tbody>\n",
       "</table>\n"
      ],
      "text/latex": [
       "\\begin{tabular}{r|lll}\n",
       " postcode & lat & long\\\\\n",
       "\\hline\n",
       "\t   0       &        NA &       NA \\\\\n",
       "\t 200       & -35.27727 & 149.1171 \\\\\n",
       "\t 221       & -35.20137 & 149.0951 \\\\\n",
       "\t 800       & -12.80103 & 130.9558 \\\\\n",
       "\t 801       & -12.80103 & 130.9558 \\\\\n",
       "\t 804       & -12.43218 & 130.8433 \\\\\n",
       "\t 810       & -12.37697 & 130.8735 \\\\\n",
       "\t 811       & -12.37660 & 130.8505 \\\\\n",
       "\t 812       & -12.39013 & 130.8998 \\\\\n",
       "\t 814       & -12.38257 & 130.8539 \\\\\n",
       "\\end{tabular}\n"
      ],
      "text/plain": [
       "   postcode lat       long    \n",
       "1    0             NA       NA\n",
       "2  200      -35.27727 149.1171\n",
       "3  221      -35.20137 149.0951\n",
       "4  800      -12.80103 130.9558\n",
       "5  801      -12.80103 130.9558\n",
       "6  804      -12.43218 130.8433\n",
       "7  810      -12.37697 130.8735\n",
       "8  811      -12.37660 130.8505\n",
       "9  812      -12.39013 130.8998\n",
       "10 814      -12.38257 130.8539"
      ]
     },
     "metadata": {},
     "output_type": "display_data"
    }
   ],
   "source": []
  },
  {
   "cell_type": "code",
   "execution_count": 57,
   "metadata": {
    "collapsed": false
   },
   "outputs": [
    {
     "data": {
      "text/html": [
       "<table>\n",
       "<thead><tr><th scope=col>Patient_ID</th><th scope=col>Store_ID</th><th scope=col>Prescriber_ID</th><th scope=col>Drug_ID</th><th scope=col>SourceSystem_Code</th><th scope=col>Prescription_Week</th><th scope=col>Dispense_Week</th><th scope=col>Drug_Code</th><th scope=col>NHS_Code</th><th scope=col>IsDeferredScript</th><th scope=col>...</th><th scope=col>RepeatsTotal_Qty</th><th scope=col>RepeatsLeft_Qty</th><th scope=col>StreamlinedApproval_Code</th><th scope=col>gender</th><th scope=col>year_of_birth</th><th scope=col>postcode</th><th scope=col>lat</th><th scope=col>long</th><th scope=col>ChronicIllness</th><th scope=col>MasterProductFullName</th></tr></thead>\n",
       "<tbody>\n",
       "\t<tr><td>156                       </td><td>1525                      </td><td>11637                     </td><td> 765                      </td><td>F                         </td><td>2010-10-17                </td><td>2011-01-02                </td><td>ATAC3                     </td><td>8297Q                     </td><td>0                         </td><td>...                       </td><td>6                         </td><td>3                         </td><td>NA                        </td><td>F                         </td><td>1900                      </td><td>3450                      </td><td>-37.06203                 </td><td>144.2308                  </td><td>Hypertension              </td><td>ATACAND TAB 16MG 30       </td></tr>\n",
       "\t<tr><td>156                       </td><td>1525                      </td><td>11637                     </td><td>2885                      </td><td>F                         </td><td>2010-10-17                </td><td>2011-01-02                </td><td>EFEX5                     </td><td>8302Y                     </td><td>0                         </td><td>...                       </td><td>6                         </td><td>3                         </td><td>NA                        </td><td>F                         </td><td>1900                      </td><td>3450                      </td><td>-37.06203                 </td><td>144.2308                  </td><td>Depression                </td><td>EFEXOR XR SR-CAP 150MG 28 </td></tr>\n",
       "\t<tr><td>156                       </td><td>1525                      </td><td>11637                     </td><td> 765                      </td><td>F                         </td><td>2010-10-17                </td><td>2011-01-30                </td><td>ATAC3                     </td><td>8297Q                     </td><td>0                         </td><td>...                       </td><td>6                         </td><td>2                         </td><td>NA                        </td><td>F                         </td><td>1900                      </td><td>3450                      </td><td>-37.06203                 </td><td>144.2308                  </td><td>Hypertension              </td><td>ATACAND TAB 16MG 30       </td></tr>\n",
       "\t<tr><td>156                       </td><td>1525                      </td><td>11637                     </td><td>2885                      </td><td>F                         </td><td>2010-10-17                </td><td>2011-01-30                </td><td>EFEX5                     </td><td>8302Y                     </td><td>0                         </td><td>...                       </td><td>6                         </td><td>2                         </td><td>NA                        </td><td>F                         </td><td>1900                      </td><td>3450                      </td><td>-37.06203                 </td><td>144.2308                  </td><td>Depression                </td><td>EFEXOR XR SR-CAP 150MG 28 </td></tr>\n",
       "\t<tr><td>156                       </td><td>1525                      </td><td>11637                     </td><td>2885                      </td><td>F                         </td><td>2011-05-01                </td><td>2011-05-29                </td><td>EFEX5                     </td><td>8302Y                     </td><td>0                         </td><td>...                       </td><td>6                         </td><td>4                         </td><td>NA                        </td><td>F                         </td><td>1900                      </td><td>3450                      </td><td>-37.06203                 </td><td>144.2308                  </td><td>Depression                </td><td>EFEXOR XR SR-CAP 150MG 28 </td></tr>\n",
       "\t<tr><td>156                       </td><td>1525                      </td><td>11637                     </td><td> 765                      </td><td>F                         </td><td>2011-05-01                </td><td>2011-06-26                </td><td>ATAC3                     </td><td>8297Q                     </td><td>0                         </td><td>...                       </td><td>6                         </td><td>4                         </td><td>NA                        </td><td>F                         </td><td>1900                      </td><td>3450                      </td><td>-37.06203                 </td><td>144.2308                  </td><td>Hypertension              </td><td>ATACAND TAB 16MG 30       </td></tr>\n",
       "\t<tr><td>156                       </td><td>1525                      </td><td>11637                     </td><td>2885                      </td><td>F                         </td><td>2011-05-01                </td><td>2011-06-26                </td><td>EFEX5                     </td><td>8302Y                     </td><td>0                         </td><td>...                       </td><td>6                         </td><td>3                         </td><td>NA                        </td><td>F                         </td><td>1900                      </td><td>3450                      </td><td>-37.06203                 </td><td>144.2308                  </td><td>Depression                </td><td>EFEXOR XR SR-CAP 150MG 28 </td></tr>\n",
       "\t<tr><td>156                       </td><td>1525                      </td><td>11637                     </td><td> 765                      </td><td>F                         </td><td>2011-05-01                </td><td>2011-07-31                </td><td>ATAC3                     </td><td>8297Q                     </td><td>0                         </td><td>...                       </td><td>6                         </td><td>3                         </td><td>NA                        </td><td>F                         </td><td>1900                      </td><td>3450                      </td><td>-37.06203                 </td><td>144.2308                  </td><td>Hypertension              </td><td>ATACAND TAB 16MG 30       </td></tr>\n",
       "\t<tr><td>156                       </td><td>1525                      </td><td>11637                     </td><td>2885                      </td><td>F                         </td><td>2011-05-01                </td><td>2011-07-31                </td><td>EFEX5                     </td><td>8302Y                     </td><td>0                         </td><td>...                       </td><td>6                         </td><td>2                         </td><td>NA                        </td><td>F                         </td><td>1900                      </td><td>3450                      </td><td>-37.06203                 </td><td>144.2308                  </td><td>Depression                </td><td>EFEXOR XR SR-CAP 150MG 28 </td></tr>\n",
       "\t<tr><td>156                       </td><td>1525                      </td><td>11637                     </td><td> 765                      </td><td>F                         </td><td>2011-05-01                </td><td>2011-09-04                </td><td>ATAC3                     </td><td>8297Q                     </td><td>0                         </td><td>...                       </td><td>6                         </td><td>2                         </td><td>NA                        </td><td>F                         </td><td>1900                      </td><td>3450                      </td><td>-37.06203                 </td><td>144.2308                  </td><td>Hypertension              </td><td>ATACAND TAB 16MG 30       </td></tr>\n",
       "</tbody>\n",
       "</table>\n"
      ],
      "text/latex": [
       "\\begin{tabular}{r|llllllllllllllllllllllllll}\n",
       " Patient\\_ID & Store\\_ID & Prescriber\\_ID & Drug\\_ID & SourceSystem\\_Code & Prescription\\_Week & Dispense\\_Week & Drug\\_Code & NHS\\_Code & IsDeferredScript & ... & RepeatsTotal\\_Qty & RepeatsLeft\\_Qty & StreamlinedApproval\\_Code & gender & year\\_of\\_birth & postcode & lat & long & ChronicIllness & MasterProductFullName\\\\\n",
       "\\hline\n",
       "\t 156                        & 1525                       & 11637                      &  765                       & F                          & 2010-10-17                 & 2011-01-02                 & ATAC3                      & 8297Q                      & 0                          & ...                        & 6                          & 3                          & NA                         & F                          & 1900                       & 3450                       & -37.06203                  & 144.2308                   & Hypertension               & ATACAND TAB 16MG 30       \\\\\n",
       "\t 156                        & 1525                       & 11637                      & 2885                       & F                          & 2010-10-17                 & 2011-01-02                 & EFEX5                      & 8302Y                      & 0                          & ...                        & 6                          & 3                          & NA                         & F                          & 1900                       & 3450                       & -37.06203                  & 144.2308                   & Depression                 & EFEXOR XR SR-CAP 150MG 28 \\\\\n",
       "\t 156                        & 1525                       & 11637                      &  765                       & F                          & 2010-10-17                 & 2011-01-30                 & ATAC3                      & 8297Q                      & 0                          & ...                        & 6                          & 2                          & NA                         & F                          & 1900                       & 3450                       & -37.06203                  & 144.2308                   & Hypertension               & ATACAND TAB 16MG 30       \\\\\n",
       "\t 156                        & 1525                       & 11637                      & 2885                       & F                          & 2010-10-17                 & 2011-01-30                 & EFEX5                      & 8302Y                      & 0                          & ...                        & 6                          & 2                          & NA                         & F                          & 1900                       & 3450                       & -37.06203                  & 144.2308                   & Depression                 & EFEXOR XR SR-CAP 150MG 28 \\\\\n",
       "\t 156                        & 1525                       & 11637                      & 2885                       & F                          & 2011-05-01                 & 2011-05-29                 & EFEX5                      & 8302Y                      & 0                          & ...                        & 6                          & 4                          & NA                         & F                          & 1900                       & 3450                       & -37.06203                  & 144.2308                   & Depression                 & EFEXOR XR SR-CAP 150MG 28 \\\\\n",
       "\t 156                        & 1525                       & 11637                      &  765                       & F                          & 2011-05-01                 & 2011-06-26                 & ATAC3                      & 8297Q                      & 0                          & ...                        & 6                          & 4                          & NA                         & F                          & 1900                       & 3450                       & -37.06203                  & 144.2308                   & Hypertension               & ATACAND TAB 16MG 30       \\\\\n",
       "\t 156                        & 1525                       & 11637                      & 2885                       & F                          & 2011-05-01                 & 2011-06-26                 & EFEX5                      & 8302Y                      & 0                          & ...                        & 6                          & 3                          & NA                         & F                          & 1900                       & 3450                       & -37.06203                  & 144.2308                   & Depression                 & EFEXOR XR SR-CAP 150MG 28 \\\\\n",
       "\t 156                        & 1525                       & 11637                      &  765                       & F                          & 2011-05-01                 & 2011-07-31                 & ATAC3                      & 8297Q                      & 0                          & ...                        & 6                          & 3                          & NA                         & F                          & 1900                       & 3450                       & -37.06203                  & 144.2308                   & Hypertension               & ATACAND TAB 16MG 30       \\\\\n",
       "\t 156                        & 1525                       & 11637                      & 2885                       & F                          & 2011-05-01                 & 2011-07-31                 & EFEX5                      & 8302Y                      & 0                          & ...                        & 6                          & 2                          & NA                         & F                          & 1900                       & 3450                       & -37.06203                  & 144.2308                   & Depression                 & EFEXOR XR SR-CAP 150MG 28 \\\\\n",
       "\t 156                        & 1525                       & 11637                      &  765                       & F                          & 2011-05-01                 & 2011-09-04                 & ATAC3                      & 8297Q                      & 0                          & ...                        & 6                          & 2                          & NA                         & F                          & 1900                       & 3450                       & -37.06203                  & 144.2308                   & Hypertension               & ATACAND TAB 16MG 30       \\\\\n",
       "\\end{tabular}\n"
      ],
      "text/plain": [
       "   Patient_ID Store_ID Prescriber_ID Drug_ID SourceSystem_Code\n",
       "1  156        1525     11637          765    F                \n",
       "2  156        1525     11637         2885    F                \n",
       "3  156        1525     11637          765    F                \n",
       "4  156        1525     11637         2885    F                \n",
       "5  156        1525     11637         2885    F                \n",
       "6  156        1525     11637          765    F                \n",
       "7  156        1525     11637         2885    F                \n",
       "8  156        1525     11637          765    F                \n",
       "9  156        1525     11637         2885    F                \n",
       "10 156        1525     11637          765    F                \n",
       "   Prescription_Week Dispense_Week Drug_Code NHS_Code IsDeferredScript ...\n",
       "1  2010-10-17        2011-01-02    ATAC3     8297Q    0                ...\n",
       "2  2010-10-17        2011-01-02    EFEX5     8302Y    0                ...\n",
       "3  2010-10-17        2011-01-30    ATAC3     8297Q    0                ...\n",
       "4  2010-10-17        2011-01-30    EFEX5     8302Y    0                ...\n",
       "5  2011-05-01        2011-05-29    EFEX5     8302Y    0                ...\n",
       "6  2011-05-01        2011-06-26    ATAC3     8297Q    0                ...\n",
       "7  2011-05-01        2011-06-26    EFEX5     8302Y    0                ...\n",
       "8  2011-05-01        2011-07-31    ATAC3     8297Q    0                ...\n",
       "9  2011-05-01        2011-07-31    EFEX5     8302Y    0                ...\n",
       "10 2011-05-01        2011-09-04    ATAC3     8297Q    0                ...\n",
       "   RepeatsTotal_Qty RepeatsLeft_Qty StreamlinedApproval_Code gender\n",
       "1  6                3               NA                       F     \n",
       "2  6                3               NA                       F     \n",
       "3  6                2               NA                       F     \n",
       "4  6                2               NA                       F     \n",
       "5  6                4               NA                       F     \n",
       "6  6                4               NA                       F     \n",
       "7  6                3               NA                       F     \n",
       "8  6                3               NA                       F     \n",
       "9  6                2               NA                       F     \n",
       "10 6                2               NA                       F     \n",
       "   year_of_birth postcode lat       long     ChronicIllness\n",
       "1  1900          3450     -37.06203 144.2308 Hypertension  \n",
       "2  1900          3450     -37.06203 144.2308 Depression    \n",
       "3  1900          3450     -37.06203 144.2308 Hypertension  \n",
       "4  1900          3450     -37.06203 144.2308 Depression    \n",
       "5  1900          3450     -37.06203 144.2308 Depression    \n",
       "6  1900          3450     -37.06203 144.2308 Hypertension  \n",
       "7  1900          3450     -37.06203 144.2308 Depression    \n",
       "8  1900          3450     -37.06203 144.2308 Hypertension  \n",
       "9  1900          3450     -37.06203 144.2308 Depression    \n",
       "10 1900          3450     -37.06203 144.2308 Hypertension  \n",
       "   MasterProductFullName     \n",
       "1  ATACAND TAB 16MG 30       \n",
       "2  EFEXOR XR SR-CAP 150MG 28 \n",
       "3  ATACAND TAB 16MG 30       \n",
       "4  EFEXOR XR SR-CAP 150MG 28 \n",
       "5  EFEXOR XR SR-CAP 150MG 28 \n",
       "6  ATACAND TAB 16MG 30       \n",
       "7  EFEXOR XR SR-CAP 150MG 28 \n",
       "8  ATACAND TAB 16MG 30       \n",
       "9  EFEXOR XR SR-CAP 150MG 28 \n",
       "10 ATACAND TAB 16MG 30       "
      ]
     },
     "metadata": {},
     "output_type": "display_data"
    }
   ],
   "source": [
    "sample_transactions %>% \n",
    "    left_join(patients, by='Patient_ID') %>% \n",
    "    left_join(postcodes %>% group_by(postcode) %>%\n",
    "                summarise(lat = mean(lat),\n",
    "                  long = mean(lon))\n",
    "        , by='postcode') %>% \n",
    "    left_join(., ChronicIllness_LookUp, by = c('Drug_ID'='MasterProductID')) %>%\n",
    " filter( long > 140, long < 160, lat < -35 ) %>% head(10)"
   ]
  },
  {
   "cell_type": "code",
   "execution_count": 56,
   "metadata": {
    "collapsed": false
   },
   "outputs": [
    {
     "name": "stderr",
     "output_type": "stream",
     "text": [
      "Joining, by = \"MasterProductFullName\"\n"
     ]
    },
    {
     "data": {
      "text/html": [
       "<table>\n",
       "<thead><tr><th scope=col>Drug_ID</th><th scope=col>Patient_ID</th><th scope=col>MasterProductCode</th><th scope=col>MasterProductFullName</th><th scope=col>BrandName</th><th scope=col>FormCode</th><th scope=col>StrengthCode</th><th scope=col>PackSizeNumber</th><th scope=col>GenericIngredientName</th><th scope=col>EthicalSubCategoryName</th><th scope=col>...</th><th scope=col>ManufacturerGroupID</th><th scope=col>ManufacturerGroupCode</th><th scope=col>ChemistListPrice</th><th scope=col>ATCLevel5Code</th><th scope=col>ATCLevel4Code</th><th scope=col>ATCLevel3Code</th><th scope=col>ATCLevel2Code</th><th scope=col>ATCLevel1Code</th><th scope=col>ChronicIllness</th><th scope=col>MasterProductID</th></tr></thead>\n",
       "<tbody>\n",
       "\t<tr><td> 3423                                      </td><td>  7                                        </td><td>FLOM2                                      </td><td>FLOMAXTRA SR-TAB 400MCG 30                 </td><td>FLOMAXTRA                                  </td><td>SR-TAB                                     </td><td>400MCG                                     </td><td> 30                                        </td><td>TAMSULOSIN                                 </td><td>PBS Substitutable                          </td><td>...                                        </td><td>298                                        </td><td>ASTELLAS PHARMA AUSTRALIA                  </td><td>51.76                                      </td><td>G04CA02                                    </td><td>G04CA                                      </td><td>G04C                                       </td><td>G04                                        </td><td>G                                          </td><td>Urology                                    </td><td> 3423                                      </td></tr>\n",
       "\t<tr><td> 3423                                      </td><td>  7                                        </td><td>FLOM2                                      </td><td>FLOMAXTRA SR-TAB 400MCG 30                 </td><td>FLOMAXTRA                                  </td><td>SR-TAB                                     </td><td>400MCG                                     </td><td> 30                                        </td><td>TAMSULOSIN                                 </td><td>PBS Substitutable                          </td><td>...                                        </td><td>298                                        </td><td>ASTELLAS PHARMA AUSTRALIA                  </td><td>51.76                                      </td><td>G04CA02                                    </td><td>G04CA                                      </td><td>G04C                                       </td><td>G04                                        </td><td>G                                          </td><td>Urology                                    </td><td> 3423                                      </td></tr>\n",
       "\t<tr><td> 2440                                      </td><td>  7                                        </td><td>DIAF6                                      </td><td>DIAFORMIN XR ER-TAB 500MG 120              </td><td>DIAFORMIN XR                               </td><td>ER-TAB                                     </td><td>500MG                                      </td><td>120                                        </td><td>METFORMIN HCL                              </td><td>PBS Generic                                </td><td>...                                        </td><td> 14                                        </td><td>ALPHAPHARM                                 </td><td> 4.31                                      </td><td>A10BA02                                    </td><td>A10BA                                      </td><td>A10B                                       </td><td>A10                                        </td><td>A                                          </td><td>Diabetes                                   </td><td> 2440                                      </td></tr>\n",
       "\t<tr><td>12090                                      </td><td>  7                                        </td><td>METF51                                     </td><td>METFORMIN XR 500 (APO) ER-TAB 500MG 120 BTL</td><td>METFORMIN XR 500 (APO)                     </td><td>ER-TAB                                     </td><td>500MG                                      </td><td>120                                        </td><td>METFORMIN HCL                              </td><td>PBS Generic                                </td><td>...                                        </td><td> 20                                        </td><td>APOTEX                                     </td><td> 4.31                                      </td><td>A10BA02                                    </td><td>A10BA                                      </td><td>A10B                                       </td><td>A10                                        </td><td>A                                          </td><td>Diabetes                                   </td><td>12090                                      </td></tr>\n",
       "\t<tr><td> 8965                                      </td><td>135                                        </td><td>VASO2                                      </td><td>VASOCARDOL CD-CAP 180MG 30 30              </td><td>VASOCARDOL                                 </td><td>CD-CAP                                     </td><td>180MG                                      </td><td> 30                                        </td><td>DILTIAZEM                                  </td><td>PBS Generic                                </td><td>...                                        </td><td>217                                        </td><td>SANOFI-AVENTIS                             </td><td> 6.72                                      </td><td>C08DB01                                    </td><td>C08DB                                      </td><td>C08D                                       </td><td>C08                                        </td><td>C                                          </td><td>NA                                         </td><td>   NA                                      </td></tr>\n",
       "\t<tr><td> 6470                                      </td><td>135                                        </td><td>PANA8                                      </td><td>PANADOL OSTEO SR-TAB 665MG 96              </td><td>PANADOL OSTEO                              </td><td>SR-TAB                                     </td><td>665MG                                      </td><td> 96                                        </td><td>PARACETAMOL                                </td><td>NON PBS Substitutable                      </td><td>...                                        </td><td>105                                        </td><td>GLAXOSMITHKLINE CONSUMER                   </td><td> 4.44                                      </td><td>N02BE01                                    </td><td>N02BE                                      </td><td>N02B                                       </td><td>N02                                        </td><td>N                                          </td><td>NA                                         </td><td>   NA                                      </td></tr>\n",
       "\t<tr><td> 8965                                      </td><td>135                                        </td><td>VASO2                                      </td><td>VASOCARDOL CD-CAP 180MG 30 30              </td><td>VASOCARDOL                                 </td><td>CD-CAP                                     </td><td>180MG                                      </td><td> 30                                        </td><td>DILTIAZEM                                  </td><td>PBS Generic                                </td><td>...                                        </td><td>217                                        </td><td>SANOFI-AVENTIS                             </td><td> 6.72                                      </td><td>C08DB01                                    </td><td>C08DB                                      </td><td>C08D                                       </td><td>C08                                        </td><td>C                                          </td><td>NA                                         </td><td>   NA                                      </td></tr>\n",
       "\t<tr><td> 8711                                      </td><td>135                                        </td><td>TRAM35                                     </td><td>TRAMEDO SR-TAB 100MG 20                    </td><td>TRAMEDO                                    </td><td>SR-TAB                                     </td><td>100MG                                      </td><td> 20                                        </td><td>TRAMADOL HYDROCHLORIDE                     </td><td>PBS Generic                                </td><td>...                                        </td><td> 14                                        </td><td>ALPHAPHARM                                 </td><td> 2.72                                      </td><td>N02AX02                                    </td><td>N02AX                                      </td><td>N02A                                       </td><td>N02                                        </td><td>N                                          </td><td>NA                                         </td><td>   NA                                      </td></tr>\n",
       "\t<tr><td> 8711                                      </td><td>135                                        </td><td>TRAM35                                     </td><td>TRAMEDO SR-TAB 100MG 20                    </td><td>TRAMEDO                                    </td><td>SR-TAB                                     </td><td>100MG                                      </td><td> 20                                        </td><td>TRAMADOL HYDROCHLORIDE                     </td><td>PBS Generic                                </td><td>...                                        </td><td> 14                                        </td><td>ALPHAPHARM                                 </td><td> 2.72                                      </td><td>N02AX02                                    </td><td>N02AX                                      </td><td>N02A                                       </td><td>N02                                        </td><td>N                                          </td><td>NA                                         </td><td>   NA                                      </td></tr>\n",
       "\t<tr><td>  862                                      </td><td>135                                        </td><td>AVAP2                                      </td><td>AVAPRO HCT TAB 300MG/12.5MG 30             </td><td>AVAPRO HCT                                 </td><td>TAB                                        </td><td>300MG/12.5MG                               </td><td> 30                                        </td><td>IRBESARTAN/HYDROCHLOROTHIAZIDE             </td><td>PBS Substitutable                          </td><td>...                                        </td><td>217                                        </td><td>SANOFI-AVENTIS                             </td><td> 6.22                                      </td><td>C09DA04                                    </td><td>C09DA                                      </td><td>C09D                                       </td><td>C09                                        </td><td>C                                          </td><td>Hypertension                               </td><td>  862                                      </td></tr>\n",
       "\t<tr><td> 8965                                      </td><td>135                                        </td><td>VASO2                                      </td><td>VASOCARDOL CD-CAP 180MG 30 30              </td><td>VASOCARDOL                                 </td><td>CD-CAP                                     </td><td>180MG                                      </td><td> 30                                        </td><td>DILTIAZEM                                  </td><td>PBS Generic                                </td><td>...                                        </td><td>217                                        </td><td>SANOFI-AVENTIS                             </td><td> 6.72                                      </td><td>C08DB01                                    </td><td>C08DB                                      </td><td>C08D                                       </td><td>C08                                        </td><td>C                                          </td><td>NA                                         </td><td>   NA                                      </td></tr>\n",
       "\t<tr><td>  862                                      </td><td>135                                        </td><td>AVAP2                                      </td><td>AVAPRO HCT TAB 300MG/12.5MG 30             </td><td>AVAPRO HCT                                 </td><td>TAB                                        </td><td>300MG/12.5MG                               </td><td> 30                                        </td><td>IRBESARTAN/HYDROCHLOROTHIAZIDE             </td><td>PBS Substitutable                          </td><td>...                                        </td><td>217                                        </td><td>SANOFI-AVENTIS                             </td><td> 6.22                                      </td><td>C09DA04                                    </td><td>C09DA                                      </td><td>C09D                                       </td><td>C09                                        </td><td>C                                          </td><td>Hypertension                               </td><td>  862                                      </td></tr>\n",
       "\t<tr><td>   99                                      </td><td>135                                        </td><td>ACIM6                                      </td><td>ACIMAX TAB 20MG 30                         </td><td>ACIMAX                                     </td><td>TAB                                        </td><td>20MG                                       </td><td> 30                                        </td><td>OMEPRAZOLE                                 </td><td>PBS Generic                                </td><td>...                                        </td><td> 14                                        </td><td>ALPHAPHARM                                 </td><td> 5.09                                      </td><td>A02BC01                                    </td><td>A02BC                                      </td><td>A02B                                       </td><td>A02                                        </td><td>A                                          </td><td>NA                                         </td><td>   NA                                      </td></tr>\n",
       "\t<tr><td> 8711                                      </td><td>135                                        </td><td>TRAM35                                     </td><td>TRAMEDO SR-TAB 100MG 20                    </td><td>TRAMEDO                                    </td><td>SR-TAB                                     </td><td>100MG                                      </td><td> 20                                        </td><td>TRAMADOL HYDROCHLORIDE                     </td><td>PBS Generic                                </td><td>...                                        </td><td> 14                                        </td><td>ALPHAPHARM                                 </td><td> 2.72                                      </td><td>N02AX02                                    </td><td>N02AX                                      </td><td>N02A                                       </td><td>N02                                        </td><td>N                                          </td><td>NA                                         </td><td>   NA                                      </td></tr>\n",
       "\t<tr><td>   99                                      </td><td>135                                        </td><td>ACIM6                                      </td><td>ACIMAX TAB 20MG 30                         </td><td>ACIMAX                                     </td><td>TAB                                        </td><td>20MG                                       </td><td> 30                                        </td><td>OMEPRAZOLE                                 </td><td>PBS Generic                                </td><td>...                                        </td><td> 14                                        </td><td>ALPHAPHARM                                 </td><td> 5.09                                      </td><td>A02BC01                                    </td><td>A02BC                                      </td><td>A02B                                       </td><td>A02                                        </td><td>A                                          </td><td>NA                                         </td><td>   NA                                      </td></tr>\n",
       "\t<tr><td>  862                                      </td><td>135                                        </td><td>AVAP2                                      </td><td>AVAPRO HCT TAB 300MG/12.5MG 30             </td><td>AVAPRO HCT                                 </td><td>TAB                                        </td><td>300MG/12.5MG                               </td><td> 30                                        </td><td>IRBESARTAN/HYDROCHLOROTHIAZIDE             </td><td>PBS Substitutable                          </td><td>...                                        </td><td>217                                        </td><td>SANOFI-AVENTIS                             </td><td> 6.22                                      </td><td>C09DA04                                    </td><td>C09DA                                      </td><td>C09D                                       </td><td>C09                                        </td><td>C                                          </td><td>Hypertension                               </td><td>  862                                      </td></tr>\n",
       "\t<tr><td>   99                                      </td><td>135                                        </td><td>ACIM6                                      </td><td>ACIMAX TAB 20MG 30                         </td><td>ACIMAX                                     </td><td>TAB                                        </td><td>20MG                                       </td><td> 30                                        </td><td>OMEPRAZOLE                                 </td><td>PBS Generic                                </td><td>...                                        </td><td> 14                                        </td><td>ALPHAPHARM                                 </td><td> 5.09                                      </td><td>A02BC01                                    </td><td>A02BC                                      </td><td>A02B                                       </td><td>A02                                        </td><td>A                                          </td><td>NA                                         </td><td>   NA                                      </td></tr>\n",
       "\t<tr><td> 8965                                      </td><td>135                                        </td><td>VASO2                                      </td><td>VASOCARDOL CD-CAP 180MG 30 30              </td><td>VASOCARDOL                                 </td><td>CD-CAP                                     </td><td>180MG                                      </td><td> 30                                        </td><td>DILTIAZEM                                  </td><td>PBS Generic                                </td><td>...                                        </td><td>217                                        </td><td>SANOFI-AVENTIS                             </td><td> 6.72                                      </td><td>C08DB01                                    </td><td>C08DB                                      </td><td>C08D                                       </td><td>C08                                        </td><td>C                                          </td><td>NA                                         </td><td>   NA                                      </td></tr>\n",
       "\t<tr><td> 8711                                      </td><td>135                                        </td><td>TRAM35                                     </td><td>TRAMEDO SR-TAB 100MG 20                    </td><td>TRAMEDO                                    </td><td>SR-TAB                                     </td><td>100MG                                      </td><td> 20                                        </td><td>TRAMADOL HYDROCHLORIDE                     </td><td>PBS Generic                                </td><td>...                                        </td><td> 14                                        </td><td>ALPHAPHARM                                 </td><td> 2.72                                      </td><td>N02AX02                                    </td><td>N02AX                                      </td><td>N02A                                       </td><td>N02                                        </td><td>N                                          </td><td>NA                                         </td><td>   NA                                      </td></tr>\n",
       "\t<tr><td> 8965                                      </td><td>135                                        </td><td>VASO2                                      </td><td>VASOCARDOL CD-CAP 180MG 30 30              </td><td>VASOCARDOL                                 </td><td>CD-CAP                                     </td><td>180MG                                      </td><td> 30                                        </td><td>DILTIAZEM                                  </td><td>PBS Generic                                </td><td>...                                        </td><td>217                                        </td><td>SANOFI-AVENTIS                             </td><td> 6.72                                      </td><td>C08DB01                                    </td><td>C08DB                                      </td><td>C08D                                       </td><td>C08                                        </td><td>C                                          </td><td>NA                                         </td><td>   NA                                      </td></tr>\n",
       "\t<tr><td> 6470                                      </td><td>135                                        </td><td>PANA8                                      </td><td>PANADOL OSTEO SR-TAB 665MG 96              </td><td>PANADOL OSTEO                              </td><td>SR-TAB                                     </td><td>665MG                                      </td><td> 96                                        </td><td>PARACETAMOL                                </td><td>NON PBS Substitutable                      </td><td>...                                        </td><td>105                                        </td><td>GLAXOSMITHKLINE CONSUMER                   </td><td> 4.44                                      </td><td>N02BE01                                    </td><td>N02BE                                      </td><td>N02B                                       </td><td>N02                                        </td><td>N                                          </td><td>NA                                         </td><td>   NA                                      </td></tr>\n",
       "\t<tr><td>  862                                      </td><td>135                                        </td><td>AVAP2                                      </td><td>AVAPRO HCT TAB 300MG/12.5MG 30             </td><td>AVAPRO HCT                                 </td><td>TAB                                        </td><td>300MG/12.5MG                               </td><td> 30                                        </td><td>IRBESARTAN/HYDROCHLOROTHIAZIDE             </td><td>PBS Substitutable                          </td><td>...                                        </td><td>217                                        </td><td>SANOFI-AVENTIS                             </td><td> 6.22                                      </td><td>C09DA04                                    </td><td>C09DA                                      </td><td>C09D                                       </td><td>C09                                        </td><td>C                                          </td><td>Hypertension                               </td><td>  862                                      </td></tr>\n",
       "\t<tr><td> 8711                                      </td><td>135                                        </td><td>TRAM35                                     </td><td>TRAMEDO SR-TAB 100MG 20                    </td><td>TRAMEDO                                    </td><td>SR-TAB                                     </td><td>100MG                                      </td><td> 20                                        </td><td>TRAMADOL HYDROCHLORIDE                     </td><td>PBS Generic                                </td><td>...                                        </td><td> 14                                        </td><td>ALPHAPHARM                                 </td><td> 2.72                                      </td><td>N02AX02                                    </td><td>N02AX                                      </td><td>N02A                                       </td><td>N02                                        </td><td>N                                          </td><td>NA                                         </td><td>   NA                                      </td></tr>\n",
       "\t<tr><td> 8965                                      </td><td>135                                        </td><td>VASO2                                      </td><td>VASOCARDOL CD-CAP 180MG 30 30              </td><td>VASOCARDOL                                 </td><td>CD-CAP                                     </td><td>180MG                                      </td><td> 30                                        </td><td>DILTIAZEM                                  </td><td>PBS Generic                                </td><td>...                                        </td><td>217                                        </td><td>SANOFI-AVENTIS                             </td><td> 6.72                                      </td><td>C08DB01                                    </td><td>C08DB                                      </td><td>C08D                                       </td><td>C08                                        </td><td>C                                          </td><td>NA                                         </td><td>   NA                                      </td></tr>\n",
       "\t<tr><td> 4541                                      </td><td>135                                        </td><td>KARV5                                      </td><td>KARVEZIDE TAB 300MG/12.5MG 30              </td><td>KARVEZIDE                                  </td><td>TAB                                        </td><td>300MG/12.5MG                               </td><td> 30                                        </td><td>IRBESARTAN/HYDROCHLOROTHIAZIDE             </td><td>PBS Substitutable                          </td><td>...                                        </td><td>217                                        </td><td>SANOFI-AVENTIS                             </td><td> 6.22                                      </td><td>C09DA04                                    </td><td>C09DA                                      </td><td>C09D                                       </td><td>C09                                        </td><td>C                                          </td><td>Hypertension                               </td><td> 4541                                      </td></tr>\n",
       "\t<tr><td> 8711                                      </td><td>135                                        </td><td>TRAM35                                     </td><td>TRAMEDO SR-TAB 100MG 20                    </td><td>TRAMEDO                                    </td><td>SR-TAB                                     </td><td>100MG                                      </td><td> 20                                        </td><td>TRAMADOL HYDROCHLORIDE                     </td><td>PBS Generic                                </td><td>...                                        </td><td> 14                                        </td><td>ALPHAPHARM                                 </td><td> 2.72                                      </td><td>N02AX02                                    </td><td>N02AX                                      </td><td>N02A                                       </td><td>N02                                        </td><td>N                                          </td><td>NA                                         </td><td>   NA                                      </td></tr>\n",
       "\t<tr><td>   99                                      </td><td>135                                        </td><td>ACIM6                                      </td><td>ACIMAX TAB 20MG 30                         </td><td>ACIMAX                                     </td><td>TAB                                        </td><td>20MG                                       </td><td> 30                                        </td><td>OMEPRAZOLE                                 </td><td>PBS Generic                                </td><td>...                                        </td><td> 14                                        </td><td>ALPHAPHARM                                 </td><td> 5.09                                      </td><td>A02BC01                                    </td><td>A02BC                                      </td><td>A02B                                       </td><td>A02                                        </td><td>A                                          </td><td>NA                                         </td><td>   NA                                      </td></tr>\n",
       "\t<tr><td> 6470                                      </td><td>135                                        </td><td>PANA8                                      </td><td>PANADOL OSTEO SR-TAB 665MG 96              </td><td>PANADOL OSTEO                              </td><td>SR-TAB                                     </td><td>665MG                                      </td><td> 96                                        </td><td>PARACETAMOL                                </td><td>NON PBS Substitutable                      </td><td>...                                        </td><td>105                                        </td><td>GLAXOSMITHKLINE CONSUMER                   </td><td> 4.44                                      </td><td>N02BE01                                    </td><td>N02BE                                      </td><td>N02B                                       </td><td>N02                                        </td><td>N                                          </td><td>NA                                         </td><td>   NA                                      </td></tr>\n",
       "\t<tr><td> 4541                                      </td><td>135                                        </td><td>KARV5                                      </td><td>KARVEZIDE TAB 300MG/12.5MG 30              </td><td>KARVEZIDE                                  </td><td>TAB                                        </td><td>300MG/12.5MG                               </td><td> 30                                        </td><td>IRBESARTAN/HYDROCHLOROTHIAZIDE             </td><td>PBS Substitutable                          </td><td>...                                        </td><td>217                                        </td><td>SANOFI-AVENTIS                             </td><td> 6.22                                      </td><td>C09DA04                                    </td><td>C09DA                                      </td><td>C09D                                       </td><td>C09                                        </td><td>C                                          </td><td>Hypertension                               </td><td> 4541                                      </td></tr>\n",
       "\t<tr><td>   99                                      </td><td>135                                        </td><td>ACIM6                                      </td><td>ACIMAX TAB 20MG 30                         </td><td>ACIMAX                                     </td><td>TAB                                        </td><td>20MG                                       </td><td> 30                                        </td><td>OMEPRAZOLE                                 </td><td>PBS Generic                                </td><td>...                                        </td><td> 14                                        </td><td>ALPHAPHARM                                 </td><td> 5.09                                      </td><td>A02BC01                                    </td><td>A02BC                                      </td><td>A02B                                       </td><td>A02                                        </td><td>A                                          </td><td>NA                                         </td><td>   NA                                      </td></tr>\n",
       "\t<tr><td>   99                                      </td><td>135                                        </td><td>ACIM6                                      </td><td>ACIMAX TAB 20MG 30                         </td><td>ACIMAX                                     </td><td>TAB                                        </td><td>20MG                                       </td><td> 30                                        </td><td>OMEPRAZOLE                                 </td><td>PBS Generic                                </td><td>...                                        </td><td> 14                                        </td><td>ALPHAPHARM                                 </td><td> 5.09                                      </td><td>A02BC01                                    </td><td>A02BC                                      </td><td>A02B                                       </td><td>A02                                        </td><td>A                                          </td><td>NA                                         </td><td>   NA                                      </td></tr>\n",
       "\t<tr><td>  862                                      </td><td>135                                        </td><td>AVAP2                                      </td><td>AVAPRO HCT TAB 300MG/12.5MG 30             </td><td>AVAPRO HCT                                 </td><td>TAB                                        </td><td>300MG/12.5MG                               </td><td> 30                                        </td><td>IRBESARTAN/HYDROCHLOROTHIAZIDE             </td><td>PBS Substitutable                          </td><td>...                                        </td><td>217                                        </td><td>SANOFI-AVENTIS                             </td><td> 6.22                                      </td><td>C09DA04                                    </td><td>C09DA                                      </td><td>C09D                                       </td><td>C09                                        </td><td>C                                          </td><td>Hypertension                               </td><td>  862                                      </td></tr>\n",
       "\t<tr><td> 1748                                      </td><td>135                                        </td><td>CIRC1                                      </td><td>CIRCADIN CR-TAB 2MG 21 21                  </td><td>CIRCADIN                                   </td><td>CR-TAB                                     </td><td>2MG                                        </td><td> 21                                        </td><td>MELATONIN                                  </td><td>NON PBS Branded                            </td><td>...                                        </td><td> 23                                        </td><td>ASPEN                                      </td><td>28.33                                      </td><td>N05CH01                                    </td><td>N05CH                                      </td><td>N05C                                       </td><td>N05                                        </td><td>N                                          </td><td>NA                                         </td><td>   NA                                      </td></tr>\n",
       "\t<tr><td>  862                                      </td><td>135                                        </td><td>AVAP2                                      </td><td>AVAPRO HCT TAB 300MG/12.5MG 30             </td><td>AVAPRO HCT                                 </td><td>TAB                                        </td><td>300MG/12.5MG                               </td><td> 30                                        </td><td>IRBESARTAN/HYDROCHLOROTHIAZIDE             </td><td>PBS Substitutable                          </td><td>...                                        </td><td>217                                        </td><td>SANOFI-AVENTIS                             </td><td> 6.22                                      </td><td>C09DA04                                    </td><td>C09DA                                      </td><td>C09D                                       </td><td>C09                                        </td><td>C                                          </td><td>Hypertension                               </td><td>  862                                      </td></tr>\n",
       "\t<tr><td> 8965                                      </td><td>135                                        </td><td>VASO2                                      </td><td>VASOCARDOL CD-CAP 180MG 30 30              </td><td>VASOCARDOL                                 </td><td>CD-CAP                                     </td><td>180MG                                      </td><td> 30                                        </td><td>DILTIAZEM                                  </td><td>PBS Generic                                </td><td>...                                        </td><td>217                                        </td><td>SANOFI-AVENTIS                             </td><td> 6.72                                      </td><td>C08DB01                                    </td><td>C08DB                                      </td><td>C08D                                       </td><td>C08                                        </td><td>C                                          </td><td>NA                                         </td><td>   NA                                      </td></tr>\n",
       "\t<tr><td> 8965                                      </td><td>135                                        </td><td>VASO2                                      </td><td>VASOCARDOL CD-CAP 180MG 30 30              </td><td>VASOCARDOL                                 </td><td>CD-CAP                                     </td><td>180MG                                      </td><td> 30                                        </td><td>DILTIAZEM                                  </td><td>PBS Generic                                </td><td>...                                        </td><td>217                                        </td><td>SANOFI-AVENTIS                             </td><td> 6.72                                      </td><td>C08DB01                                    </td><td>C08DB                                      </td><td>C08D                                       </td><td>C08                                        </td><td>C                                          </td><td>NA                                         </td><td>   NA                                      </td></tr>\n",
       "\t<tr><td> 6470                                      </td><td>135                                        </td><td>PANA8                                      </td><td>PANADOL OSTEO SR-TAB 665MG 96              </td><td>PANADOL OSTEO                              </td><td>SR-TAB                                     </td><td>665MG                                      </td><td> 96                                        </td><td>PARACETAMOL                                </td><td>NON PBS Substitutable                      </td><td>...                                        </td><td>105                                        </td><td>GLAXOSMITHKLINE CONSUMER                   </td><td> 4.44                                      </td><td>N02BE01                                    </td><td>N02BE                                      </td><td>N02B                                       </td><td>N02                                        </td><td>N                                          </td><td>NA                                         </td><td>   NA                                      </td></tr>\n",
       "\t<tr><td> 8711                                      </td><td>135                                        </td><td>TRAM35                                     </td><td>TRAMEDO SR-TAB 100MG 20                    </td><td>TRAMEDO                                    </td><td>SR-TAB                                     </td><td>100MG                                      </td><td> 20                                        </td><td>TRAMADOL HYDROCHLORIDE                     </td><td>PBS Generic                                </td><td>...                                        </td><td> 14                                        </td><td>ALPHAPHARM                                 </td><td> 2.72                                      </td><td>N02AX02                                    </td><td>N02AX                                      </td><td>N02A                                       </td><td>N02                                        </td><td>N                                          </td><td>NA                                         </td><td>   NA                                      </td></tr>\n",
       "\t<tr><td> 8965                                      </td><td>135                                        </td><td>VASO2                                      </td><td>VASOCARDOL CD-CAP 180MG 30 30              </td><td>VASOCARDOL                                 </td><td>CD-CAP                                     </td><td>180MG                                      </td><td> 30                                        </td><td>DILTIAZEM                                  </td><td>PBS Generic                                </td><td>...                                        </td><td>217                                        </td><td>SANOFI-AVENTIS                             </td><td> 6.72                                      </td><td>C08DB01                                    </td><td>C08DB                                      </td><td>C08D                                       </td><td>C08                                        </td><td>C                                          </td><td>NA                                         </td><td>   NA                                      </td></tr>\n",
       "\t<tr><td>   99                                      </td><td>135                                        </td><td>ACIM6                                      </td><td>ACIMAX TAB 20MG 30                         </td><td>ACIMAX                                     </td><td>TAB                                        </td><td>20MG                                       </td><td> 30                                        </td><td>OMEPRAZOLE                                 </td><td>PBS Generic                                </td><td>...                                        </td><td> 14                                        </td><td>ALPHAPHARM                                 </td><td> 5.09                                      </td><td>A02BC01                                    </td><td>A02BC                                      </td><td>A02B                                       </td><td>A02                                        </td><td>A                                          </td><td>NA                                         </td><td>   NA                                      </td></tr>\n",
       "\t<tr><td> 8711                                      </td><td>135                                        </td><td>TRAM35                                     </td><td>TRAMEDO SR-TAB 100MG 20                    </td><td>TRAMEDO                                    </td><td>SR-TAB                                     </td><td>100MG                                      </td><td> 20                                        </td><td>TRAMADOL HYDROCHLORIDE                     </td><td>PBS Generic                                </td><td>...                                        </td><td> 14                                        </td><td>ALPHAPHARM                                 </td><td> 2.72                                      </td><td>N02AX02                                    </td><td>N02AX                                      </td><td>N02A                                       </td><td>N02                                        </td><td>N                                          </td><td>NA                                         </td><td>   NA                                      </td></tr>\n",
       "\t<tr><td> 6470                                      </td><td>135                                        </td><td>PANA8                                      </td><td>PANADOL OSTEO SR-TAB 665MG 96              </td><td>PANADOL OSTEO                              </td><td>SR-TAB                                     </td><td>665MG                                      </td><td> 96                                        </td><td>PARACETAMOL                                </td><td>NON PBS Substitutable                      </td><td>...                                        </td><td>105                                        </td><td>GLAXOSMITHKLINE CONSUMER                   </td><td> 4.44                                      </td><td>N02BE01                                    </td><td>N02BE                                      </td><td>N02B                                       </td><td>N02                                        </td><td>N                                          </td><td>NA                                         </td><td>   NA                                      </td></tr>\n",
       "\t<tr><td>   99                                      </td><td>135                                        </td><td>ACIM6                                      </td><td>ACIMAX TAB 20MG 30                         </td><td>ACIMAX                                     </td><td>TAB                                        </td><td>20MG                                       </td><td> 30                                        </td><td>OMEPRAZOLE                                 </td><td>PBS Generic                                </td><td>...                                        </td><td> 14                                        </td><td>ALPHAPHARM                                 </td><td> 5.09                                      </td><td>A02BC01                                    </td><td>A02BC                                      </td><td>A02B                                       </td><td>A02                                        </td><td>A                                          </td><td>NA                                         </td><td>   NA                                      </td></tr>\n",
       "\t<tr><td>  615                                      </td><td>135                                        </td><td>APOO1                                      </td><td>OMEPRAZOLE (APO) TAB 20MG 30 BLISTER       </td><td>OMEPRAZOLE (APO)                           </td><td>TAB                                        </td><td>20MG                                       </td><td> 30                                        </td><td>OMEPRAZOLE                                 </td><td>PBS Generic                                </td><td>...                                        </td><td> 20                                        </td><td>APOTEX                                     </td><td> 5.09                                      </td><td>A02BC01                                    </td><td>A02BC                                      </td><td>A02B                                       </td><td>A02                                        </td><td>A                                          </td><td>NA                                         </td><td>   NA                                      </td></tr>\n",
       "\t<tr><td> 8711                                      </td><td>135                                        </td><td>TRAM35                                     </td><td>TRAMEDO SR-TAB 100MG 20                    </td><td>TRAMEDO                                    </td><td>SR-TAB                                     </td><td>100MG                                      </td><td> 20                                        </td><td>TRAMADOL HYDROCHLORIDE                     </td><td>PBS Generic                                </td><td>...                                        </td><td> 14                                        </td><td>ALPHAPHARM                                 </td><td> 2.72                                      </td><td>N02AX02                                    </td><td>N02AX                                      </td><td>N02A                                       </td><td>N02                                        </td><td>N                                          </td><td>NA                                         </td><td>   NA                                      </td></tr>\n",
       "\t<tr><td> 4541                                      </td><td>135                                        </td><td>KARV5                                      </td><td>KARVEZIDE TAB 300MG/12.5MG 30              </td><td>KARVEZIDE                                  </td><td>TAB                                        </td><td>300MG/12.5MG                               </td><td> 30                                        </td><td>IRBESARTAN/HYDROCHLOROTHIAZIDE             </td><td>PBS Substitutable                          </td><td>...                                        </td><td>217                                        </td><td>SANOFI-AVENTIS                             </td><td> 6.22                                      </td><td>C09DA04                                    </td><td>C09DA                                      </td><td>C09D                                       </td><td>C09                                        </td><td>C                                          </td><td>Hypertension                               </td><td> 4541                                      </td></tr>\n",
       "\t<tr><td>  862                                      </td><td>135                                        </td><td>AVAP2                                      </td><td>AVAPRO HCT TAB 300MG/12.5MG 30             </td><td>AVAPRO HCT                                 </td><td>TAB                                        </td><td>300MG/12.5MG                               </td><td> 30                                        </td><td>IRBESARTAN/HYDROCHLOROTHIAZIDE             </td><td>PBS Substitutable                          </td><td>...                                        </td><td>217                                        </td><td>SANOFI-AVENTIS                             </td><td> 6.22                                      </td><td>C09DA04                                    </td><td>C09DA                                      </td><td>C09D                                       </td><td>C09                                        </td><td>C                                          </td><td>Hypertension                               </td><td>  862                                      </td></tr>\n",
       "\t<tr><td>  862                                      </td><td>135                                        </td><td>AVAP2                                      </td><td>AVAPRO HCT TAB 300MG/12.5MG 30             </td><td>AVAPRO HCT                                 </td><td>TAB                                        </td><td>300MG/12.5MG                               </td><td> 30                                        </td><td>IRBESARTAN/HYDROCHLOROTHIAZIDE             </td><td>PBS Substitutable                          </td><td>...                                        </td><td>217                                        </td><td>SANOFI-AVENTIS                             </td><td> 6.22                                      </td><td>C09DA04                                    </td><td>C09DA                                      </td><td>C09D                                       </td><td>C09                                        </td><td>C                                          </td><td>Hypertension                               </td><td>  862                                      </td></tr>\n",
       "\t<tr><td> 8965                                      </td><td>135                                        </td><td>VASO2                                      </td><td>VASOCARDOL CD-CAP 180MG 30 30              </td><td>VASOCARDOL                                 </td><td>CD-CAP                                     </td><td>180MG                                      </td><td> 30                                        </td><td>DILTIAZEM                                  </td><td>PBS Generic                                </td><td>...                                        </td><td>217                                        </td><td>SANOFI-AVENTIS                             </td><td> 6.72                                      </td><td>C08DB01                                    </td><td>C08DB                                      </td><td>C08D                                       </td><td>C08                                        </td><td>C                                          </td><td>NA                                         </td><td>   NA                                      </td></tr>\n",
       "\t<tr><td> 8965                                      </td><td>135                                        </td><td>VASO2                                      </td><td>VASOCARDOL CD-CAP 180MG 30 30              </td><td>VASOCARDOL                                 </td><td>CD-CAP                                     </td><td>180MG                                      </td><td> 30                                        </td><td>DILTIAZEM                                  </td><td>PBS Generic                                </td><td>...                                        </td><td>217                                        </td><td>SANOFI-AVENTIS                             </td><td> 6.72                                      </td><td>C08DB01                                    </td><td>C08DB                                      </td><td>C08D                                       </td><td>C08                                        </td><td>C                                          </td><td>NA                                         </td><td>   NA                                      </td></tr>\n",
       "\t<tr><td> 8965                                      </td><td>135                                        </td><td>VASO2                                      </td><td>VASOCARDOL CD-CAP 180MG 30 30              </td><td>VASOCARDOL                                 </td><td>CD-CAP                                     </td><td>180MG                                      </td><td> 30                                        </td><td>DILTIAZEM                                  </td><td>PBS Generic                                </td><td>...                                        </td><td>217                                        </td><td>SANOFI-AVENTIS                             </td><td> 6.72                                      </td><td>C08DB01                                    </td><td>C08DB                                      </td><td>C08D                                       </td><td>C08                                        </td><td>C                                          </td><td>NA                                         </td><td>   NA                                      </td></tr>\n",
       "\t<tr><td>  862                                      </td><td>135                                        </td><td>AVAP2                                      </td><td>AVAPRO HCT TAB 300MG/12.5MG 30             </td><td>AVAPRO HCT                                 </td><td>TAB                                        </td><td>300MG/12.5MG                               </td><td> 30                                        </td><td>IRBESARTAN/HYDROCHLOROTHIAZIDE             </td><td>PBS Substitutable                          </td><td>...                                        </td><td>217                                        </td><td>SANOFI-AVENTIS                             </td><td> 6.22                                      </td><td>C09DA04                                    </td><td>C09DA                                      </td><td>C09D                                       </td><td>C09                                        </td><td>C                                          </td><td>Hypertension                               </td><td>  862                                      </td></tr>\n",
       "\t<tr><td>   99                                      </td><td>135                                        </td><td>ACIM6                                      </td><td>ACIMAX TAB 20MG 30                         </td><td>ACIMAX                                     </td><td>TAB                                        </td><td>20MG                                       </td><td> 30                                        </td><td>OMEPRAZOLE                                 </td><td>PBS Generic                                </td><td>...                                        </td><td> 14                                        </td><td>ALPHAPHARM                                 </td><td> 5.09                                      </td><td>A02BC01                                    </td><td>A02BC                                      </td><td>A02B                                       </td><td>A02                                        </td><td>A                                          </td><td>NA                                         </td><td>   NA                                      </td></tr>\n",
       "\t<tr><td> 8711                                      </td><td>135                                        </td><td>TRAM35                                     </td><td>TRAMEDO SR-TAB 100MG 20                    </td><td>TRAMEDO                                    </td><td>SR-TAB                                     </td><td>100MG                                      </td><td> 20                                        </td><td>TRAMADOL HYDROCHLORIDE                     </td><td>PBS Generic                                </td><td>...                                        </td><td> 14                                        </td><td>ALPHAPHARM                                 </td><td> 2.72                                      </td><td>N02AX02                                    </td><td>N02AX                                      </td><td>N02A                                       </td><td>N02                                        </td><td>N                                          </td><td>NA                                         </td><td>   NA                                      </td></tr>\n",
       "\t<tr><td> 8965                                      </td><td>135                                        </td><td>VASO2                                      </td><td>VASOCARDOL CD-CAP 180MG 30 30              </td><td>VASOCARDOL                                 </td><td>CD-CAP                                     </td><td>180MG                                      </td><td> 30                                        </td><td>DILTIAZEM                                  </td><td>PBS Generic                                </td><td>...                                        </td><td>217                                        </td><td>SANOFI-AVENTIS                             </td><td> 6.72                                      </td><td>C08DB01                                    </td><td>C08DB                                      </td><td>C08D                                       </td><td>C08                                        </td><td>C                                          </td><td>NA                                         </td><td>   NA                                      </td></tr>\n",
       "\t<tr><td> 8711                                      </td><td>135                                        </td><td>TRAM35                                     </td><td>TRAMEDO SR-TAB 100MG 20                    </td><td>TRAMEDO                                    </td><td>SR-TAB                                     </td><td>100MG                                      </td><td> 20                                        </td><td>TRAMADOL HYDROCHLORIDE                     </td><td>PBS Generic                                </td><td>...                                        </td><td> 14                                        </td><td>ALPHAPHARM                                 </td><td> 2.72                                      </td><td>N02AX02                                    </td><td>N02AX                                      </td><td>N02A                                       </td><td>N02                                        </td><td>N                                          </td><td>NA                                         </td><td>   NA                                      </td></tr>\n",
       "\t<tr><td>   99                                      </td><td>135                                        </td><td>ACIM6                                      </td><td>ACIMAX TAB 20MG 30                         </td><td>ACIMAX                                     </td><td>TAB                                        </td><td>20MG                                       </td><td> 30                                        </td><td>OMEPRAZOLE                                 </td><td>PBS Generic                                </td><td>...                                        </td><td> 14                                        </td><td>ALPHAPHARM                                 </td><td> 5.09                                      </td><td>A02BC01                                    </td><td>A02BC                                      </td><td>A02B                                       </td><td>A02                                        </td><td>A                                          </td><td>NA                                         </td><td>   NA                                      </td></tr>\n",
       "\t<tr><td> 8711                                      </td><td>135                                        </td><td>TRAM35                                     </td><td>TRAMEDO SR-TAB 100MG 20                    </td><td>TRAMEDO                                    </td><td>SR-TAB                                     </td><td>100MG                                      </td><td> 20                                        </td><td>TRAMADOL HYDROCHLORIDE                     </td><td>PBS Generic                                </td><td>...                                        </td><td> 14                                        </td><td>ALPHAPHARM                                 </td><td> 2.72                                      </td><td>N02AX02                                    </td><td>N02AX                                      </td><td>N02A                                       </td><td>N02                                        </td><td>N                                          </td><td>NA                                         </td><td>   NA                                      </td></tr>\n",
       "\t<tr><td>   99                                      </td><td>135                                        </td><td>ACIM6                                      </td><td>ACIMAX TAB 20MG 30                         </td><td>ACIMAX                                     </td><td>TAB                                        </td><td>20MG                                       </td><td> 30                                        </td><td>OMEPRAZOLE                                 </td><td>PBS Generic                                </td><td>...                                        </td><td> 14                                        </td><td>ALPHAPHARM                                 </td><td> 5.09                                      </td><td>A02BC01                                    </td><td>A02BC                                      </td><td>A02B                                       </td><td>A02                                        </td><td>A                                          </td><td>NA                                         </td><td>   NA                                      </td></tr>\n",
       "\t<tr><td> 6470                                      </td><td>135                                        </td><td>PANA8                                      </td><td>PANADOL OSTEO SR-TAB 665MG 96              </td><td>PANADOL OSTEO                              </td><td>SR-TAB                                     </td><td>665MG                                      </td><td> 96                                        </td><td>PARACETAMOL                                </td><td>NON PBS Substitutable                      </td><td>...                                        </td><td>105                                        </td><td>GLAXOSMITHKLINE CONSUMER                   </td><td> 4.44                                      </td><td>N02BE01                                    </td><td>N02BE                                      </td><td>N02B                                       </td><td>N02                                        </td><td>N                                          </td><td>NA                                         </td><td>   NA                                      </td></tr>\n",
       "</tbody>\n",
       "</table>\n"
      ],
      "text/latex": [
       "\\begin{tabular}{r|lllllllllllllllllllllll}\n",
       " Drug\\_ID & Patient\\_ID & MasterProductCode & MasterProductFullName & BrandName & FormCode & StrengthCode & PackSizeNumber & GenericIngredientName & EthicalSubCategoryName & ... & ManufacturerGroupID & ManufacturerGroupCode & ChemistListPrice & ATCLevel5Code & ATCLevel4Code & ATCLevel3Code & ATCLevel2Code & ATCLevel1Code & ChronicIllness & MasterProductID\\\\\n",
       "\\hline\n",
       "\t  3423                                       &   7                                         & FLOM2                                       & FLOMAXTRA SR-TAB 400MCG 30                  & FLOMAXTRA                                   & SR-TAB                                      & 400MCG                                      &  30                                         & TAMSULOSIN                                  & PBS Substitutable                           & ...                                         & 298                                         & ASTELLAS PHARMA AUSTRALIA                   & 51.76                                       & G04CA02                                     & G04CA                                       & G04C                                        & G04                                         & G                                           & Urology                                     &  3423                                      \\\\\n",
       "\t  3423                                       &   7                                         & FLOM2                                       & FLOMAXTRA SR-TAB 400MCG 30                  & FLOMAXTRA                                   & SR-TAB                                      & 400MCG                                      &  30                                         & TAMSULOSIN                                  & PBS Substitutable                           & ...                                         & 298                                         & ASTELLAS PHARMA AUSTRALIA                   & 51.76                                       & G04CA02                                     & G04CA                                       & G04C                                        & G04                                         & G                                           & Urology                                     &  3423                                      \\\\\n",
       "\t  2440                                       &   7                                         & DIAF6                                       & DIAFORMIN XR ER-TAB 500MG 120               & DIAFORMIN XR                                & ER-TAB                                      & 500MG                                       & 120                                         & METFORMIN HCL                               & PBS Generic                                 & ...                                         &  14                                         & ALPHAPHARM                                  &  4.31                                       & A10BA02                                     & A10BA                                       & A10B                                        & A10                                         & A                                           & Diabetes                                    &  2440                                      \\\\\n",
       "\t 12090                                       &   7                                         & METF51                                      & METFORMIN XR 500 (APO) ER-TAB 500MG 120 BTL & METFORMIN XR 500 (APO)                      & ER-TAB                                      & 500MG                                       & 120                                         & METFORMIN HCL                               & PBS Generic                                 & ...                                         &  20                                         & APOTEX                                      &  4.31                                       & A10BA02                                     & A10BA                                       & A10B                                        & A10                                         & A                                           & Diabetes                                    & 12090                                      \\\\\n",
       "\t  8965                                       & 135                                         & VASO2                                       & VASOCARDOL CD-CAP 180MG 30 30               & VASOCARDOL                                  & CD-CAP                                      & 180MG                                       &  30                                         & DILTIAZEM                                   & PBS Generic                                 & ...                                         & 217                                         & SANOFI-AVENTIS                              &  6.72                                       & C08DB01                                     & C08DB                                       & C08D                                        & C08                                         & C                                           & NA                                          &    NA                                      \\\\\n",
       "\t  6470                                       & 135                                         & PANA8                                       & PANADOL OSTEO SR-TAB 665MG 96               & PANADOL OSTEO                               & SR-TAB                                      & 665MG                                       &  96                                         & PARACETAMOL                                 & NON PBS Substitutable                       & ...                                         & 105                                         & GLAXOSMITHKLINE CONSUMER                    &  4.44                                       & N02BE01                                     & N02BE                                       & N02B                                        & N02                                         & N                                           & NA                                          &    NA                                      \\\\\n",
       "\t  8965                                       & 135                                         & VASO2                                       & VASOCARDOL CD-CAP 180MG 30 30               & VASOCARDOL                                  & CD-CAP                                      & 180MG                                       &  30                                         & DILTIAZEM                                   & PBS Generic                                 & ...                                         & 217                                         & SANOFI-AVENTIS                              &  6.72                                       & C08DB01                                     & C08DB                                       & C08D                                        & C08                                         & C                                           & NA                                          &    NA                                      \\\\\n",
       "\t  8711                                       & 135                                         & TRAM35                                      & TRAMEDO SR-TAB 100MG 20                     & TRAMEDO                                     & SR-TAB                                      & 100MG                                       &  20                                         & TRAMADOL HYDROCHLORIDE                      & PBS Generic                                 & ...                                         &  14                                         & ALPHAPHARM                                  &  2.72                                       & N02AX02                                     & N02AX                                       & N02A                                        & N02                                         & N                                           & NA                                          &    NA                                      \\\\\n",
       "\t  8711                                       & 135                                         & TRAM35                                      & TRAMEDO SR-TAB 100MG 20                     & TRAMEDO                                     & SR-TAB                                      & 100MG                                       &  20                                         & TRAMADOL HYDROCHLORIDE                      & PBS Generic                                 & ...                                         &  14                                         & ALPHAPHARM                                  &  2.72                                       & N02AX02                                     & N02AX                                       & N02A                                        & N02                                         & N                                           & NA                                          &    NA                                      \\\\\n",
       "\t   862                                       & 135                                         & AVAP2                                       & AVAPRO HCT TAB 300MG/12.5MG 30              & AVAPRO HCT                                  & TAB                                         & 300MG/12.5MG                                &  30                                         & IRBESARTAN/HYDROCHLOROTHIAZIDE              & PBS Substitutable                           & ...                                         & 217                                         & SANOFI-AVENTIS                              &  6.22                                       & C09DA04                                     & C09DA                                       & C09D                                        & C09                                         & C                                           & Hypertension                                &   862                                      \\\\\n",
       "\t  8965                                       & 135                                         & VASO2                                       & VASOCARDOL CD-CAP 180MG 30 30               & VASOCARDOL                                  & CD-CAP                                      & 180MG                                       &  30                                         & DILTIAZEM                                   & PBS Generic                                 & ...                                         & 217                                         & SANOFI-AVENTIS                              &  6.72                                       & C08DB01                                     & C08DB                                       & C08D                                        & C08                                         & C                                           & NA                                          &    NA                                      \\\\\n",
       "\t   862                                       & 135                                         & AVAP2                                       & AVAPRO HCT TAB 300MG/12.5MG 30              & AVAPRO HCT                                  & TAB                                         & 300MG/12.5MG                                &  30                                         & IRBESARTAN/HYDROCHLOROTHIAZIDE              & PBS Substitutable                           & ...                                         & 217                                         & SANOFI-AVENTIS                              &  6.22                                       & C09DA04                                     & C09DA                                       & C09D                                        & C09                                         & C                                           & Hypertension                                &   862                                      \\\\\n",
       "\t    99                                       & 135                                         & ACIM6                                       & ACIMAX TAB 20MG 30                          & ACIMAX                                      & TAB                                         & 20MG                                        &  30                                         & OMEPRAZOLE                                  & PBS Generic                                 & ...                                         &  14                                         & ALPHAPHARM                                  &  5.09                                       & A02BC01                                     & A02BC                                       & A02B                                        & A02                                         & A                                           & NA                                          &    NA                                      \\\\\n",
       "\t  8711                                       & 135                                         & TRAM35                                      & TRAMEDO SR-TAB 100MG 20                     & TRAMEDO                                     & SR-TAB                                      & 100MG                                       &  20                                         & TRAMADOL HYDROCHLORIDE                      & PBS Generic                                 & ...                                         &  14                                         & ALPHAPHARM                                  &  2.72                                       & N02AX02                                     & N02AX                                       & N02A                                        & N02                                         & N                                           & NA                                          &    NA                                      \\\\\n",
       "\t    99                                       & 135                                         & ACIM6                                       & ACIMAX TAB 20MG 30                          & ACIMAX                                      & TAB                                         & 20MG                                        &  30                                         & OMEPRAZOLE                                  & PBS Generic                                 & ...                                         &  14                                         & ALPHAPHARM                                  &  5.09                                       & A02BC01                                     & A02BC                                       & A02B                                        & A02                                         & A                                           & NA                                          &    NA                                      \\\\\n",
       "\t   862                                       & 135                                         & AVAP2                                       & AVAPRO HCT TAB 300MG/12.5MG 30              & AVAPRO HCT                                  & TAB                                         & 300MG/12.5MG                                &  30                                         & IRBESARTAN/HYDROCHLOROTHIAZIDE              & PBS Substitutable                           & ...                                         & 217                                         & SANOFI-AVENTIS                              &  6.22                                       & C09DA04                                     & C09DA                                       & C09D                                        & C09                                         & C                                           & Hypertension                                &   862                                      \\\\\n",
       "\t    99                                       & 135                                         & ACIM6                                       & ACIMAX TAB 20MG 30                          & ACIMAX                                      & TAB                                         & 20MG                                        &  30                                         & OMEPRAZOLE                                  & PBS Generic                                 & ...                                         &  14                                         & ALPHAPHARM                                  &  5.09                                       & A02BC01                                     & A02BC                                       & A02B                                        & A02                                         & A                                           & NA                                          &    NA                                      \\\\\n",
       "\t  8965                                       & 135                                         & VASO2                                       & VASOCARDOL CD-CAP 180MG 30 30               & VASOCARDOL                                  & CD-CAP                                      & 180MG                                       &  30                                         & DILTIAZEM                                   & PBS Generic                                 & ...                                         & 217                                         & SANOFI-AVENTIS                              &  6.72                                       & C08DB01                                     & C08DB                                       & C08D                                        & C08                                         & C                                           & NA                                          &    NA                                      \\\\\n",
       "\t  8711                                       & 135                                         & TRAM35                                      & TRAMEDO SR-TAB 100MG 20                     & TRAMEDO                                     & SR-TAB                                      & 100MG                                       &  20                                         & TRAMADOL HYDROCHLORIDE                      & PBS Generic                                 & ...                                         &  14                                         & ALPHAPHARM                                  &  2.72                                       & N02AX02                                     & N02AX                                       & N02A                                        & N02                                         & N                                           & NA                                          &    NA                                      \\\\\n",
       "\t  8965                                       & 135                                         & VASO2                                       & VASOCARDOL CD-CAP 180MG 30 30               & VASOCARDOL                                  & CD-CAP                                      & 180MG                                       &  30                                         & DILTIAZEM                                   & PBS Generic                                 & ...                                         & 217                                         & SANOFI-AVENTIS                              &  6.72                                       & C08DB01                                     & C08DB                                       & C08D                                        & C08                                         & C                                           & NA                                          &    NA                                      \\\\\n",
       "\t  6470                                       & 135                                         & PANA8                                       & PANADOL OSTEO SR-TAB 665MG 96               & PANADOL OSTEO                               & SR-TAB                                      & 665MG                                       &  96                                         & PARACETAMOL                                 & NON PBS Substitutable                       & ...                                         & 105                                         & GLAXOSMITHKLINE CONSUMER                    &  4.44                                       & N02BE01                                     & N02BE                                       & N02B                                        & N02                                         & N                                           & NA                                          &    NA                                      \\\\\n",
       "\t   862                                       & 135                                         & AVAP2                                       & AVAPRO HCT TAB 300MG/12.5MG 30              & AVAPRO HCT                                  & TAB                                         & 300MG/12.5MG                                &  30                                         & IRBESARTAN/HYDROCHLOROTHIAZIDE              & PBS Substitutable                           & ...                                         & 217                                         & SANOFI-AVENTIS                              &  6.22                                       & C09DA04                                     & C09DA                                       & C09D                                        & C09                                         & C                                           & Hypertension                                &   862                                      \\\\\n",
       "\t  8711                                       & 135                                         & TRAM35                                      & TRAMEDO SR-TAB 100MG 20                     & TRAMEDO                                     & SR-TAB                                      & 100MG                                       &  20                                         & TRAMADOL HYDROCHLORIDE                      & PBS Generic                                 & ...                                         &  14                                         & ALPHAPHARM                                  &  2.72                                       & N02AX02                                     & N02AX                                       & N02A                                        & N02                                         & N                                           & NA                                          &    NA                                      \\\\\n",
       "\t  8965                                       & 135                                         & VASO2                                       & VASOCARDOL CD-CAP 180MG 30 30               & VASOCARDOL                                  & CD-CAP                                      & 180MG                                       &  30                                         & DILTIAZEM                                   & PBS Generic                                 & ...                                         & 217                                         & SANOFI-AVENTIS                              &  6.72                                       & C08DB01                                     & C08DB                                       & C08D                                        & C08                                         & C                                           & NA                                          &    NA                                      \\\\\n",
       "\t  4541                                       & 135                                         & KARV5                                       & KARVEZIDE TAB 300MG/12.5MG 30               & KARVEZIDE                                   & TAB                                         & 300MG/12.5MG                                &  30                                         & IRBESARTAN/HYDROCHLOROTHIAZIDE              & PBS Substitutable                           & ...                                         & 217                                         & SANOFI-AVENTIS                              &  6.22                                       & C09DA04                                     & C09DA                                       & C09D                                        & C09                                         & C                                           & Hypertension                                &  4541                                      \\\\\n",
       "\t  8711                                       & 135                                         & TRAM35                                      & TRAMEDO SR-TAB 100MG 20                     & TRAMEDO                                     & SR-TAB                                      & 100MG                                       &  20                                         & TRAMADOL HYDROCHLORIDE                      & PBS Generic                                 & ...                                         &  14                                         & ALPHAPHARM                                  &  2.72                                       & N02AX02                                     & N02AX                                       & N02A                                        & N02                                         & N                                           & NA                                          &    NA                                      \\\\\n",
       "\t    99                                       & 135                                         & ACIM6                                       & ACIMAX TAB 20MG 30                          & ACIMAX                                      & TAB                                         & 20MG                                        &  30                                         & OMEPRAZOLE                                  & PBS Generic                                 & ...                                         &  14                                         & ALPHAPHARM                                  &  5.09                                       & A02BC01                                     & A02BC                                       & A02B                                        & A02                                         & A                                           & NA                                          &    NA                                      \\\\\n",
       "\t  6470                                       & 135                                         & PANA8                                       & PANADOL OSTEO SR-TAB 665MG 96               & PANADOL OSTEO                               & SR-TAB                                      & 665MG                                       &  96                                         & PARACETAMOL                                 & NON PBS Substitutable                       & ...                                         & 105                                         & GLAXOSMITHKLINE CONSUMER                    &  4.44                                       & N02BE01                                     & N02BE                                       & N02B                                        & N02                                         & N                                           & NA                                          &    NA                                      \\\\\n",
       "\t  4541                                       & 135                                         & KARV5                                       & KARVEZIDE TAB 300MG/12.5MG 30               & KARVEZIDE                                   & TAB                                         & 300MG/12.5MG                                &  30                                         & IRBESARTAN/HYDROCHLOROTHIAZIDE              & PBS Substitutable                           & ...                                         & 217                                         & SANOFI-AVENTIS                              &  6.22                                       & C09DA04                                     & C09DA                                       & C09D                                        & C09                                         & C                                           & Hypertension                                &  4541                                      \\\\\n",
       "\t    99                                       & 135                                         & ACIM6                                       & ACIMAX TAB 20MG 30                          & ACIMAX                                      & TAB                                         & 20MG                                        &  30                                         & OMEPRAZOLE                                  & PBS Generic                                 & ...                                         &  14                                         & ALPHAPHARM                                  &  5.09                                       & A02BC01                                     & A02BC                                       & A02B                                        & A02                                         & A                                           & NA                                          &    NA                                      \\\\\n",
       "\t    99                                       & 135                                         & ACIM6                                       & ACIMAX TAB 20MG 30                          & ACIMAX                                      & TAB                                         & 20MG                                        &  30                                         & OMEPRAZOLE                                  & PBS Generic                                 & ...                                         &  14                                         & ALPHAPHARM                                  &  5.09                                       & A02BC01                                     & A02BC                                       & A02B                                        & A02                                         & A                                           & NA                                          &    NA                                      \\\\\n",
       "\t   862                                       & 135                                         & AVAP2                                       & AVAPRO HCT TAB 300MG/12.5MG 30              & AVAPRO HCT                                  & TAB                                         & 300MG/12.5MG                                &  30                                         & IRBESARTAN/HYDROCHLOROTHIAZIDE              & PBS Substitutable                           & ...                                         & 217                                         & SANOFI-AVENTIS                              &  6.22                                       & C09DA04                                     & C09DA                                       & C09D                                        & C09                                         & C                                           & Hypertension                                &   862                                      \\\\\n",
       "\t  1748                                       & 135                                         & CIRC1                                       & CIRCADIN CR-TAB 2MG 21 21                   & CIRCADIN                                    & CR-TAB                                      & 2MG                                         &  21                                         & MELATONIN                                   & NON PBS Branded                             & ...                                         &  23                                         & ASPEN                                       & 28.33                                       & N05CH01                                     & N05CH                                       & N05C                                        & N05                                         & N                                           & NA                                          &    NA                                      \\\\\n",
       "\t   862                                       & 135                                         & AVAP2                                       & AVAPRO HCT TAB 300MG/12.5MG 30              & AVAPRO HCT                                  & TAB                                         & 300MG/12.5MG                                &  30                                         & IRBESARTAN/HYDROCHLOROTHIAZIDE              & PBS Substitutable                           & ...                                         & 217                                         & SANOFI-AVENTIS                              &  6.22                                       & C09DA04                                     & C09DA                                       & C09D                                        & C09                                         & C                                           & Hypertension                                &   862                                      \\\\\n",
       "\t  8965                                       & 135                                         & VASO2                                       & VASOCARDOL CD-CAP 180MG 30 30               & VASOCARDOL                                  & CD-CAP                                      & 180MG                                       &  30                                         & DILTIAZEM                                   & PBS Generic                                 & ...                                         & 217                                         & SANOFI-AVENTIS                              &  6.72                                       & C08DB01                                     & C08DB                                       & C08D                                        & C08                                         & C                                           & NA                                          &    NA                                      \\\\\n",
       "\t  8965                                       & 135                                         & VASO2                                       & VASOCARDOL CD-CAP 180MG 30 30               & VASOCARDOL                                  & CD-CAP                                      & 180MG                                       &  30                                         & DILTIAZEM                                   & PBS Generic                                 & ...                                         & 217                                         & SANOFI-AVENTIS                              &  6.72                                       & C08DB01                                     & C08DB                                       & C08D                                        & C08                                         & C                                           & NA                                          &    NA                                      \\\\\n",
       "\t  6470                                       & 135                                         & PANA8                                       & PANADOL OSTEO SR-TAB 665MG 96               & PANADOL OSTEO                               & SR-TAB                                      & 665MG                                       &  96                                         & PARACETAMOL                                 & NON PBS Substitutable                       & ...                                         & 105                                         & GLAXOSMITHKLINE CONSUMER                    &  4.44                                       & N02BE01                                     & N02BE                                       & N02B                                        & N02                                         & N                                           & NA                                          &    NA                                      \\\\\n",
       "\t  8711                                       & 135                                         & TRAM35                                      & TRAMEDO SR-TAB 100MG 20                     & TRAMEDO                                     & SR-TAB                                      & 100MG                                       &  20                                         & TRAMADOL HYDROCHLORIDE                      & PBS Generic                                 & ...                                         &  14                                         & ALPHAPHARM                                  &  2.72                                       & N02AX02                                     & N02AX                                       & N02A                                        & N02                                         & N                                           & NA                                          &    NA                                      \\\\\n",
       "\t  8965                                       & 135                                         & VASO2                                       & VASOCARDOL CD-CAP 180MG 30 30               & VASOCARDOL                                  & CD-CAP                                      & 180MG                                       &  30                                         & DILTIAZEM                                   & PBS Generic                                 & ...                                         & 217                                         & SANOFI-AVENTIS                              &  6.72                                       & C08DB01                                     & C08DB                                       & C08D                                        & C08                                         & C                                           & NA                                          &    NA                                      \\\\\n",
       "\t    99                                       & 135                                         & ACIM6                                       & ACIMAX TAB 20MG 30                          & ACIMAX                                      & TAB                                         & 20MG                                        &  30                                         & OMEPRAZOLE                                  & PBS Generic                                 & ...                                         &  14                                         & ALPHAPHARM                                  &  5.09                                       & A02BC01                                     & A02BC                                       & A02B                                        & A02                                         & A                                           & NA                                          &    NA                                      \\\\\n",
       "\t  8711                                       & 135                                         & TRAM35                                      & TRAMEDO SR-TAB 100MG 20                     & TRAMEDO                                     & SR-TAB                                      & 100MG                                       &  20                                         & TRAMADOL HYDROCHLORIDE                      & PBS Generic                                 & ...                                         &  14                                         & ALPHAPHARM                                  &  2.72                                       & N02AX02                                     & N02AX                                       & N02A                                        & N02                                         & N                                           & NA                                          &    NA                                      \\\\\n",
       "\t  6470                                       & 135                                         & PANA8                                       & PANADOL OSTEO SR-TAB 665MG 96               & PANADOL OSTEO                               & SR-TAB                                      & 665MG                                       &  96                                         & PARACETAMOL                                 & NON PBS Substitutable                       & ...                                         & 105                                         & GLAXOSMITHKLINE CONSUMER                    &  4.44                                       & N02BE01                                     & N02BE                                       & N02B                                        & N02                                         & N                                           & NA                                          &    NA                                      \\\\\n",
       "\t    99                                       & 135                                         & ACIM6                                       & ACIMAX TAB 20MG 30                          & ACIMAX                                      & TAB                                         & 20MG                                        &  30                                         & OMEPRAZOLE                                  & PBS Generic                                 & ...                                         &  14                                         & ALPHAPHARM                                  &  5.09                                       & A02BC01                                     & A02BC                                       & A02B                                        & A02                                         & A                                           & NA                                          &    NA                                      \\\\\n",
       "\t   615                                       & 135                                         & APOO1                                       & OMEPRAZOLE (APO) TAB 20MG 30 BLISTER        & OMEPRAZOLE (APO)                            & TAB                                         & 20MG                                        &  30                                         & OMEPRAZOLE                                  & PBS Generic                                 & ...                                         &  20                                         & APOTEX                                      &  5.09                                       & A02BC01                                     & A02BC                                       & A02B                                        & A02                                         & A                                           & NA                                          &    NA                                      \\\\\n",
       "\t  8711                                       & 135                                         & TRAM35                                      & TRAMEDO SR-TAB 100MG 20                     & TRAMEDO                                     & SR-TAB                                      & 100MG                                       &  20                                         & TRAMADOL HYDROCHLORIDE                      & PBS Generic                                 & ...                                         &  14                                         & ALPHAPHARM                                  &  2.72                                       & N02AX02                                     & N02AX                                       & N02A                                        & N02                                         & N                                           & NA                                          &    NA                                      \\\\\n",
       "\t  4541                                       & 135                                         & KARV5                                       & KARVEZIDE TAB 300MG/12.5MG 30               & KARVEZIDE                                   & TAB                                         & 300MG/12.5MG                                &  30                                         & IRBESARTAN/HYDROCHLOROTHIAZIDE              & PBS Substitutable                           & ...                                         & 217                                         & SANOFI-AVENTIS                              &  6.22                                       & C09DA04                                     & C09DA                                       & C09D                                        & C09                                         & C                                           & Hypertension                                &  4541                                      \\\\\n",
       "\t   862                                       & 135                                         & AVAP2                                       & AVAPRO HCT TAB 300MG/12.5MG 30              & AVAPRO HCT                                  & TAB                                         & 300MG/12.5MG                                &  30                                         & IRBESARTAN/HYDROCHLOROTHIAZIDE              & PBS Substitutable                           & ...                                         & 217                                         & SANOFI-AVENTIS                              &  6.22                                       & C09DA04                                     & C09DA                                       & C09D                                        & C09                                         & C                                           & Hypertension                                &   862                                      \\\\\n",
       "\t   862                                       & 135                                         & AVAP2                                       & AVAPRO HCT TAB 300MG/12.5MG 30              & AVAPRO HCT                                  & TAB                                         & 300MG/12.5MG                                &  30                                         & IRBESARTAN/HYDROCHLOROTHIAZIDE              & PBS Substitutable                           & ...                                         & 217                                         & SANOFI-AVENTIS                              &  6.22                                       & C09DA04                                     & C09DA                                       & C09D                                        & C09                                         & C                                           & Hypertension                                &   862                                      \\\\\n",
       "\t  8965                                       & 135                                         & VASO2                                       & VASOCARDOL CD-CAP 180MG 30 30               & VASOCARDOL                                  & CD-CAP                                      & 180MG                                       &  30                                         & DILTIAZEM                                   & PBS Generic                                 & ...                                         & 217                                         & SANOFI-AVENTIS                              &  6.72                                       & C08DB01                                     & C08DB                                       & C08D                                        & C08                                         & C                                           & NA                                          &    NA                                      \\\\\n",
       "\t  8965                                       & 135                                         & VASO2                                       & VASOCARDOL CD-CAP 180MG 30 30               & VASOCARDOL                                  & CD-CAP                                      & 180MG                                       &  30                                         & DILTIAZEM                                   & PBS Generic                                 & ...                                         & 217                                         & SANOFI-AVENTIS                              &  6.72                                       & C08DB01                                     & C08DB                                       & C08D                                        & C08                                         & C                                           & NA                                          &    NA                                      \\\\\n",
       "\t  8965                                       & 135                                         & VASO2                                       & VASOCARDOL CD-CAP 180MG 30 30               & VASOCARDOL                                  & CD-CAP                                      & 180MG                                       &  30                                         & DILTIAZEM                                   & PBS Generic                                 & ...                                         & 217                                         & SANOFI-AVENTIS                              &  6.72                                       & C08DB01                                     & C08DB                                       & C08D                                        & C08                                         & C                                           & NA                                          &    NA                                      \\\\\n",
       "\t   862                                       & 135                                         & AVAP2                                       & AVAPRO HCT TAB 300MG/12.5MG 30              & AVAPRO HCT                                  & TAB                                         & 300MG/12.5MG                                &  30                                         & IRBESARTAN/HYDROCHLOROTHIAZIDE              & PBS Substitutable                           & ...                                         & 217                                         & SANOFI-AVENTIS                              &  6.22                                       & C09DA04                                     & C09DA                                       & C09D                                        & C09                                         & C                                           & Hypertension                                &   862                                      \\\\\n",
       "\t    99                                       & 135                                         & ACIM6                                       & ACIMAX TAB 20MG 30                          & ACIMAX                                      & TAB                                         & 20MG                                        &  30                                         & OMEPRAZOLE                                  & PBS Generic                                 & ...                                         &  14                                         & ALPHAPHARM                                  &  5.09                                       & A02BC01                                     & A02BC                                       & A02B                                        & A02                                         & A                                           & NA                                          &    NA                                      \\\\\n",
       "\t  8711                                       & 135                                         & TRAM35                                      & TRAMEDO SR-TAB 100MG 20                     & TRAMEDO                                     & SR-TAB                                      & 100MG                                       &  20                                         & TRAMADOL HYDROCHLORIDE                      & PBS Generic                                 & ...                                         &  14                                         & ALPHAPHARM                                  &  2.72                                       & N02AX02                                     & N02AX                                       & N02A                                        & N02                                         & N                                           & NA                                          &    NA                                      \\\\\n",
       "\t  8965                                       & 135                                         & VASO2                                       & VASOCARDOL CD-CAP 180MG 30 30               & VASOCARDOL                                  & CD-CAP                                      & 180MG                                       &  30                                         & DILTIAZEM                                   & PBS Generic                                 & ...                                         & 217                                         & SANOFI-AVENTIS                              &  6.72                                       & C08DB01                                     & C08DB                                       & C08D                                        & C08                                         & C                                           & NA                                          &    NA                                      \\\\\n",
       "\t  8711                                       & 135                                         & TRAM35                                      & TRAMEDO SR-TAB 100MG 20                     & TRAMEDO                                     & SR-TAB                                      & 100MG                                       &  20                                         & TRAMADOL HYDROCHLORIDE                      & PBS Generic                                 & ...                                         &  14                                         & ALPHAPHARM                                  &  2.72                                       & N02AX02                                     & N02AX                                       & N02A                                        & N02                                         & N                                           & NA                                          &    NA                                      \\\\\n",
       "\t    99                                       & 135                                         & ACIM6                                       & ACIMAX TAB 20MG 30                          & ACIMAX                                      & TAB                                         & 20MG                                        &  30                                         & OMEPRAZOLE                                  & PBS Generic                                 & ...                                         &  14                                         & ALPHAPHARM                                  &  5.09                                       & A02BC01                                     & A02BC                                       & A02B                                        & A02                                         & A                                           & NA                                          &    NA                                      \\\\\n",
       "\t  8711                                       & 135                                         & TRAM35                                      & TRAMEDO SR-TAB 100MG 20                     & TRAMEDO                                     & SR-TAB                                      & 100MG                                       &  20                                         & TRAMADOL HYDROCHLORIDE                      & PBS Generic                                 & ...                                         &  14                                         & ALPHAPHARM                                  &  2.72                                       & N02AX02                                     & N02AX                                       & N02A                                        & N02                                         & N                                           & NA                                          &    NA                                      \\\\\n",
       "\t    99                                       & 135                                         & ACIM6                                       & ACIMAX TAB 20MG 30                          & ACIMAX                                      & TAB                                         & 20MG                                        &  30                                         & OMEPRAZOLE                                  & PBS Generic                                 & ...                                         &  14                                         & ALPHAPHARM                                  &  5.09                                       & A02BC01                                     & A02BC                                       & A02B                                        & A02                                         & A                                           & NA                                          &    NA                                      \\\\\n",
       "\t  6470                                       & 135                                         & PANA8                                       & PANADOL OSTEO SR-TAB 665MG 96               & PANADOL OSTEO                               & SR-TAB                                      & 665MG                                       &  96                                         & PARACETAMOL                                 & NON PBS Substitutable                       & ...                                         & 105                                         & GLAXOSMITHKLINE CONSUMER                    &  4.44                                       & N02BE01                                     & N02BE                                       & N02B                                        & N02                                         & N                                           & NA                                          &    NA                                      \\\\\n",
       "\\end{tabular}\n"
      ],
      "text/plain": [
       "   Drug_ID Patient_ID MasterProductCode\n",
       "1   3423     7        FLOM2            \n",
       "2   3423     7        FLOM2            \n",
       "3   2440     7        DIAF6            \n",
       "4  12090     7        METF51           \n",
       "5   8965   135        VASO2            \n",
       "6   6470   135        PANA8            \n",
       "7   8965   135        VASO2            \n",
       "8   8711   135        TRAM35           \n",
       "9   8711   135        TRAM35           \n",
       "10   862   135        AVAP2            \n",
       "11  8965   135        VASO2            \n",
       "12   862   135        AVAP2            \n",
       "13    99   135        ACIM6            \n",
       "14  8711   135        TRAM35           \n",
       "15    99   135        ACIM6            \n",
       "16   862   135        AVAP2            \n",
       "17    99   135        ACIM6            \n",
       "18  8965   135        VASO2            \n",
       "19  8711   135        TRAM35           \n",
       "20  8965   135        VASO2            \n",
       "21  6470   135        PANA8            \n",
       "22   862   135        AVAP2            \n",
       "23  8711   135        TRAM35           \n",
       "24  8965   135        VASO2            \n",
       "25  4541   135        KARV5            \n",
       "26  8711   135        TRAM35           \n",
       "27    99   135        ACIM6            \n",
       "28  6470   135        PANA8            \n",
       "29  4541   135        KARV5            \n",
       "30    99   135        ACIM6            \n",
       "31    99   135        ACIM6            \n",
       "32   862   135        AVAP2            \n",
       "33  1748   135        CIRC1            \n",
       "34   862   135        AVAP2            \n",
       "35  8965   135        VASO2            \n",
       "36  8965   135        VASO2            \n",
       "37  6470   135        PANA8            \n",
       "38  8711   135        TRAM35           \n",
       "39  8965   135        VASO2            \n",
       "40    99   135        ACIM6            \n",
       "41  8711   135        TRAM35           \n",
       "42  6470   135        PANA8            \n",
       "43    99   135        ACIM6            \n",
       "44   615   135        APOO1            \n",
       "45  8711   135        TRAM35           \n",
       "46  4541   135        KARV5            \n",
       "47   862   135        AVAP2            \n",
       "48   862   135        AVAP2            \n",
       "49  8965   135        VASO2            \n",
       "50  8965   135        VASO2            \n",
       "51  8965   135        VASO2            \n",
       "52   862   135        AVAP2            \n",
       "53    99   135        ACIM6            \n",
       "54  8711   135        TRAM35           \n",
       "55  8965   135        VASO2            \n",
       "56  8711   135        TRAM35           \n",
       "57    99   135        ACIM6            \n",
       "58  8711   135        TRAM35           \n",
       "59    99   135        ACIM6            \n",
       "60  6470   135        PANA8            \n",
       "   MasterProductFullName                       BrandName              FormCode\n",
       "1  FLOMAXTRA SR-TAB 400MCG 30                  FLOMAXTRA              SR-TAB  \n",
       "2  FLOMAXTRA SR-TAB 400MCG 30                  FLOMAXTRA              SR-TAB  \n",
       "3  DIAFORMIN XR ER-TAB 500MG 120               DIAFORMIN XR           ER-TAB  \n",
       "4  METFORMIN XR 500 (APO) ER-TAB 500MG 120 BTL METFORMIN XR 500 (APO) ER-TAB  \n",
       "5  VASOCARDOL CD-CAP 180MG 30 30               VASOCARDOL             CD-CAP  \n",
       "6  PANADOL OSTEO SR-TAB 665MG 96               PANADOL OSTEO          SR-TAB  \n",
       "7  VASOCARDOL CD-CAP 180MG 30 30               VASOCARDOL             CD-CAP  \n",
       "8  TRAMEDO SR-TAB 100MG 20                     TRAMEDO                SR-TAB  \n",
       "9  TRAMEDO SR-TAB 100MG 20                     TRAMEDO                SR-TAB  \n",
       "10 AVAPRO HCT TAB 300MG/12.5MG 30              AVAPRO HCT             TAB     \n",
       "11 VASOCARDOL CD-CAP 180MG 30 30               VASOCARDOL             CD-CAP  \n",
       "12 AVAPRO HCT TAB 300MG/12.5MG 30              AVAPRO HCT             TAB     \n",
       "13 ACIMAX TAB 20MG 30                          ACIMAX                 TAB     \n",
       "14 TRAMEDO SR-TAB 100MG 20                     TRAMEDO                SR-TAB  \n",
       "15 ACIMAX TAB 20MG 30                          ACIMAX                 TAB     \n",
       "16 AVAPRO HCT TAB 300MG/12.5MG 30              AVAPRO HCT             TAB     \n",
       "17 ACIMAX TAB 20MG 30                          ACIMAX                 TAB     \n",
       "18 VASOCARDOL CD-CAP 180MG 30 30               VASOCARDOL             CD-CAP  \n",
       "19 TRAMEDO SR-TAB 100MG 20                     TRAMEDO                SR-TAB  \n",
       "20 VASOCARDOL CD-CAP 180MG 30 30               VASOCARDOL             CD-CAP  \n",
       "21 PANADOL OSTEO SR-TAB 665MG 96               PANADOL OSTEO          SR-TAB  \n",
       "22 AVAPRO HCT TAB 300MG/12.5MG 30              AVAPRO HCT             TAB     \n",
       "23 TRAMEDO SR-TAB 100MG 20                     TRAMEDO                SR-TAB  \n",
       "24 VASOCARDOL CD-CAP 180MG 30 30               VASOCARDOL             CD-CAP  \n",
       "25 KARVEZIDE TAB 300MG/12.5MG 30               KARVEZIDE              TAB     \n",
       "26 TRAMEDO SR-TAB 100MG 20                     TRAMEDO                SR-TAB  \n",
       "27 ACIMAX TAB 20MG 30                          ACIMAX                 TAB     \n",
       "28 PANADOL OSTEO SR-TAB 665MG 96               PANADOL OSTEO          SR-TAB  \n",
       "29 KARVEZIDE TAB 300MG/12.5MG 30               KARVEZIDE              TAB     \n",
       "30 ACIMAX TAB 20MG 30                          ACIMAX                 TAB     \n",
       "31 ACIMAX TAB 20MG 30                          ACIMAX                 TAB     \n",
       "32 AVAPRO HCT TAB 300MG/12.5MG 30              AVAPRO HCT             TAB     \n",
       "33 CIRCADIN CR-TAB 2MG 21 21                   CIRCADIN               CR-TAB  \n",
       "34 AVAPRO HCT TAB 300MG/12.5MG 30              AVAPRO HCT             TAB     \n",
       "35 VASOCARDOL CD-CAP 180MG 30 30               VASOCARDOL             CD-CAP  \n",
       "36 VASOCARDOL CD-CAP 180MG 30 30               VASOCARDOL             CD-CAP  \n",
       "37 PANADOL OSTEO SR-TAB 665MG 96               PANADOL OSTEO          SR-TAB  \n",
       "38 TRAMEDO SR-TAB 100MG 20                     TRAMEDO                SR-TAB  \n",
       "39 VASOCARDOL CD-CAP 180MG 30 30               VASOCARDOL             CD-CAP  \n",
       "40 ACIMAX TAB 20MG 30                          ACIMAX                 TAB     \n",
       "41 TRAMEDO SR-TAB 100MG 20                     TRAMEDO                SR-TAB  \n",
       "42 PANADOL OSTEO SR-TAB 665MG 96               PANADOL OSTEO          SR-TAB  \n",
       "43 ACIMAX TAB 20MG 30                          ACIMAX                 TAB     \n",
       "44 OMEPRAZOLE (APO) TAB 20MG 30 BLISTER        OMEPRAZOLE (APO)       TAB     \n",
       "45 TRAMEDO SR-TAB 100MG 20                     TRAMEDO                SR-TAB  \n",
       "46 KARVEZIDE TAB 300MG/12.5MG 30               KARVEZIDE              TAB     \n",
       "47 AVAPRO HCT TAB 300MG/12.5MG 30              AVAPRO HCT             TAB     \n",
       "48 AVAPRO HCT TAB 300MG/12.5MG 30              AVAPRO HCT             TAB     \n",
       "49 VASOCARDOL CD-CAP 180MG 30 30               VASOCARDOL             CD-CAP  \n",
       "50 VASOCARDOL CD-CAP 180MG 30 30               VASOCARDOL             CD-CAP  \n",
       "51 VASOCARDOL CD-CAP 180MG 30 30               VASOCARDOL             CD-CAP  \n",
       "52 AVAPRO HCT TAB 300MG/12.5MG 30              AVAPRO HCT             TAB     \n",
       "53 ACIMAX TAB 20MG 30                          ACIMAX                 TAB     \n",
       "54 TRAMEDO SR-TAB 100MG 20                     TRAMEDO                SR-TAB  \n",
       "55 VASOCARDOL CD-CAP 180MG 30 30               VASOCARDOL             CD-CAP  \n",
       "56 TRAMEDO SR-TAB 100MG 20                     TRAMEDO                SR-TAB  \n",
       "57 ACIMAX TAB 20MG 30                          ACIMAX                 TAB     \n",
       "58 TRAMEDO SR-TAB 100MG 20                     TRAMEDO                SR-TAB  \n",
       "59 ACIMAX TAB 20MG 30                          ACIMAX                 TAB     \n",
       "60 PANADOL OSTEO SR-TAB 665MG 96               PANADOL OSTEO          SR-TAB  \n",
       "   StrengthCode PackSizeNumber GenericIngredientName         \n",
       "1  400MCG        30            TAMSULOSIN                    \n",
       "2  400MCG        30            TAMSULOSIN                    \n",
       "3  500MG        120            METFORMIN HCL                 \n",
       "4  500MG        120            METFORMIN HCL                 \n",
       "5  180MG         30            DILTIAZEM                     \n",
       "6  665MG         96            PARACETAMOL                   \n",
       "7  180MG         30            DILTIAZEM                     \n",
       "8  100MG         20            TRAMADOL HYDROCHLORIDE        \n",
       "9  100MG         20            TRAMADOL HYDROCHLORIDE        \n",
       "10 300MG/12.5MG  30            IRBESARTAN/HYDROCHLOROTHIAZIDE\n",
       "11 180MG         30            DILTIAZEM                     \n",
       "12 300MG/12.5MG  30            IRBESARTAN/HYDROCHLOROTHIAZIDE\n",
       "13 20MG          30            OMEPRAZOLE                    \n",
       "14 100MG         20            TRAMADOL HYDROCHLORIDE        \n",
       "15 20MG          30            OMEPRAZOLE                    \n",
       "16 300MG/12.5MG  30            IRBESARTAN/HYDROCHLOROTHIAZIDE\n",
       "17 20MG          30            OMEPRAZOLE                    \n",
       "18 180MG         30            DILTIAZEM                     \n",
       "19 100MG         20            TRAMADOL HYDROCHLORIDE        \n",
       "20 180MG         30            DILTIAZEM                     \n",
       "21 665MG         96            PARACETAMOL                   \n",
       "22 300MG/12.5MG  30            IRBESARTAN/HYDROCHLOROTHIAZIDE\n",
       "23 100MG         20            TRAMADOL HYDROCHLORIDE        \n",
       "24 180MG         30            DILTIAZEM                     \n",
       "25 300MG/12.5MG  30            IRBESARTAN/HYDROCHLOROTHIAZIDE\n",
       "26 100MG         20            TRAMADOL HYDROCHLORIDE        \n",
       "27 20MG          30            OMEPRAZOLE                    \n",
       "28 665MG         96            PARACETAMOL                   \n",
       "29 300MG/12.5MG  30            IRBESARTAN/HYDROCHLOROTHIAZIDE\n",
       "30 20MG          30            OMEPRAZOLE                    \n",
       "31 20MG          30            OMEPRAZOLE                    \n",
       "32 300MG/12.5MG  30            IRBESARTAN/HYDROCHLOROTHIAZIDE\n",
       "33 2MG           21            MELATONIN                     \n",
       "34 300MG/12.5MG  30            IRBESARTAN/HYDROCHLOROTHIAZIDE\n",
       "35 180MG         30            DILTIAZEM                     \n",
       "36 180MG         30            DILTIAZEM                     \n",
       "37 665MG         96            PARACETAMOL                   \n",
       "38 100MG         20            TRAMADOL HYDROCHLORIDE        \n",
       "39 180MG         30            DILTIAZEM                     \n",
       "40 20MG          30            OMEPRAZOLE                    \n",
       "41 100MG         20            TRAMADOL HYDROCHLORIDE        \n",
       "42 665MG         96            PARACETAMOL                   \n",
       "43 20MG          30            OMEPRAZOLE                    \n",
       "44 20MG          30            OMEPRAZOLE                    \n",
       "45 100MG         20            TRAMADOL HYDROCHLORIDE        \n",
       "46 300MG/12.5MG  30            IRBESARTAN/HYDROCHLOROTHIAZIDE\n",
       "47 300MG/12.5MG  30            IRBESARTAN/HYDROCHLOROTHIAZIDE\n",
       "48 300MG/12.5MG  30            IRBESARTAN/HYDROCHLOROTHIAZIDE\n",
       "49 180MG         30            DILTIAZEM                     \n",
       "50 180MG         30            DILTIAZEM                     \n",
       "51 180MG         30            DILTIAZEM                     \n",
       "52 300MG/12.5MG  30            IRBESARTAN/HYDROCHLOROTHIAZIDE\n",
       "53 20MG          30            OMEPRAZOLE                    \n",
       "54 100MG         20            TRAMADOL HYDROCHLORIDE        \n",
       "55 180MG         30            DILTIAZEM                     \n",
       "56 100MG         20            TRAMADOL HYDROCHLORIDE        \n",
       "57 20MG          30            OMEPRAZOLE                    \n",
       "58 100MG         20            TRAMADOL HYDROCHLORIDE        \n",
       "59 20MG          30            OMEPRAZOLE                    \n",
       "60 665MG         96            PARACETAMOL                   \n",
       "   EthicalSubCategoryName ... ManufacturerGroupID ManufacturerGroupCode    \n",
       "1  PBS Substitutable      ... 298                 ASTELLAS PHARMA AUSTRALIA\n",
       "2  PBS Substitutable      ... 298                 ASTELLAS PHARMA AUSTRALIA\n",
       "3  PBS Generic            ...  14                 ALPHAPHARM               \n",
       "4  PBS Generic            ...  20                 APOTEX                   \n",
       "5  PBS Generic            ... 217                 SANOFI-AVENTIS           \n",
       "6  NON PBS Substitutable  ... 105                 GLAXOSMITHKLINE CONSUMER \n",
       "7  PBS Generic            ... 217                 SANOFI-AVENTIS           \n",
       "8  PBS Generic            ...  14                 ALPHAPHARM               \n",
       "9  PBS Generic            ...  14                 ALPHAPHARM               \n",
       "10 PBS Substitutable      ... 217                 SANOFI-AVENTIS           \n",
       "11 PBS Generic            ... 217                 SANOFI-AVENTIS           \n",
       "12 PBS Substitutable      ... 217                 SANOFI-AVENTIS           \n",
       "13 PBS Generic            ...  14                 ALPHAPHARM               \n",
       "14 PBS Generic            ...  14                 ALPHAPHARM               \n",
       "15 PBS Generic            ...  14                 ALPHAPHARM               \n",
       "16 PBS Substitutable      ... 217                 SANOFI-AVENTIS           \n",
       "17 PBS Generic            ...  14                 ALPHAPHARM               \n",
       "18 PBS Generic            ... 217                 SANOFI-AVENTIS           \n",
       "19 PBS Generic            ...  14                 ALPHAPHARM               \n",
       "20 PBS Generic            ... 217                 SANOFI-AVENTIS           \n",
       "21 NON PBS Substitutable  ... 105                 GLAXOSMITHKLINE CONSUMER \n",
       "22 PBS Substitutable      ... 217                 SANOFI-AVENTIS           \n",
       "23 PBS Generic            ...  14                 ALPHAPHARM               \n",
       "24 PBS Generic            ... 217                 SANOFI-AVENTIS           \n",
       "25 PBS Substitutable      ... 217                 SANOFI-AVENTIS           \n",
       "26 PBS Generic            ...  14                 ALPHAPHARM               \n",
       "27 PBS Generic            ...  14                 ALPHAPHARM               \n",
       "28 NON PBS Substitutable  ... 105                 GLAXOSMITHKLINE CONSUMER \n",
       "29 PBS Substitutable      ... 217                 SANOFI-AVENTIS           \n",
       "30 PBS Generic            ...  14                 ALPHAPHARM               \n",
       "31 PBS Generic            ...  14                 ALPHAPHARM               \n",
       "32 PBS Substitutable      ... 217                 SANOFI-AVENTIS           \n",
       "33 NON PBS Branded        ...  23                 ASPEN                    \n",
       "34 PBS Substitutable      ... 217                 SANOFI-AVENTIS           \n",
       "35 PBS Generic            ... 217                 SANOFI-AVENTIS           \n",
       "36 PBS Generic            ... 217                 SANOFI-AVENTIS           \n",
       "37 NON PBS Substitutable  ... 105                 GLAXOSMITHKLINE CONSUMER \n",
       "38 PBS Generic            ...  14                 ALPHAPHARM               \n",
       "39 PBS Generic            ... 217                 SANOFI-AVENTIS           \n",
       "40 PBS Generic            ...  14                 ALPHAPHARM               \n",
       "41 PBS Generic            ...  14                 ALPHAPHARM               \n",
       "42 NON PBS Substitutable  ... 105                 GLAXOSMITHKLINE CONSUMER \n",
       "43 PBS Generic            ...  14                 ALPHAPHARM               \n",
       "44 PBS Generic            ...  20                 APOTEX                   \n",
       "45 PBS Generic            ...  14                 ALPHAPHARM               \n",
       "46 PBS Substitutable      ... 217                 SANOFI-AVENTIS           \n",
       "47 PBS Substitutable      ... 217                 SANOFI-AVENTIS           \n",
       "48 PBS Substitutable      ... 217                 SANOFI-AVENTIS           \n",
       "49 PBS Generic            ... 217                 SANOFI-AVENTIS           \n",
       "50 PBS Generic            ... 217                 SANOFI-AVENTIS           \n",
       "51 PBS Generic            ... 217                 SANOFI-AVENTIS           \n",
       "52 PBS Substitutable      ... 217                 SANOFI-AVENTIS           \n",
       "53 PBS Generic            ...  14                 ALPHAPHARM               \n",
       "54 PBS Generic            ...  14                 ALPHAPHARM               \n",
       "55 PBS Generic            ... 217                 SANOFI-AVENTIS           \n",
       "56 PBS Generic            ...  14                 ALPHAPHARM               \n",
       "57 PBS Generic            ...  14                 ALPHAPHARM               \n",
       "58 PBS Generic            ...  14                 ALPHAPHARM               \n",
       "59 PBS Generic            ...  14                 ALPHAPHARM               \n",
       "60 NON PBS Substitutable  ... 105                 GLAXOSMITHKLINE CONSUMER \n",
       "   ChemistListPrice ATCLevel5Code ATCLevel4Code ATCLevel3Code ATCLevel2Code\n",
       "1  51.76            G04CA02       G04CA         G04C          G04          \n",
       "2  51.76            G04CA02       G04CA         G04C          G04          \n",
       "3   4.31            A10BA02       A10BA         A10B          A10          \n",
       "4   4.31            A10BA02       A10BA         A10B          A10          \n",
       "5   6.72            C08DB01       C08DB         C08D          C08          \n",
       "6   4.44            N02BE01       N02BE         N02B          N02          \n",
       "7   6.72            C08DB01       C08DB         C08D          C08          \n",
       "8   2.72            N02AX02       N02AX         N02A          N02          \n",
       "9   2.72            N02AX02       N02AX         N02A          N02          \n",
       "10  6.22            C09DA04       C09DA         C09D          C09          \n",
       "11  6.72            C08DB01       C08DB         C08D          C08          \n",
       "12  6.22            C09DA04       C09DA         C09D          C09          \n",
       "13  5.09            A02BC01       A02BC         A02B          A02          \n",
       "14  2.72            N02AX02       N02AX         N02A          N02          \n",
       "15  5.09            A02BC01       A02BC         A02B          A02          \n",
       "16  6.22            C09DA04       C09DA         C09D          C09          \n",
       "17  5.09            A02BC01       A02BC         A02B          A02          \n",
       "18  6.72            C08DB01       C08DB         C08D          C08          \n",
       "19  2.72            N02AX02       N02AX         N02A          N02          \n",
       "20  6.72            C08DB01       C08DB         C08D          C08          \n",
       "21  4.44            N02BE01       N02BE         N02B          N02          \n",
       "22  6.22            C09DA04       C09DA         C09D          C09          \n",
       "23  2.72            N02AX02       N02AX         N02A          N02          \n",
       "24  6.72            C08DB01       C08DB         C08D          C08          \n",
       "25  6.22            C09DA04       C09DA         C09D          C09          \n",
       "26  2.72            N02AX02       N02AX         N02A          N02          \n",
       "27  5.09            A02BC01       A02BC         A02B          A02          \n",
       "28  4.44            N02BE01       N02BE         N02B          N02          \n",
       "29  6.22            C09DA04       C09DA         C09D          C09          \n",
       "30  5.09            A02BC01       A02BC         A02B          A02          \n",
       "31  5.09            A02BC01       A02BC         A02B          A02          \n",
       "32  6.22            C09DA04       C09DA         C09D          C09          \n",
       "33 28.33            N05CH01       N05CH         N05C          N05          \n",
       "34  6.22            C09DA04       C09DA         C09D          C09          \n",
       "35  6.72            C08DB01       C08DB         C08D          C08          \n",
       "36  6.72            C08DB01       C08DB         C08D          C08          \n",
       "37  4.44            N02BE01       N02BE         N02B          N02          \n",
       "38  2.72            N02AX02       N02AX         N02A          N02          \n",
       "39  6.72            C08DB01       C08DB         C08D          C08          \n",
       "40  5.09            A02BC01       A02BC         A02B          A02          \n",
       "41  2.72            N02AX02       N02AX         N02A          N02          \n",
       "42  4.44            N02BE01       N02BE         N02B          N02          \n",
       "43  5.09            A02BC01       A02BC         A02B          A02          \n",
       "44  5.09            A02BC01       A02BC         A02B          A02          \n",
       "45  2.72            N02AX02       N02AX         N02A          N02          \n",
       "46  6.22            C09DA04       C09DA         C09D          C09          \n",
       "47  6.22            C09DA04       C09DA         C09D          C09          \n",
       "48  6.22            C09DA04       C09DA         C09D          C09          \n",
       "49  6.72            C08DB01       C08DB         C08D          C08          \n",
       "50  6.72            C08DB01       C08DB         C08D          C08          \n",
       "51  6.72            C08DB01       C08DB         C08D          C08          \n",
       "52  6.22            C09DA04       C09DA         C09D          C09          \n",
       "53  5.09            A02BC01       A02BC         A02B          A02          \n",
       "54  2.72            N02AX02       N02AX         N02A          N02          \n",
       "55  6.72            C08DB01       C08DB         C08D          C08          \n",
       "56  2.72            N02AX02       N02AX         N02A          N02          \n",
       "57  5.09            A02BC01       A02BC         A02B          A02          \n",
       "58  2.72            N02AX02       N02AX         N02A          N02          \n",
       "59  5.09            A02BC01       A02BC         A02B          A02          \n",
       "60  4.44            N02BE01       N02BE         N02B          N02          \n",
       "   ATCLevel1Code ChronicIllness MasterProductID\n",
       "1  G             Urology         3423          \n",
       "2  G             Urology         3423          \n",
       "3  A             Diabetes        2440          \n",
       "4  A             Diabetes       12090          \n",
       "5  C             NA                NA          \n",
       "6  N             NA                NA          \n",
       "7  C             NA                NA          \n",
       "8  N             NA                NA          \n",
       "9  N             NA                NA          \n",
       "10 C             Hypertension     862          \n",
       "11 C             NA                NA          \n",
       "12 C             Hypertension     862          \n",
       "13 A             NA                NA          \n",
       "14 N             NA                NA          \n",
       "15 A             NA                NA          \n",
       "16 C             Hypertension     862          \n",
       "17 A             NA                NA          \n",
       "18 C             NA                NA          \n",
       "19 N             NA                NA          \n",
       "20 C             NA                NA          \n",
       "21 N             NA                NA          \n",
       "22 C             Hypertension     862          \n",
       "23 N             NA                NA          \n",
       "24 C             NA                NA          \n",
       "25 C             Hypertension    4541          \n",
       "26 N             NA                NA          \n",
       "27 A             NA                NA          \n",
       "28 N             NA                NA          \n",
       "29 C             Hypertension    4541          \n",
       "30 A             NA                NA          \n",
       "31 A             NA                NA          \n",
       "32 C             Hypertension     862          \n",
       "33 N             NA                NA          \n",
       "34 C             Hypertension     862          \n",
       "35 C             NA                NA          \n",
       "36 C             NA                NA          \n",
       "37 N             NA                NA          \n",
       "38 N             NA                NA          \n",
       "39 C             NA                NA          \n",
       "40 A             NA                NA          \n",
       "41 N             NA                NA          \n",
       "42 N             NA                NA          \n",
       "43 A             NA                NA          \n",
       "44 A             NA                NA          \n",
       "45 N             NA                NA          \n",
       "46 C             Hypertension    4541          \n",
       "47 C             Hypertension     862          \n",
       "48 C             Hypertension     862          \n",
       "49 C             NA                NA          \n",
       "50 C             NA                NA          \n",
       "51 C             NA                NA          \n",
       "52 C             Hypertension     862          \n",
       "53 A             NA                NA          \n",
       "54 N             NA                NA          \n",
       "55 C             NA                NA          \n",
       "56 N             NA                NA          \n",
       "57 A             NA                NA          \n",
       "58 N             NA                NA          \n",
       "59 A             NA                NA          \n",
       "60 N             NA                NA          "
      ]
     },
     "metadata": {},
     "output_type": "display_data"
    }
   ],
   "source": [
    "sample_transactions %>% select(Drug_ID, Patient_ID) %>%\n",
    "    left_join(., Drug_LookUp, by = c('Drug_ID'='MasterProductID')) %>%\n",
    "    left_join(., ChronicIllness_LookUp) %>% head(60)"
   ]
  },
  {
   "cell_type": "code",
   "execution_count": 90,
   "metadata": {
    "collapsed": false
   },
   "outputs": [
    {
     "data": {},
     "metadata": {},
     "output_type": "display_data"
    },
    {
     "data": {
      "image/png": "[encoded data removed]",
      "text/plain": [
       "plot without title"
      ]
     },
     "metadata": {},
     "output_type": "display_data"
    }
   ],
   "source": [
    "#Using GGPLOT, plot the Base World Map\n",
    "mp <- NULL\n",
    "mapWorld <- borders(\"world2\", colour=\"gray50\") # create a layer of borders\n",
    "mp <- ggplot() + mapWorld + xlim(100, 160) + ylim(-50,0)\n",
    "mp\n",
    "#Now Layer the cities on top\n",
    "#mp <- mp+ geom_point(aes(x=visit.x, y=visit.y) ,color=\"blue\", size=3) \n",
    "#mp"
   ]
  },
  {
   "cell_type": "code",
   "execution_count": 96,
   "metadata": {
    "collapsed": false
   },
   "outputs": [
    {
     "name": "stderr",
     "output_type": "stream",
     "text": [
      "Warning message:\n",
      "\"Removed 1065 rows containing non-finite values (stat_density2d).\""
     ]
    },
    {
     "data": {},
     "metadata": {},
     "output_type": "display_data"
    },
    {
     "data": {
      "image/png": "[encoded data removed]",
      "text/plain": [
       "plot without title"
      ]
     },
     "metadata": {},
     "output_type": "display_data"
    }
   ],
   "source": [
    "sample_transactions %>% \n",
    "    left_join(patients, by='Patient_ID') %>% \n",
    "    left_join(postcodes %>% group_by(postcode) %>%\n",
    "                summarise(lat = mean(lat),\n",
    "                  long = mean(lon))\n",
    "        , by='postcode') %>% \n",
    "    left_join(., ChronicIllness_LookUp, by = c('Drug_ID'='MasterProductID')) %>%\n",
    " filter( long > 140, long < 160, lat < -35 ) %>% \n",
    " filter( ChronicIllness == 'Diabetes') %>%\n",
    "ggplot(aes(long,lat)) + mapWorld + geom_density_2d() + xlim(143.5, 146) + ylim(-39,-37)"
   ]
  },
  {
   "cell_type": "code",
   "execution_count": 65,
   "metadata": {
    "collapsed": false
   },
   "outputs": [
    {
     "name": "stderr",
     "output_type": "stream",
     "text": [
      "\n",
      "Attaching package: 'ggmap'\n",
      "\n",
      "The following object is masked from 'package:plotly':\n",
      "\n",
      "    wind\n",
      "\n",
      "Loading required package: sp\n",
      "Checking rgeos availability: FALSE\n",
      " \tNote: when rgeos is not available, polygon geometry \tcomputations in maptools depend on gpclib,\n",
      " \twhich has a restricted licence. It is disabled by default;\n",
      " \tto enable gpclib, type gpclibPermit()\n",
      "\n",
      "Attaching package: 'maps'\n",
      "\n",
      "The following object is masked from 'package:purrr':\n",
      "\n",
      "    map\n",
      "\n"
     ]
    }
   ],
   "source": [
    "library(\"ggmap\")\n",
    "library(maptools)\n",
    "library(maps)"
   ]
  },
  {
   "cell_type": "code",
   "execution_count": 66,
   "metadata": {
    "collapsed": false
   },
   "outputs": [
    {
     "name": "stderr",
     "output_type": "stream",
     "text": [
      "Information from URL : http://maps.googleapis.com/maps/api/geocode/json?address=SFO&sensor=false\n",
      "Information from URL : http://maps.googleapis.com/maps/api/geocode/json?address=Chennai&sensor=false\n",
      "Information from URL : http://maps.googleapis.com/maps/api/geocode/json?address=London&sensor=false\n",
      "Information from URL : http://maps.googleapis.com/maps/api/geocode/json?address=Melbourne&sensor=false\n",
      "Information from URL : http://maps.googleapis.com/maps/api/geocode/json?address=Johannesbury,%20SA&sensor=false\n"
     ]
    }
   ],
   "source": [
    "visited <- c(\"Australia3100\", \"Australia3000\", \"Australia3168\", \"Australia3165\")\n",
    "ll.visited <- geocode(visited)\n",
    "visit.x <- ll.visited$lon\n",
    "visit.y <- ll.visited$lat"
   ]
  },
  {
   "cell_type": "code",
   "execution_count": 72,
   "metadata": {
    "collapsed": true
   },
   "outputs": [],
   "source": [
    "? map "
   ]
  },
  {
   "cell_type": "code",
   "execution_count": 73,
   "metadata": {
    "collapsed": false
   },
   "outputs": [
    {
     "data": {},
     "metadata": {},
     "output_type": "display_data"
    }
   ],
   "source": [
    "help(package='maps')"
   ]
  },
  {
   "cell_type": "code",
   "execution_count": 108,
   "metadata": {
    "collapsed": false
   },
   "outputs": [
    {
     "name": "stderr",
     "output_type": "stream",
     "text": [
      "Warning message:\n",
      "\"Removed 147 rows containing non-finite values (stat_density2d).\""
     ]
    },
    {
     "data": {},
     "metadata": {},
     "output_type": "display_data"
    },
    {
     "data": {
      "image/png": "[encoded data removed]",
      "text/plain": [
       "plot without title"
      ]
     },
     "metadata": {},
     "output_type": "display_data"
    }
   ],
   "source": [
    "sample_transactions %>% \n",
    "    left_join(patients, by='Patient_ID') %>% \n",
    "    left_join(postcodes %>% group_by(postcode) %>%\n",
    "                summarise(lat = mean(lat),\n",
    "                  long = mean(lon))\n",
    "        , by='postcode') %>% \n",
    "    left_join(., ChronicIllness_LookUp, by = c('Drug_ID'='MasterProductID')) %>%\n",
    " filter( long > 140, long < 160, lat < -35 ) %>% \n",
    " mutate( is_diabetes = case_when(.$ChronicIllness == 'Diabetes' ~ 1,\n",
    "                      T ~ 0) ) %>%\n",
    "group_by(Patient_ID) %>%\n",
    "summarise(\n",
    "    lat = mean(lat, na.rm = T),\n",
    "    long = mean(long, na.rm = T),\n",
    "    is_diabetes = max(is_diabetes, na.rm = T)\n",
    ") %>%\n",
    "#filter(is_diabetes == 1) %>%\n",
    "ggplot(aes(long,lat)) + mapWorld + geom_density_2d() + xlim(143.5, 146) + ylim(-39,-37)"
   ]
  },
  {
   "cell_type": "code",
   "execution_count": 109,
   "metadata": {
    "collapsed": true
   },
   "outputs": [],
   "source": [
    "? case_when"
   ]
  },
  {
   "cell_type": "code",
   "execution_count": null,
   "metadata": {
    "collapsed": true
   },
   "outputs": [],
   "source": []
  }
 ],
 "metadata": {
  "anaconda-cloud": {},
  "kernelspec": {
   "display_name": "R",
   "language": "R",
   "name": "ir"
  },
  "language_info": {
   "codemirror_mode": "r",
   "file_extension": ".r",
   "mimetype": "text/x-r-source",
   "name": "R",
   "pygments_lexer": "r",
   "version": "3.3.2"
  }
 },
 "nbformat": 4,
 "nbformat_minor": 2
}

{
 "cells": [
  {
   "cell_type": "code",
   "execution_count": 2,
   "metadata": {
    "collapsed": false
   },
   "outputs": [
    {
     "name": "stderr",
     "output_type": "stream",
     "text": [
      "Loading tidyverse: ggplot2\n",
      "Loading tidyverse: tibble\n",
      "Loading tidyverse: tidyr\n",
      "Loading tidyverse: readr\n",
      "Loading tidyverse: purrr\n",
      "Loading tidyverse: dplyr\n",
      "Conflicts with tidy packages ---------------------------------------------------\n",
      "filter(): dplyr, stats\n",
      "lag():    dplyr, stats\n",
      "\n",
      "Attaching package: 'plotly'\n",
      "\n",
      "The following object is masked from 'package:ggplot2':\n",
      "\n",
      "    last_plot\n",
      "\n",
      "The following object is masked from 'package:stats':\n",
      "\n",
      "    filter\n",
      "\n",
      "The following object is masked from 'package:graphics':\n",
      "\n",
      "    layout\n",
      "\n",
      "Loading required package: lattice\n",
      "\n",
      "Attaching package: 'caret'\n",
      "\n",
      "The following object is masked from 'package:purrr':\n",
      "\n",
      "    lift\n",
      "\n"
     ]
    }
   ],
   "source": [
    "library(tidyverse)\n",
    "library(feather)\n",
    "library(plotly)\n",
    "library(caret)"
   ]
  },
  {
   "cell_type": "code",
   "execution_count": 3,
   "metadata": {
    "collapsed": false
   },
   "outputs": [
    {
     "name": "stderr",
     "output_type": "stream",
     "text": [
      "Warning message:\n",
      "\"Coercing int64 to double\"Warning message:\n",
      "\"Coercing int64 to double\"Warning message:\n",
      "\"Coercing int64 to double\"Warning message:\n",
      "\"Coercing int64 to double\"Warning message:\n",
      "\"Coercing int64 to double\"Warning message:\n",
      "\"Coercing int64 to double\"Warning message:\n",
      "\"Coercing int64 to double\"Warning message:\n",
      "\"Coercing int64 to double\"Warning message:\n",
      "\"Coercing int64 to double\""
     ]
    }
   ],
   "source": [
    "transactions <- feather::read_feather('..\\\\Data\\\\Datathon_2017\\\\Transactions_Frame')"
   ]
  },
  {
   "cell_type": "code",
   "execution_count": 4,
   "metadata": {
    "collapsed": false
   },
   "outputs": [
    {
     "name": "stderr",
     "output_type": "stream",
     "text": [
      "Warning message:\n",
      "\"Coercing int64 to double\"Warning message:\n",
      "\"Coercing int64 to double\"Warning message:\n",
      "\"Coercing int64 to double\"Warning message:\n",
      "\"Coercing int64 to double\"Warning message:\n",
      "\"Coercing int64 to double\"Warning message:\n",
      "\"Coercing int64 to double\"Warning message:\n",
      "\"Coercing int64 to double\"Warning message:\n",
      "\"Coercing int64 to double\""
     ]
    }
   ],
   "source": [
    "ATC_Lookup <- feather::read_feather('..\\\\Data\\\\Datathon_2017\\\\ATC_Lookup')\n",
    "ChronicIllness_LookUp <- feather::read_feather('..\\\\Data\\\\Datathon_2017\\\\ChronicIllness_LookUp')\n",
    "Drug_LookUp <- feather::read_feather('..\\\\Data\\\\Datathon_2017\\\\Drug_LookUp')\n",
    "patients <- feather::read_feather('..\\\\Data\\\\Datathon_2017\\\\patients')\n",
    "stores <- feather::read_feather('..\\\\Data\\\\Datathon_2017\\\\stores')"
   ]
  },
  {
   "cell_type": "code",
   "execution_count": 5,
   "metadata": {
    "collapsed": false
   },
   "outputs": [],
   "source": [
    "patient_ids <- transactions %>% select(Patient_ID) %>% unique\n",
    "sample_patient_id_ix <- sample(1:nrow(patient_ids))[1:(0.01*nrow(patient_ids))]\n",
    "sample_patient_ids <- patient_ids[sample_patient_id_ix,]"
   ]
  },
  {
   "cell_type": "code",
   "execution_count": 24,
   "metadata": {
    "collapsed": false
   },
   "outputs": [],
   "source": [
    "sample_transactions <- transactions %>% filter(Patient_ID %in% sample_patient_ids$Patient_ID)"
   ]
  },
  {
   "cell_type": "code",
   "execution_count": 25,
   "metadata": {
    "collapsed": false
   },
   "outputs": [
    {
     "data": {
      "text/html": [
       "567495"
      ],
      "text/latex": [
       "567495"
      ],
      "text/markdown": [
       "567495"
      ],
      "text/plain": [
       "[1] 567495"
      ]
     },
     "metadata": {},
     "output_type": "display_data"
    }
   ],
   "source": [
    "nrow(sample_transactions)"
   ]
  },
  {
   "cell_type": "code",
   "execution_count": null,
   "metadata": {
    "collapsed": true
   },
   "outputs": [],
   "source": []
  }
 ],
 "metadata": {
  "kernelspec": {
   "display_name": "R",
   "language": "R",
   "name": "ir"
  },
  "language_info": {
   "codemirror_mode": "r",
   "file_extension": ".r",
   "mimetype": "text/x-r-source",
   "name": "R",
   "pygments_lexer": "r",
   "version": "3.3.2"
  }
 },
 "nbformat": 4,
 "nbformat_minor": 2
}

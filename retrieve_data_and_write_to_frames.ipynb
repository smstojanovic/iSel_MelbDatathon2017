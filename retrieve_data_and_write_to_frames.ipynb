{
 "cells": [
  {
   "cell_type": "code",
   "execution_count": 3,
   "metadata": {
    "collapsed": false
   },
   "outputs": [],
   "source": [
    "import os\n",
    "import numpy as np\n",
    "import pandas as pd\n",
    "import feather\n",
    "from tqdm import tqdm"
   ]
  },
  {
   "cell_type": "markdown",
   "metadata": {},
   "source": [
    "# Transaction directory for files"
   ]
  },
  {
   "cell_type": "code",
   "execution_count": 4,
   "metadata": {
    "collapsed": true
   },
   "outputs": [],
   "source": [
    "TRANS_DIR = '..\\\\Data\\\\Datathon_2017\\\\Transactions'"
   ]
  },
  {
   "cell_type": "code",
   "execution_count": 7,
   "metadata": {
    "collapsed": false
   },
   "outputs": [],
   "source": [
    "trans_files = [TRANS_DIR+'\\\\'+file for file in os.listdir(TRANS_DIR)]"
   ]
  },
  {
   "cell_type": "code",
   "execution_count": 8,
   "metadata": {
    "collapsed": false
   },
   "outputs": [
    {
     "data": {
      "text/plain": [
       "['..\\\\Data\\\\Datathon_2017\\\\Transactions\\\\patients_1.txt',\n",
       " '..\\\\Data\\\\Datathon_2017\\\\Transactions\\\\patients_10.txt',\n",
       " '..\\\\Data\\\\Datathon_2017\\\\Transactions\\\\patients_11.txt',\n",
       " '..\\\\Data\\\\Datathon_2017\\\\Transactions\\\\patients_12.txt',\n",
       " '..\\\\Data\\\\Datathon_2017\\\\Transactions\\\\patients_13.txt',\n",
       " '..\\\\Data\\\\Datathon_2017\\\\Transactions\\\\patients_14.txt',\n",
       " '..\\\\Data\\\\Datathon_2017\\\\Transactions\\\\patients_15.txt',\n",
       " '..\\\\Data\\\\Datathon_2017\\\\Transactions\\\\patients_16.txt',\n",
       " '..\\\\Data\\\\Datathon_2017\\\\Transactions\\\\patients_17.txt',\n",
       " '..\\\\Data\\\\Datathon_2017\\\\Transactions\\\\patients_18.txt',\n",
       " '..\\\\Data\\\\Datathon_2017\\\\Transactions\\\\patients_19.txt',\n",
       " '..\\\\Data\\\\Datathon_2017\\\\Transactions\\\\patients_2.txt',\n",
       " '..\\\\Data\\\\Datathon_2017\\\\Transactions\\\\patients_20.txt',\n",
       " '..\\\\Data\\\\Datathon_2017\\\\Transactions\\\\patients_21.txt',\n",
       " '..\\\\Data\\\\Datathon_2017\\\\Transactions\\\\patients_22.txt',\n",
       " '..\\\\Data\\\\Datathon_2017\\\\Transactions\\\\patients_23.txt',\n",
       " '..\\\\Data\\\\Datathon_2017\\\\Transactions\\\\patients_24.txt',\n",
       " '..\\\\Data\\\\Datathon_2017\\\\Transactions\\\\patients_25.txt',\n",
       " '..\\\\Data\\\\Datathon_2017\\\\Transactions\\\\patients_26.txt',\n",
       " '..\\\\Data\\\\Datathon_2017\\\\Transactions\\\\patients_27.txt',\n",
       " '..\\\\Data\\\\Datathon_2017\\\\Transactions\\\\patients_28.txt',\n",
       " '..\\\\Data\\\\Datathon_2017\\\\Transactions\\\\patients_29.txt',\n",
       " '..\\\\Data\\\\Datathon_2017\\\\Transactions\\\\patients_3.txt',\n",
       " '..\\\\Data\\\\Datathon_2017\\\\Transactions\\\\patients_30.txt',\n",
       " '..\\\\Data\\\\Datathon_2017\\\\Transactions\\\\patients_31.txt',\n",
       " '..\\\\Data\\\\Datathon_2017\\\\Transactions\\\\patients_32.txt',\n",
       " '..\\\\Data\\\\Datathon_2017\\\\Transactions\\\\patients_33.txt',\n",
       " '..\\\\Data\\\\Datathon_2017\\\\Transactions\\\\patients_34.txt',\n",
       " '..\\\\Data\\\\Datathon_2017\\\\Transactions\\\\patients_35.txt',\n",
       " '..\\\\Data\\\\Datathon_2017\\\\Transactions\\\\patients_36.txt',\n",
       " '..\\\\Data\\\\Datathon_2017\\\\Transactions\\\\patients_37.txt',\n",
       " '..\\\\Data\\\\Datathon_2017\\\\Transactions\\\\patients_39.txt',\n",
       " '..\\\\Data\\\\Datathon_2017\\\\Transactions\\\\patients_4.txt',\n",
       " '..\\\\Data\\\\Datathon_2017\\\\Transactions\\\\patients_40.txt',\n",
       " '..\\\\Data\\\\Datathon_2017\\\\Transactions\\\\patients_41.txt',\n",
       " '..\\\\Data\\\\Datathon_2017\\\\Transactions\\\\patients_42.txt',\n",
       " '..\\\\Data\\\\Datathon_2017\\\\Transactions\\\\patients_43.txt',\n",
       " '..\\\\Data\\\\Datathon_2017\\\\Transactions\\\\patients_44.txt',\n",
       " '..\\\\Data\\\\Datathon_2017\\\\Transactions\\\\patients_45.txt',\n",
       " '..\\\\Data\\\\Datathon_2017\\\\Transactions\\\\patients_46.txt',\n",
       " '..\\\\Data\\\\Datathon_2017\\\\Transactions\\\\patients_47.txt',\n",
       " '..\\\\Data\\\\Datathon_2017\\\\Transactions\\\\patients_48.txt',\n",
       " '..\\\\Data\\\\Datathon_2017\\\\Transactions\\\\patients_49.txt',\n",
       " '..\\\\Data\\\\Datathon_2017\\\\Transactions\\\\patients_5.txt',\n",
       " '..\\\\Data\\\\Datathon_2017\\\\Transactions\\\\patients_50.txt',\n",
       " '..\\\\Data\\\\Datathon_2017\\\\Transactions\\\\patients_6.txt',\n",
       " '..\\\\Data\\\\Datathon_2017\\\\Transactions\\\\patients_7.txt',\n",
       " '..\\\\Data\\\\Datathon_2017\\\\Transactions\\\\patients_8.txt']"
      ]
     },
     "execution_count": 8,
     "metadata": {},
     "output_type": "execute_result"
    }
   ],
   "source": [
    "trans_files"
   ]
  },
  {
   "cell_type": "code",
   "execution_count": 9,
   "metadata": {
    "collapsed": false
   },
   "outputs": [],
   "source": [
    "df = pd.read_table('..\\\\Data\\\\Datathon_2017\\\\Transactions\\\\patients_1.txt')"
   ]
  },
  {
   "cell_type": "code",
   "execution_count": null,
   "metadata": {
    "collapsed": false
   },
   "outputs": [
    {
     "name": "stderr",
     "output_type": "stream",
     "text": [
      " 31%|█████████████▏                            | 15/48 [01:35<04:28,  8.14s/it]"
     ]
    }
   ],
   "source": [
    "for file_name in tqdm(trans_files):\n",
    "    if file_name != '..\\\\Data\\\\Datathon_2017\\\\Transactions\\\\patients_1.txt':\n",
    "        df = pd.concat([df,pd.read_table(file_name)])"
   ]
  },
  {
   "cell_type": "code",
   "execution_count": 17,
   "metadata": {
    "collapsed": false
   },
   "outputs": [],
   "source": [
    "feather.write_dataframe(df, '..\\\\Data\\\\Datathon_2017\\\\Transactions_Frame')"
   ]
  },
  {
   "cell_type": "code",
   "execution_count": 20,
   "metadata": {
    "collapsed": false
   },
   "outputs": [],
   "source": [
    "ATC_Lookup = pd.read_table('..\\\\Data\\\\Datathon_2017\\\\Lookups\\\\ATC_LookUp.txt')\n",
    "ChronicIllness_LookUp = pd.read_table('..\\\\Data\\\\Datathon_2017\\\\Lookups\\\\ChronicIllness_LookUp.txt')\n",
    "Drug_LookUp = pd.read_table('..\\\\Data\\\\Datathon_2017\\\\Lookups\\\\Drug_LookUp.txt')\n",
    "patients = pd.read_table('..\\\\Data\\\\Datathon_2017\\\\Lookups\\\\patients.txt')\n",
    "stores = pd.read_table('..\\\\Data\\\\Datathon_2017\\\\Lookups\\\\stores.txt')"
   ]
  },
  {
   "cell_type": "code",
   "execution_count": 21,
   "metadata": {
    "collapsed": true
   },
   "outputs": [],
   "source": [
    "feather.write_dataframe(ATC_Lookup, '..\\\\Data\\\\Datathon_2017\\\\ATC_Lookup')\n",
    "feather.write_dataframe(ChronicIllness_LookUp, '..\\\\Data\\\\Datathon_2017\\\\ChronicIllness_LookUp')\n",
    "feather.write_dataframe(Drug_LookUp, '..\\\\Data\\\\Datathon_2017\\\\Drug_LookUp')\n",
    "feather.write_dataframe(patients, '..\\\\Data\\\\Datathon_2017\\\\patients')\n",
    "feather.write_dataframe(stores, '..\\\\Data\\\\Datathon_2017\\\\stores')"
   ]
  },
  {
   "cell_type": "code",
   "execution_count": null,
   "metadata": {
    "collapsed": true
   },
   "outputs": [],
   "source": []
  }
 ],
 "metadata": {
  "anaconda-cloud": {},
  "kernelspec": {
   "display_name": "Python [conda root]",
   "language": "python",
   "name": "conda-root-py"
  },
  "language_info": {
   "codemirror_mode": {
    "name": "ipython",
    "version": 2
   },
   "file_extension": ".py",
   "mimetype": "text/x-python",
   "name": "python",
   "nbconvert_exporter": "python",
   "pygments_lexer": "ipython2",
   "version": "2.7.12"
  }
 },
 "nbformat": 4,
 "nbformat_minor": 2
}
